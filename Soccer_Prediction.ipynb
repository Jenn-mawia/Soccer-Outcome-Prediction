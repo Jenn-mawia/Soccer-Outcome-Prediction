{
  "nbformat": 4,
  "nbformat_minor": 0,
  "metadata": {
    "colab": {
      "name": "Soccer_Prediction.ipynb",
      "provenance": [],
      "collapsed_sections": [],
      "toc_visible": true,
      "authorship_tag": "ABX9TyNYPocVwuetUuPLme4CVpGA",
      "include_colab_link": true
    },
    "kernelspec": {
      "name": "python3",
      "display_name": "Python 3"
    }
  },
  "cells": [
    {
      "cell_type": "markdown",
      "metadata": {
        "id": "view-in-github",
        "colab_type": "text"
      },
      "source": [
        "<a href=\"https://colab.research.google.com/github/Jenn-mawia/Soccer-Outcome-Prediction/blob/master/Soccer_Prediction.ipynb\" target=\"_parent\"><img src=\"https://colab.research.google.com/assets/colab-badge.svg\" alt=\"Open In Colab\"/></a>"
      ]
    },
    {
      "cell_type": "markdown",
      "metadata": {
        "id": "SjjdziOMtx8o"
      },
      "source": [
        "# **Football Match Results Prediction**"
      ]
    },
    {
      "cell_type": "markdown",
      "metadata": {
        "id": "-BC25ncjtxyU"
      },
      "source": [
        "# Defining the question"
      ]
    },
    {
      "cell_type": "markdown",
      "metadata": {
        "id": "-920mOMw9Jgq"
      },
      "source": [
        ">You have been recruited as a football analyst in a company - Mchezopesa Ltd and tasked to accomplish the task below.\n",
        "\n",
        ">Predict the result of a game between two teams 1, and 2 respectively based on who's home and who's away, and whether or not the game is friendly. The model should also include the ranks of both teams "
      ]
    },
    {
      "cell_type": "markdown",
      "metadata": {
        "id": "f26Wb_j3uRg_"
      },
      "source": [
        "## Specifying the question"
      ]
    },
    {
      "cell_type": "markdown",
      "metadata": {
        "id": "6NfMA--d8tw6"
      },
      "source": [
        ">There are two approaches to this question:\n",
        "- Polynomial approach\n",
        " - predict the number of goals the home team scores\n",
        " - predict the number of goals the away team scores\n",
        "- Logistic approach\n",
        " - figure out from the home's perspective if the game is a Win, Loss or Draw (W, L, D)"
      ]
    },
    {
      "cell_type": "markdown",
      "metadata": {
        "id": "_7Lv1Q7Ltxne"
      },
      "source": [
        "## Defining the metrics of success"
      ]
    },
    {
      "cell_type": "markdown",
      "metadata": {
        "id": "wwcsRfWsxinj"
      },
      "source": [
        "This project will be a success if the models created are able to predict the outcome of a game played with minimum overfitting and underfitting"
      ]
    },
    {
      "cell_type": "markdown",
      "metadata": {
        "id": "gUPp4D4ytxcx"
      },
      "source": [
        "## Understanding the context"
      ]
    },
    {
      "cell_type": "markdown",
      "metadata": {
        "id": "kpa4PFow-k4d"
      },
      "source": [
        ">It has been the order of the day to try and know before hand the results/outcome of a football match. This is usually done by looking at factors such as the respective ranks for both teams, their previous and total points accumulated over the years, the weather conditions during the time of play, home and away records(soccer teams tend to perform better at home). \n",
        "\n",
        ">Ranking of teams began in 1992, therefore matches that were played before 1992 did not have ranks assigned to the teams. \n",
        "Another important thing to note is that neutral grounds mean that both teams played away(none of the teams played as home team).\n"
      ]
    },
    {
      "cell_type": "markdown",
      "metadata": {
        "id": "EIkHe7xBtxRk"
      },
      "source": [
        "## Experimental design"
      ]
    },
    {
      "cell_type": "markdown",
      "metadata": {
        "id": "yRCazBTyARxu"
      },
      "source": [
        "The following is the order in which I went about this project:\n",
        "\n",
        "- Data sourcing & understanding\n",
        "- Checking the data (shape, number of records, datatypes)\n",
        "- Data cleaning procedures (handling null values, duplicates entries, outliers, anomalies)\n",
        "- Exploratory data analysis (Univariate, Bivariate analyses)\n",
        "- Implementing the solution\n",
        " - Building the models\n",
        "    - Polynomial approach\n",
        "    - Logistic approach\n",
        "  -Cross-validating the models\n",
        "  - Residuals & heteroskedasticity test\n",
        "  - Hyperparameter tuning using RandomSearchCV method\n",
        "- Challenging the solution\n",
        "-Follow up questions"
      ]
    },
    {
      "cell_type": "markdown",
      "metadata": {
        "id": "H2RldkN0txDQ"
      },
      "source": [
        "## Data Relevance"
      ]
    },
    {
      "cell_type": "markdown",
      "metadata": {
        "id": "vKUHOaDBAbfM"
      },
      "source": [
        "The data available for this project is relevant to the needs of predicting the outcome of a soccer match. The data comprises two datasets which can be downloaded on this [link](https://drive.google.com/open?id=1BYUqaEEnFtAe5lvzJh9lpVpR2MAvERUc). One of the datasets contains results from matches i.e. the scores for both teams after a match, while the other dataset contains the ranks of these teams, year of ranking and other information that helps during ranking such as weighted points of a team over 1, 2, 3 years\n",
        "\n",
        "These fields are appropriate and will influence the outcome of the project"
      ]
    },
    {
      "cell_type": "markdown",
      "metadata": {
        "id": "WjolL-x6sE1u"
      },
      "source": [
        "# Importing Libraries"
      ]
    },
    {
      "cell_type": "code",
      "metadata": {
        "id": "6-rsPBeHr-kL",
        "outputId": "0a33c4bf-dc7b-495a-d46d-302c79cdd397",
        "colab": {
          "base_uri": "https://localhost:8080/",
          "height": 74
        }
      },
      "source": [
        "import pandas as pd\n",
        "import numpy as np\n",
        "import matplotlib.pyplot as plt\n",
        "import seaborn as sns\n"
      ],
      "execution_count": null,
      "outputs": [
        {
          "output_type": "stream",
          "text": [
            "/usr/local/lib/python3.6/dist-packages/statsmodels/tools/_testing.py:19: FutureWarning: pandas.util.testing is deprecated. Use the functions in the public API at pandas.testing instead.\n",
            "  import pandas.util.testing as tm\n"
          ],
          "name": "stderr"
        }
      ]
    },
    {
      "cell_type": "markdown",
      "metadata": {
        "id": "OYgI1OY7vZ_f"
      },
      "source": [
        "# Reading the data"
      ]
    },
    {
      "cell_type": "code",
      "metadata": {
        "id": "xSzvksltsRZq"
      },
      "source": [
        "# loading the datasets\n",
        "results = pd.read_csv(\"results.csv\")\n",
        "fifa_ranking = pd.read_csv(\"fifa_ranking.csv\")"
      ],
      "execution_count": null,
      "outputs": []
    },
    {
      "cell_type": "markdown",
      "metadata": {
        "id": "hofPD3jBv9Pf"
      },
      "source": [
        "# Checking the data"
      ]
    },
    {
      "cell_type": "markdown",
      "metadata": {
        "id": "owBlkHm4wLch"
      },
      "source": [
        "**Results dataset**"
      ]
    },
    {
      "cell_type": "code",
      "metadata": {
        "id": "_vcMFXFgv_xC",
        "outputId": "19dfaaa9-cd7f-4568-eca6-e6ef8d0635fc",
        "colab": {
          "base_uri": "https://localhost:8080/",
          "height": 35
        }
      },
      "source": [
        "# number of records in the data\n",
        "results.shape"
      ],
      "execution_count": null,
      "outputs": [
        {
          "output_type": "execute_result",
          "data": {
            "text/plain": [
              "(40839, 9)"
            ]
          },
          "metadata": {
            "tags": []
          },
          "execution_count": 3
        }
      ]
    },
    {
      "cell_type": "code",
      "metadata": {
        "id": "t1DDWFmbwEIw",
        "outputId": "e3395d69-c452-49f2-e048-15d52011d8cd",
        "colab": {
          "base_uri": "https://localhost:8080/",
          "height": 198
        }
      },
      "source": [
        "# preview the top of the dataset\n",
        "results.head()"
      ],
      "execution_count": null,
      "outputs": [
        {
          "output_type": "execute_result",
          "data": {
            "text/html": [
              "<div>\n",
              "<style scoped>\n",
              "    .dataframe tbody tr th:only-of-type {\n",
              "        vertical-align: middle;\n",
              "    }\n",
              "\n",
              "    .dataframe tbody tr th {\n",
              "        vertical-align: top;\n",
              "    }\n",
              "\n",
              "    .dataframe thead th {\n",
              "        text-align: right;\n",
              "    }\n",
              "</style>\n",
              "<table border=\"1\" class=\"dataframe\">\n",
              "  <thead>\n",
              "    <tr style=\"text-align: right;\">\n",
              "      <th></th>\n",
              "      <th>date</th>\n",
              "      <th>home_team</th>\n",
              "      <th>away_team</th>\n",
              "      <th>home_score</th>\n",
              "      <th>away_score</th>\n",
              "      <th>tournament</th>\n",
              "      <th>city</th>\n",
              "      <th>country</th>\n",
              "      <th>neutral</th>\n",
              "    </tr>\n",
              "  </thead>\n",
              "  <tbody>\n",
              "    <tr>\n",
              "      <th>0</th>\n",
              "      <td>1872-11-30</td>\n",
              "      <td>Scotland</td>\n",
              "      <td>England</td>\n",
              "      <td>0</td>\n",
              "      <td>0</td>\n",
              "      <td>Friendly</td>\n",
              "      <td>Glasgow</td>\n",
              "      <td>Scotland</td>\n",
              "      <td>False</td>\n",
              "    </tr>\n",
              "    <tr>\n",
              "      <th>1</th>\n",
              "      <td>1873-03-08</td>\n",
              "      <td>England</td>\n",
              "      <td>Scotland</td>\n",
              "      <td>4</td>\n",
              "      <td>2</td>\n",
              "      <td>Friendly</td>\n",
              "      <td>London</td>\n",
              "      <td>England</td>\n",
              "      <td>False</td>\n",
              "    </tr>\n",
              "    <tr>\n",
              "      <th>2</th>\n",
              "      <td>1874-03-07</td>\n",
              "      <td>Scotland</td>\n",
              "      <td>England</td>\n",
              "      <td>2</td>\n",
              "      <td>1</td>\n",
              "      <td>Friendly</td>\n",
              "      <td>Glasgow</td>\n",
              "      <td>Scotland</td>\n",
              "      <td>False</td>\n",
              "    </tr>\n",
              "    <tr>\n",
              "      <th>3</th>\n",
              "      <td>1875-03-06</td>\n",
              "      <td>England</td>\n",
              "      <td>Scotland</td>\n",
              "      <td>2</td>\n",
              "      <td>2</td>\n",
              "      <td>Friendly</td>\n",
              "      <td>London</td>\n",
              "      <td>England</td>\n",
              "      <td>False</td>\n",
              "    </tr>\n",
              "    <tr>\n",
              "      <th>4</th>\n",
              "      <td>1876-03-04</td>\n",
              "      <td>Scotland</td>\n",
              "      <td>England</td>\n",
              "      <td>3</td>\n",
              "      <td>0</td>\n",
              "      <td>Friendly</td>\n",
              "      <td>Glasgow</td>\n",
              "      <td>Scotland</td>\n",
              "      <td>False</td>\n",
              "    </tr>\n",
              "  </tbody>\n",
              "</table>\n",
              "</div>"
            ],
            "text/plain": [
              "         date home_team away_team  ...     city   country neutral\n",
              "0  1872-11-30  Scotland   England  ...  Glasgow  Scotland   False\n",
              "1  1873-03-08   England  Scotland  ...   London   England   False\n",
              "2  1874-03-07  Scotland   England  ...  Glasgow  Scotland   False\n",
              "3  1875-03-06   England  Scotland  ...   London   England   False\n",
              "4  1876-03-04  Scotland   England  ...  Glasgow  Scotland   False\n",
              "\n",
              "[5 rows x 9 columns]"
            ]
          },
          "metadata": {
            "tags": []
          },
          "execution_count": 4
        }
      ]
    },
    {
      "cell_type": "code",
      "metadata": {
        "id": "ZVmGCE0DwZkz",
        "outputId": "c85d1683-f896-4755-f185-729aefc8a537",
        "colab": {
          "base_uri": "https://localhost:8080/",
          "height": 285
        }
      },
      "source": [
        "# preview the bottom of dataset\n",
        "results.tail()"
      ],
      "execution_count": null,
      "outputs": [
        {
          "output_type": "execute_result",
          "data": {
            "text/html": [
              "<div>\n",
              "<style scoped>\n",
              "    .dataframe tbody tr th:only-of-type {\n",
              "        vertical-align: middle;\n",
              "    }\n",
              "\n",
              "    .dataframe tbody tr th {\n",
              "        vertical-align: top;\n",
              "    }\n",
              "\n",
              "    .dataframe thead th {\n",
              "        text-align: right;\n",
              "    }\n",
              "</style>\n",
              "<table border=\"1\" class=\"dataframe\">\n",
              "  <thead>\n",
              "    <tr style=\"text-align: right;\">\n",
              "      <th></th>\n",
              "      <th>date</th>\n",
              "      <th>home_team</th>\n",
              "      <th>away_team</th>\n",
              "      <th>home_score</th>\n",
              "      <th>away_score</th>\n",
              "      <th>tournament</th>\n",
              "      <th>city</th>\n",
              "      <th>country</th>\n",
              "      <th>neutral</th>\n",
              "    </tr>\n",
              "  </thead>\n",
              "  <tbody>\n",
              "    <tr>\n",
              "      <th>40834</th>\n",
              "      <td>2019-07-18</td>\n",
              "      <td>American Samoa</td>\n",
              "      <td>Tahiti</td>\n",
              "      <td>8</td>\n",
              "      <td>1</td>\n",
              "      <td>Pacific Games</td>\n",
              "      <td>Apia</td>\n",
              "      <td>Samoa</td>\n",
              "      <td>True</td>\n",
              "    </tr>\n",
              "    <tr>\n",
              "      <th>40835</th>\n",
              "      <td>2019-07-18</td>\n",
              "      <td>Fiji</td>\n",
              "      <td>Solomon Islands</td>\n",
              "      <td>4</td>\n",
              "      <td>4</td>\n",
              "      <td>Pacific Games</td>\n",
              "      <td>Apia</td>\n",
              "      <td>Samoa</td>\n",
              "      <td>True</td>\n",
              "    </tr>\n",
              "    <tr>\n",
              "      <th>40836</th>\n",
              "      <td>2019-07-19</td>\n",
              "      <td>Senegal</td>\n",
              "      <td>Algeria</td>\n",
              "      <td>0</td>\n",
              "      <td>1</td>\n",
              "      <td>African Cup of Nations</td>\n",
              "      <td>Cairo</td>\n",
              "      <td>Egypt</td>\n",
              "      <td>True</td>\n",
              "    </tr>\n",
              "    <tr>\n",
              "      <th>40837</th>\n",
              "      <td>2019-07-19</td>\n",
              "      <td>Tajikistan</td>\n",
              "      <td>North Korea</td>\n",
              "      <td>0</td>\n",
              "      <td>1</td>\n",
              "      <td>Intercontinental Cup</td>\n",
              "      <td>Ahmedabad</td>\n",
              "      <td>India</td>\n",
              "      <td>True</td>\n",
              "    </tr>\n",
              "    <tr>\n",
              "      <th>40838</th>\n",
              "      <td>2019-07-20</td>\n",
              "      <td>Papua New Guinea</td>\n",
              "      <td>Fiji</td>\n",
              "      <td>1</td>\n",
              "      <td>1</td>\n",
              "      <td>Pacific Games</td>\n",
              "      <td>Apia</td>\n",
              "      <td>Samoa</td>\n",
              "      <td>True</td>\n",
              "    </tr>\n",
              "  </tbody>\n",
              "</table>\n",
              "</div>"
            ],
            "text/plain": [
              "             date         home_team  ... country  neutral\n",
              "40834  2019-07-18    American Samoa  ...   Samoa     True\n",
              "40835  2019-07-18              Fiji  ...   Samoa     True\n",
              "40836  2019-07-19           Senegal  ...   Egypt     True\n",
              "40837  2019-07-19        Tajikistan  ...   India     True\n",
              "40838  2019-07-20  Papua New Guinea  ...   Samoa     True\n",
              "\n",
              "[5 rows x 9 columns]"
            ]
          },
          "metadata": {
            "tags": []
          },
          "execution_count": 5
        }
      ]
    },
    {
      "cell_type": "code",
      "metadata": {
        "id": "0HqzGLVMwjG-",
        "outputId": "5ce1f683-bfae-413b-c57f-9c5479338341",
        "colab": {
          "base_uri": "https://localhost:8080/",
          "height": 199
        }
      },
      "source": [
        "# checking the whether each column has appropriate datatype\n",
        "results.dtypes"
      ],
      "execution_count": null,
      "outputs": [
        {
          "output_type": "execute_result",
          "data": {
            "text/plain": [
              "date          object\n",
              "home_team     object\n",
              "away_team     object\n",
              "home_score     int64\n",
              "away_score     int64\n",
              "tournament    object\n",
              "city          object\n",
              "country       object\n",
              "neutral         bool\n",
              "dtype: object"
            ]
          },
          "metadata": {
            "tags": []
          },
          "execution_count": 6
        }
      ]
    },
    {
      "cell_type": "markdown",
      "metadata": {
        "id": "Iz2QPrqExLLk"
      },
      "source": [
        ">date column needs to be changed to datetime datatype"
      ]
    },
    {
      "cell_type": "markdown",
      "metadata": {
        "id": "uGM7tyqCxcjQ"
      },
      "source": [
        "**Fifa-ranking dataset**"
      ]
    },
    {
      "cell_type": "code",
      "metadata": {
        "id": "equVIuxGwvGH",
        "outputId": "2086522c-6c5a-4cb6-8f38-a15472bbe5b6",
        "colab": {
          "base_uri": "https://localhost:8080/",
          "height": 35
        }
      },
      "source": [
        "# number of records in the data\n",
        "fifa_ranking.shape"
      ],
      "execution_count": null,
      "outputs": [
        {
          "output_type": "execute_result",
          "data": {
            "text/plain": [
              "(57793, 16)"
            ]
          },
          "metadata": {
            "tags": []
          },
          "execution_count": 7
        }
      ]
    },
    {
      "cell_type": "code",
      "metadata": {
        "id": "sP4Qz4lTxlPO",
        "outputId": "944aa575-91b0-439f-fad4-df247e525bf4",
        "colab": {
          "base_uri": "https://localhost:8080/",
          "height": 305
        }
      },
      "source": [
        "# preview the top of the dataset\n",
        "fifa_ranking.head()"
      ],
      "execution_count": null,
      "outputs": [
        {
          "output_type": "execute_result",
          "data": {
            "text/html": [
              "<div>\n",
              "<style scoped>\n",
              "    .dataframe tbody tr th:only-of-type {\n",
              "        vertical-align: middle;\n",
              "    }\n",
              "\n",
              "    .dataframe tbody tr th {\n",
              "        vertical-align: top;\n",
              "    }\n",
              "\n",
              "    .dataframe thead th {\n",
              "        text-align: right;\n",
              "    }\n",
              "</style>\n",
              "<table border=\"1\" class=\"dataframe\">\n",
              "  <thead>\n",
              "    <tr style=\"text-align: right;\">\n",
              "      <th></th>\n",
              "      <th>rank</th>\n",
              "      <th>country_full</th>\n",
              "      <th>country_abrv</th>\n",
              "      <th>total_points</th>\n",
              "      <th>previous_points</th>\n",
              "      <th>rank_change</th>\n",
              "      <th>cur_year_avg</th>\n",
              "      <th>cur_year_avg_weighted</th>\n",
              "      <th>last_year_avg</th>\n",
              "      <th>last_year_avg_weighted</th>\n",
              "      <th>two_year_ago_avg</th>\n",
              "      <th>two_year_ago_weighted</th>\n",
              "      <th>three_year_ago_avg</th>\n",
              "      <th>three_year_ago_weighted</th>\n",
              "      <th>confederation</th>\n",
              "      <th>rank_date</th>\n",
              "    </tr>\n",
              "  </thead>\n",
              "  <tbody>\n",
              "    <tr>\n",
              "      <th>0</th>\n",
              "      <td>1</td>\n",
              "      <td>Germany</td>\n",
              "      <td>GER</td>\n",
              "      <td>0.0</td>\n",
              "      <td>57</td>\n",
              "      <td>0</td>\n",
              "      <td>0.0</td>\n",
              "      <td>0.0</td>\n",
              "      <td>0.0</td>\n",
              "      <td>0.0</td>\n",
              "      <td>0.0</td>\n",
              "      <td>0.0</td>\n",
              "      <td>0.0</td>\n",
              "      <td>0.0</td>\n",
              "      <td>UEFA</td>\n",
              "      <td>1993-08-08</td>\n",
              "    </tr>\n",
              "    <tr>\n",
              "      <th>1</th>\n",
              "      <td>2</td>\n",
              "      <td>Italy</td>\n",
              "      <td>ITA</td>\n",
              "      <td>0.0</td>\n",
              "      <td>57</td>\n",
              "      <td>0</td>\n",
              "      <td>0.0</td>\n",
              "      <td>0.0</td>\n",
              "      <td>0.0</td>\n",
              "      <td>0.0</td>\n",
              "      <td>0.0</td>\n",
              "      <td>0.0</td>\n",
              "      <td>0.0</td>\n",
              "      <td>0.0</td>\n",
              "      <td>UEFA</td>\n",
              "      <td>1993-08-08</td>\n",
              "    </tr>\n",
              "    <tr>\n",
              "      <th>2</th>\n",
              "      <td>3</td>\n",
              "      <td>Switzerland</td>\n",
              "      <td>SUI</td>\n",
              "      <td>0.0</td>\n",
              "      <td>50</td>\n",
              "      <td>9</td>\n",
              "      <td>0.0</td>\n",
              "      <td>0.0</td>\n",
              "      <td>0.0</td>\n",
              "      <td>0.0</td>\n",
              "      <td>0.0</td>\n",
              "      <td>0.0</td>\n",
              "      <td>0.0</td>\n",
              "      <td>0.0</td>\n",
              "      <td>UEFA</td>\n",
              "      <td>1993-08-08</td>\n",
              "    </tr>\n",
              "    <tr>\n",
              "      <th>3</th>\n",
              "      <td>4</td>\n",
              "      <td>Sweden</td>\n",
              "      <td>SWE</td>\n",
              "      <td>0.0</td>\n",
              "      <td>55</td>\n",
              "      <td>0</td>\n",
              "      <td>0.0</td>\n",
              "      <td>0.0</td>\n",
              "      <td>0.0</td>\n",
              "      <td>0.0</td>\n",
              "      <td>0.0</td>\n",
              "      <td>0.0</td>\n",
              "      <td>0.0</td>\n",
              "      <td>0.0</td>\n",
              "      <td>UEFA</td>\n",
              "      <td>1993-08-08</td>\n",
              "    </tr>\n",
              "    <tr>\n",
              "      <th>4</th>\n",
              "      <td>5</td>\n",
              "      <td>Argentina</td>\n",
              "      <td>ARG</td>\n",
              "      <td>0.0</td>\n",
              "      <td>51</td>\n",
              "      <td>5</td>\n",
              "      <td>0.0</td>\n",
              "      <td>0.0</td>\n",
              "      <td>0.0</td>\n",
              "      <td>0.0</td>\n",
              "      <td>0.0</td>\n",
              "      <td>0.0</td>\n",
              "      <td>0.0</td>\n",
              "      <td>0.0</td>\n",
              "      <td>CONMEBOL</td>\n",
              "      <td>1993-08-08</td>\n",
              "    </tr>\n",
              "  </tbody>\n",
              "</table>\n",
              "</div>"
            ],
            "text/plain": [
              "   rank country_full  ... confederation   rank_date\n",
              "0     1      Germany  ...          UEFA  1993-08-08\n",
              "1     2        Italy  ...          UEFA  1993-08-08\n",
              "2     3  Switzerland  ...          UEFA  1993-08-08\n",
              "3     4       Sweden  ...          UEFA  1993-08-08\n",
              "4     5    Argentina  ...      CONMEBOL  1993-08-08\n",
              "\n",
              "[5 rows x 16 columns]"
            ]
          },
          "metadata": {
            "tags": []
          },
          "execution_count": 8
        }
      ]
    },
    {
      "cell_type": "code",
      "metadata": {
        "id": "sRQhy1mCyA0N",
        "outputId": "55dba968-b004-4f54-f65b-deee59d38616",
        "colab": {
          "base_uri": "https://localhost:8080/",
          "height": 305
        }
      },
      "source": [
        "# preview the bottom of the dataset\n",
        "fifa_ranking.tail()"
      ],
      "execution_count": null,
      "outputs": [
        {
          "output_type": "execute_result",
          "data": {
            "text/html": [
              "<div>\n",
              "<style scoped>\n",
              "    .dataframe tbody tr th:only-of-type {\n",
              "        vertical-align: middle;\n",
              "    }\n",
              "\n",
              "    .dataframe tbody tr th {\n",
              "        vertical-align: top;\n",
              "    }\n",
              "\n",
              "    .dataframe thead th {\n",
              "        text-align: right;\n",
              "    }\n",
              "</style>\n",
              "<table border=\"1\" class=\"dataframe\">\n",
              "  <thead>\n",
              "    <tr style=\"text-align: right;\">\n",
              "      <th></th>\n",
              "      <th>rank</th>\n",
              "      <th>country_full</th>\n",
              "      <th>country_abrv</th>\n",
              "      <th>total_points</th>\n",
              "      <th>previous_points</th>\n",
              "      <th>rank_change</th>\n",
              "      <th>cur_year_avg</th>\n",
              "      <th>cur_year_avg_weighted</th>\n",
              "      <th>last_year_avg</th>\n",
              "      <th>last_year_avg_weighted</th>\n",
              "      <th>two_year_ago_avg</th>\n",
              "      <th>two_year_ago_weighted</th>\n",
              "      <th>three_year_ago_avg</th>\n",
              "      <th>three_year_ago_weighted</th>\n",
              "      <th>confederation</th>\n",
              "      <th>rank_date</th>\n",
              "    </tr>\n",
              "  </thead>\n",
              "  <tbody>\n",
              "    <tr>\n",
              "      <th>57788</th>\n",
              "      <td>206</td>\n",
              "      <td>Anguilla</td>\n",
              "      <td>AIA</td>\n",
              "      <td>0.0</td>\n",
              "      <td>0</td>\n",
              "      <td>1</td>\n",
              "      <td>0.0</td>\n",
              "      <td>0.0</td>\n",
              "      <td>0.0</td>\n",
              "      <td>0.0</td>\n",
              "      <td>0.0</td>\n",
              "      <td>0.0</td>\n",
              "      <td>0.0</td>\n",
              "      <td>0.0</td>\n",
              "      <td>CONCACAF</td>\n",
              "      <td>2018-06-07</td>\n",
              "    </tr>\n",
              "    <tr>\n",
              "      <th>57789</th>\n",
              "      <td>206</td>\n",
              "      <td>Bahamas</td>\n",
              "      <td>BAH</td>\n",
              "      <td>0.0</td>\n",
              "      <td>0</td>\n",
              "      <td>1</td>\n",
              "      <td>0.0</td>\n",
              "      <td>0.0</td>\n",
              "      <td>0.0</td>\n",
              "      <td>0.0</td>\n",
              "      <td>0.0</td>\n",
              "      <td>0.0</td>\n",
              "      <td>0.0</td>\n",
              "      <td>0.0</td>\n",
              "      <td>CONCACAF</td>\n",
              "      <td>2018-06-07</td>\n",
              "    </tr>\n",
              "    <tr>\n",
              "      <th>57790</th>\n",
              "      <td>206</td>\n",
              "      <td>Eritrea</td>\n",
              "      <td>ERI</td>\n",
              "      <td>0.0</td>\n",
              "      <td>0</td>\n",
              "      <td>1</td>\n",
              "      <td>0.0</td>\n",
              "      <td>0.0</td>\n",
              "      <td>0.0</td>\n",
              "      <td>0.0</td>\n",
              "      <td>0.0</td>\n",
              "      <td>0.0</td>\n",
              "      <td>0.0</td>\n",
              "      <td>0.0</td>\n",
              "      <td>CAF</td>\n",
              "      <td>2018-06-07</td>\n",
              "    </tr>\n",
              "    <tr>\n",
              "      <th>57791</th>\n",
              "      <td>206</td>\n",
              "      <td>Somalia</td>\n",
              "      <td>SOM</td>\n",
              "      <td>0.0</td>\n",
              "      <td>0</td>\n",
              "      <td>1</td>\n",
              "      <td>0.0</td>\n",
              "      <td>0.0</td>\n",
              "      <td>0.0</td>\n",
              "      <td>0.0</td>\n",
              "      <td>0.0</td>\n",
              "      <td>0.0</td>\n",
              "      <td>0.0</td>\n",
              "      <td>0.0</td>\n",
              "      <td>CAF</td>\n",
              "      <td>2018-06-07</td>\n",
              "    </tr>\n",
              "    <tr>\n",
              "      <th>57792</th>\n",
              "      <td>206</td>\n",
              "      <td>Tonga</td>\n",
              "      <td>TGA</td>\n",
              "      <td>0.0</td>\n",
              "      <td>0</td>\n",
              "      <td>1</td>\n",
              "      <td>0.0</td>\n",
              "      <td>0.0</td>\n",
              "      <td>0.0</td>\n",
              "      <td>0.0</td>\n",
              "      <td>0.0</td>\n",
              "      <td>0.0</td>\n",
              "      <td>0.0</td>\n",
              "      <td>0.0</td>\n",
              "      <td>OFC</td>\n",
              "      <td>2018-06-07</td>\n",
              "    </tr>\n",
              "  </tbody>\n",
              "</table>\n",
              "</div>"
            ],
            "text/plain": [
              "       rank country_full  ... confederation   rank_date\n",
              "57788   206     Anguilla  ...      CONCACAF  2018-06-07\n",
              "57789   206      Bahamas  ...      CONCACAF  2018-06-07\n",
              "57790   206      Eritrea  ...           CAF  2018-06-07\n",
              "57791   206      Somalia  ...           CAF  2018-06-07\n",
              "57792   206        Tonga  ...           OFC  2018-06-07\n",
              "\n",
              "[5 rows x 16 columns]"
            ]
          },
          "metadata": {
            "tags": []
          },
          "execution_count": 9
        }
      ]
    },
    {
      "cell_type": "code",
      "metadata": {
        "id": "zQHhvugpyIEq",
        "outputId": "7f947268-7d00-4425-962f-277216c2cd80",
        "colab": {
          "base_uri": "https://localhost:8080/",
          "height": 326
        }
      },
      "source": [
        "# checking the datatypes of the respective columns\n",
        "fifa_ranking.dtypes"
      ],
      "execution_count": null,
      "outputs": [
        {
          "output_type": "execute_result",
          "data": {
            "text/plain": [
              "rank                         int64\n",
              "country_full                object\n",
              "country_abrv                object\n",
              "total_points               float64\n",
              "previous_points              int64\n",
              "rank_change                  int64\n",
              "cur_year_avg               float64\n",
              "cur_year_avg_weighted      float64\n",
              "last_year_avg              float64\n",
              "last_year_avg_weighted     float64\n",
              "two_year_ago_avg           float64\n",
              "two_year_ago_weighted      float64\n",
              "three_year_ago_avg         float64\n",
              "three_year_ago_weighted    float64\n",
              "confederation               object\n",
              "rank_date                   object\n",
              "dtype: object"
            ]
          },
          "metadata": {
            "tags": []
          },
          "execution_count": 10
        }
      ]
    },
    {
      "cell_type": "markdown",
      "metadata": {
        "id": "lfpASvzSyUTp"
      },
      "source": [
        ">The rank date column also needs to be changed to appropriate datatype"
      ]
    },
    {
      "cell_type": "markdown",
      "metadata": {
        "id": "yH_WPwFSynqy"
      },
      "source": [
        "# Data Cleaning"
      ]
    },
    {
      "cell_type": "markdown",
      "metadata": {
        "id": "VXKnwu2k40s9"
      },
      "source": [
        "**Data Type conversion**"
      ]
    },
    {
      "cell_type": "code",
      "metadata": {
        "id": "dVmEpQIV40Ex"
      },
      "source": [
        "# change the date column in both dataframes to appropriate datatype\n",
        "fifa_ranking['rank_date'] = pd.to_datetime(fifa_ranking['rank_date'])\n",
        "results['date'] = pd.to_datetime(results['date'])"
      ],
      "execution_count": null,
      "outputs": []
    },
    {
      "cell_type": "markdown",
      "metadata": {
        "id": "lYFm5D7Q5heE"
      },
      "source": [
        "**Null Values**"
      ]
    },
    {
      "cell_type": "code",
      "metadata": {
        "id": "BcisTQq25jqd",
        "outputId": "550cd007-8855-40bf-9370-58ed707f6fb8",
        "colab": {
          "base_uri": "https://localhost:8080/",
          "height": 54
        }
      },
      "source": [
        "# check for null values in both dataframes\n",
        "print(fifa_ranking.isnull().any().sum())\n",
        "\n",
        "print(results.isnull().any().sum())\n",
        "\n",
        "# both datasets do not have null values"
      ],
      "execution_count": null,
      "outputs": [
        {
          "output_type": "stream",
          "text": [
            "0\n",
            "0\n"
          ],
          "name": "stdout"
        }
      ]
    },
    {
      "cell_type": "markdown",
      "metadata": {
        "id": "Lr4chUEr6e6h"
      },
      "source": [
        "**Duplicates**"
      ]
    },
    {
      "cell_type": "code",
      "metadata": {
        "id": "HXEgwIoK6Lgq",
        "outputId": "34d4739d-b659-4870-d1d8-1549dc8b5b32",
        "colab": {
          "base_uri": "https://localhost:8080/",
          "height": 54
        }
      },
      "source": [
        "print(\"Number of duplicated entries:\" + str(fifa_ranking.duplicated().sum()))\n",
        "fifa_ranking.shape"
      ],
      "execution_count": null,
      "outputs": [
        {
          "output_type": "stream",
          "text": [
            "Number of duplicated entries:37\n"
          ],
          "name": "stdout"
        },
        {
          "output_type": "execute_result",
          "data": {
            "text/plain": [
              "(57793, 16)"
            ]
          },
          "metadata": {
            "tags": []
          },
          "execution_count": 13
        }
      ]
    },
    {
      "cell_type": "code",
      "metadata": {
        "id": "fZKSMG-V6jtQ",
        "outputId": "88dfd1d4-62d0-4bc7-d15e-96c4ef0c9937",
        "colab": {
          "base_uri": "https://localhost:8080/",
          "height": 35
        }
      },
      "source": [
        "fifa_ranking.drop_duplicates(keep=\"first\", inplace=True)\n",
        "fifa_ranking.shape"
      ],
      "execution_count": null,
      "outputs": [
        {
          "output_type": "execute_result",
          "data": {
            "text/plain": [
              "(57756, 16)"
            ]
          },
          "metadata": {
            "tags": []
          },
          "execution_count": 14
        }
      ]
    },
    {
      "cell_type": "code",
      "metadata": {
        "id": "-GsAWP-a8NUT",
        "outputId": "62914b87-639e-479d-bb9d-b7221012be06",
        "colab": {
          "base_uri": "https://localhost:8080/",
          "height": 35
        }
      },
      "source": [
        "results.duplicated().sum()\n",
        "# the results dataframe does not have any duplicated entries"
      ],
      "execution_count": null,
      "outputs": [
        {
          "output_type": "execute_result",
          "data": {
            "text/plain": [
              "0"
            ]
          },
          "metadata": {
            "tags": []
          },
          "execution_count": 15
        }
      ]
    },
    {
      "cell_type": "code",
      "metadata": {
        "id": "l4wMBt8M-0cM",
        "outputId": "70b9d2d4-d2f0-42f9-e2bd-9405b3228274",
        "colab": {
          "base_uri": "https://localhost:8080/",
          "height": 600
        }
      },
      "source": [
        "# extract the month and year from the date column to make it easier during merge\n",
        "fifa_ranking['year'] = fifa_ranking['rank_date'].dt.strftime('%B-%Y')\n",
        "fifa_ranking"
      ],
      "execution_count": null,
      "outputs": [
        {
          "output_type": "execute_result",
          "data": {
            "text/html": [
              "<div>\n",
              "<style scoped>\n",
              "    .dataframe tbody tr th:only-of-type {\n",
              "        vertical-align: middle;\n",
              "    }\n",
              "\n",
              "    .dataframe tbody tr th {\n",
              "        vertical-align: top;\n",
              "    }\n",
              "\n",
              "    .dataframe thead th {\n",
              "        text-align: right;\n",
              "    }\n",
              "</style>\n",
              "<table border=\"1\" class=\"dataframe\">\n",
              "  <thead>\n",
              "    <tr style=\"text-align: right;\">\n",
              "      <th></th>\n",
              "      <th>rank</th>\n",
              "      <th>country_full</th>\n",
              "      <th>country_abrv</th>\n",
              "      <th>total_points</th>\n",
              "      <th>previous_points</th>\n",
              "      <th>rank_change</th>\n",
              "      <th>cur_year_avg</th>\n",
              "      <th>cur_year_avg_weighted</th>\n",
              "      <th>last_year_avg</th>\n",
              "      <th>last_year_avg_weighted</th>\n",
              "      <th>two_year_ago_avg</th>\n",
              "      <th>two_year_ago_weighted</th>\n",
              "      <th>three_year_ago_avg</th>\n",
              "      <th>three_year_ago_weighted</th>\n",
              "      <th>confederation</th>\n",
              "      <th>rank_date</th>\n",
              "      <th>year</th>\n",
              "    </tr>\n",
              "  </thead>\n",
              "  <tbody>\n",
              "    <tr>\n",
              "      <th>0</th>\n",
              "      <td>1</td>\n",
              "      <td>Germany</td>\n",
              "      <td>GER</td>\n",
              "      <td>0.0</td>\n",
              "      <td>57</td>\n",
              "      <td>0</td>\n",
              "      <td>0.0</td>\n",
              "      <td>0.0</td>\n",
              "      <td>0.0</td>\n",
              "      <td>0.0</td>\n",
              "      <td>0.0</td>\n",
              "      <td>0.0</td>\n",
              "      <td>0.0</td>\n",
              "      <td>0.0</td>\n",
              "      <td>UEFA</td>\n",
              "      <td>1993-08-08</td>\n",
              "      <td>August-1993</td>\n",
              "    </tr>\n",
              "    <tr>\n",
              "      <th>1</th>\n",
              "      <td>2</td>\n",
              "      <td>Italy</td>\n",
              "      <td>ITA</td>\n",
              "      <td>0.0</td>\n",
              "      <td>57</td>\n",
              "      <td>0</td>\n",
              "      <td>0.0</td>\n",
              "      <td>0.0</td>\n",
              "      <td>0.0</td>\n",
              "      <td>0.0</td>\n",
              "      <td>0.0</td>\n",
              "      <td>0.0</td>\n",
              "      <td>0.0</td>\n",
              "      <td>0.0</td>\n",
              "      <td>UEFA</td>\n",
              "      <td>1993-08-08</td>\n",
              "      <td>August-1993</td>\n",
              "    </tr>\n",
              "    <tr>\n",
              "      <th>2</th>\n",
              "      <td>3</td>\n",
              "      <td>Switzerland</td>\n",
              "      <td>SUI</td>\n",
              "      <td>0.0</td>\n",
              "      <td>50</td>\n",
              "      <td>9</td>\n",
              "      <td>0.0</td>\n",
              "      <td>0.0</td>\n",
              "      <td>0.0</td>\n",
              "      <td>0.0</td>\n",
              "      <td>0.0</td>\n",
              "      <td>0.0</td>\n",
              "      <td>0.0</td>\n",
              "      <td>0.0</td>\n",
              "      <td>UEFA</td>\n",
              "      <td>1993-08-08</td>\n",
              "      <td>August-1993</td>\n",
              "    </tr>\n",
              "    <tr>\n",
              "      <th>3</th>\n",
              "      <td>4</td>\n",
              "      <td>Sweden</td>\n",
              "      <td>SWE</td>\n",
              "      <td>0.0</td>\n",
              "      <td>55</td>\n",
              "      <td>0</td>\n",
              "      <td>0.0</td>\n",
              "      <td>0.0</td>\n",
              "      <td>0.0</td>\n",
              "      <td>0.0</td>\n",
              "      <td>0.0</td>\n",
              "      <td>0.0</td>\n",
              "      <td>0.0</td>\n",
              "      <td>0.0</td>\n",
              "      <td>UEFA</td>\n",
              "      <td>1993-08-08</td>\n",
              "      <td>August-1993</td>\n",
              "    </tr>\n",
              "    <tr>\n",
              "      <th>4</th>\n",
              "      <td>5</td>\n",
              "      <td>Argentina</td>\n",
              "      <td>ARG</td>\n",
              "      <td>0.0</td>\n",
              "      <td>51</td>\n",
              "      <td>5</td>\n",
              "      <td>0.0</td>\n",
              "      <td>0.0</td>\n",
              "      <td>0.0</td>\n",
              "      <td>0.0</td>\n",
              "      <td>0.0</td>\n",
              "      <td>0.0</td>\n",
              "      <td>0.0</td>\n",
              "      <td>0.0</td>\n",
              "      <td>CONMEBOL</td>\n",
              "      <td>1993-08-08</td>\n",
              "      <td>August-1993</td>\n",
              "    </tr>\n",
              "    <tr>\n",
              "      <th>...</th>\n",
              "      <td>...</td>\n",
              "      <td>...</td>\n",
              "      <td>...</td>\n",
              "      <td>...</td>\n",
              "      <td>...</td>\n",
              "      <td>...</td>\n",
              "      <td>...</td>\n",
              "      <td>...</td>\n",
              "      <td>...</td>\n",
              "      <td>...</td>\n",
              "      <td>...</td>\n",
              "      <td>...</td>\n",
              "      <td>...</td>\n",
              "      <td>...</td>\n",
              "      <td>...</td>\n",
              "      <td>...</td>\n",
              "      <td>...</td>\n",
              "    </tr>\n",
              "    <tr>\n",
              "      <th>57788</th>\n",
              "      <td>206</td>\n",
              "      <td>Anguilla</td>\n",
              "      <td>AIA</td>\n",
              "      <td>0.0</td>\n",
              "      <td>0</td>\n",
              "      <td>1</td>\n",
              "      <td>0.0</td>\n",
              "      <td>0.0</td>\n",
              "      <td>0.0</td>\n",
              "      <td>0.0</td>\n",
              "      <td>0.0</td>\n",
              "      <td>0.0</td>\n",
              "      <td>0.0</td>\n",
              "      <td>0.0</td>\n",
              "      <td>CONCACAF</td>\n",
              "      <td>2018-06-07</td>\n",
              "      <td>June-2018</td>\n",
              "    </tr>\n",
              "    <tr>\n",
              "      <th>57789</th>\n",
              "      <td>206</td>\n",
              "      <td>Bahamas</td>\n",
              "      <td>BAH</td>\n",
              "      <td>0.0</td>\n",
              "      <td>0</td>\n",
              "      <td>1</td>\n",
              "      <td>0.0</td>\n",
              "      <td>0.0</td>\n",
              "      <td>0.0</td>\n",
              "      <td>0.0</td>\n",
              "      <td>0.0</td>\n",
              "      <td>0.0</td>\n",
              "      <td>0.0</td>\n",
              "      <td>0.0</td>\n",
              "      <td>CONCACAF</td>\n",
              "      <td>2018-06-07</td>\n",
              "      <td>June-2018</td>\n",
              "    </tr>\n",
              "    <tr>\n",
              "      <th>57790</th>\n",
              "      <td>206</td>\n",
              "      <td>Eritrea</td>\n",
              "      <td>ERI</td>\n",
              "      <td>0.0</td>\n",
              "      <td>0</td>\n",
              "      <td>1</td>\n",
              "      <td>0.0</td>\n",
              "      <td>0.0</td>\n",
              "      <td>0.0</td>\n",
              "      <td>0.0</td>\n",
              "      <td>0.0</td>\n",
              "      <td>0.0</td>\n",
              "      <td>0.0</td>\n",
              "      <td>0.0</td>\n",
              "      <td>CAF</td>\n",
              "      <td>2018-06-07</td>\n",
              "      <td>June-2018</td>\n",
              "    </tr>\n",
              "    <tr>\n",
              "      <th>57791</th>\n",
              "      <td>206</td>\n",
              "      <td>Somalia</td>\n",
              "      <td>SOM</td>\n",
              "      <td>0.0</td>\n",
              "      <td>0</td>\n",
              "      <td>1</td>\n",
              "      <td>0.0</td>\n",
              "      <td>0.0</td>\n",
              "      <td>0.0</td>\n",
              "      <td>0.0</td>\n",
              "      <td>0.0</td>\n",
              "      <td>0.0</td>\n",
              "      <td>0.0</td>\n",
              "      <td>0.0</td>\n",
              "      <td>CAF</td>\n",
              "      <td>2018-06-07</td>\n",
              "      <td>June-2018</td>\n",
              "    </tr>\n",
              "    <tr>\n",
              "      <th>57792</th>\n",
              "      <td>206</td>\n",
              "      <td>Tonga</td>\n",
              "      <td>TGA</td>\n",
              "      <td>0.0</td>\n",
              "      <td>0</td>\n",
              "      <td>1</td>\n",
              "      <td>0.0</td>\n",
              "      <td>0.0</td>\n",
              "      <td>0.0</td>\n",
              "      <td>0.0</td>\n",
              "      <td>0.0</td>\n",
              "      <td>0.0</td>\n",
              "      <td>0.0</td>\n",
              "      <td>0.0</td>\n",
              "      <td>OFC</td>\n",
              "      <td>2018-06-07</td>\n",
              "      <td>June-2018</td>\n",
              "    </tr>\n",
              "  </tbody>\n",
              "</table>\n",
              "<p>57756 rows × 17 columns</p>\n",
              "</div>"
            ],
            "text/plain": [
              "       rank country_full country_abrv  ...  confederation  rank_date         year\n",
              "0         1      Germany          GER  ...           UEFA 1993-08-08  August-1993\n",
              "1         2        Italy          ITA  ...           UEFA 1993-08-08  August-1993\n",
              "2         3  Switzerland          SUI  ...           UEFA 1993-08-08  August-1993\n",
              "3         4       Sweden          SWE  ...           UEFA 1993-08-08  August-1993\n",
              "4         5    Argentina          ARG  ...       CONMEBOL 1993-08-08  August-1993\n",
              "...     ...          ...          ...  ...            ...        ...          ...\n",
              "57788   206     Anguilla          AIA  ...       CONCACAF 2018-06-07    June-2018\n",
              "57789   206      Bahamas          BAH  ...       CONCACAF 2018-06-07    June-2018\n",
              "57790   206      Eritrea          ERI  ...            CAF 2018-06-07    June-2018\n",
              "57791   206      Somalia          SOM  ...            CAF 2018-06-07    June-2018\n",
              "57792   206        Tonga          TGA  ...            OFC 2018-06-07    June-2018\n",
              "\n",
              "[57756 rows x 17 columns]"
            ]
          },
          "metadata": {
            "tags": []
          },
          "execution_count": 16
        }
      ]
    },
    {
      "cell_type": "code",
      "metadata": {
        "id": "552VS3_RPjjs",
        "outputId": "651613d0-8832-4630-9461-56e606502472",
        "colab": {
          "base_uri": "https://localhost:8080/",
          "height": 617
        }
      },
      "source": [
        "results['year'] = results['date'].dt.strftime('%B-%Y')\n",
        "results"
      ],
      "execution_count": null,
      "outputs": [
        {
          "output_type": "execute_result",
          "data": {
            "text/html": [
              "<div>\n",
              "<style scoped>\n",
              "    .dataframe tbody tr th:only-of-type {\n",
              "        vertical-align: middle;\n",
              "    }\n",
              "\n",
              "    .dataframe tbody tr th {\n",
              "        vertical-align: top;\n",
              "    }\n",
              "\n",
              "    .dataframe thead th {\n",
              "        text-align: right;\n",
              "    }\n",
              "</style>\n",
              "<table border=\"1\" class=\"dataframe\">\n",
              "  <thead>\n",
              "    <tr style=\"text-align: right;\">\n",
              "      <th></th>\n",
              "      <th>date</th>\n",
              "      <th>home_team</th>\n",
              "      <th>away_team</th>\n",
              "      <th>home_score</th>\n",
              "      <th>away_score</th>\n",
              "      <th>tournament</th>\n",
              "      <th>city</th>\n",
              "      <th>country</th>\n",
              "      <th>neutral</th>\n",
              "      <th>year</th>\n",
              "    </tr>\n",
              "  </thead>\n",
              "  <tbody>\n",
              "    <tr>\n",
              "      <th>0</th>\n",
              "      <td>1872-11-30</td>\n",
              "      <td>Scotland</td>\n",
              "      <td>England</td>\n",
              "      <td>0</td>\n",
              "      <td>0</td>\n",
              "      <td>Friendly</td>\n",
              "      <td>Glasgow</td>\n",
              "      <td>Scotland</td>\n",
              "      <td>False</td>\n",
              "      <td>November-1872</td>\n",
              "    </tr>\n",
              "    <tr>\n",
              "      <th>1</th>\n",
              "      <td>1873-03-08</td>\n",
              "      <td>England</td>\n",
              "      <td>Scotland</td>\n",
              "      <td>4</td>\n",
              "      <td>2</td>\n",
              "      <td>Friendly</td>\n",
              "      <td>London</td>\n",
              "      <td>England</td>\n",
              "      <td>False</td>\n",
              "      <td>March-1873</td>\n",
              "    </tr>\n",
              "    <tr>\n",
              "      <th>2</th>\n",
              "      <td>1874-03-07</td>\n",
              "      <td>Scotland</td>\n",
              "      <td>England</td>\n",
              "      <td>2</td>\n",
              "      <td>1</td>\n",
              "      <td>Friendly</td>\n",
              "      <td>Glasgow</td>\n",
              "      <td>Scotland</td>\n",
              "      <td>False</td>\n",
              "      <td>March-1874</td>\n",
              "    </tr>\n",
              "    <tr>\n",
              "      <th>3</th>\n",
              "      <td>1875-03-06</td>\n",
              "      <td>England</td>\n",
              "      <td>Scotland</td>\n",
              "      <td>2</td>\n",
              "      <td>2</td>\n",
              "      <td>Friendly</td>\n",
              "      <td>London</td>\n",
              "      <td>England</td>\n",
              "      <td>False</td>\n",
              "      <td>March-1875</td>\n",
              "    </tr>\n",
              "    <tr>\n",
              "      <th>4</th>\n",
              "      <td>1876-03-04</td>\n",
              "      <td>Scotland</td>\n",
              "      <td>England</td>\n",
              "      <td>3</td>\n",
              "      <td>0</td>\n",
              "      <td>Friendly</td>\n",
              "      <td>Glasgow</td>\n",
              "      <td>Scotland</td>\n",
              "      <td>False</td>\n",
              "      <td>March-1876</td>\n",
              "    </tr>\n",
              "    <tr>\n",
              "      <th>...</th>\n",
              "      <td>...</td>\n",
              "      <td>...</td>\n",
              "      <td>...</td>\n",
              "      <td>...</td>\n",
              "      <td>...</td>\n",
              "      <td>...</td>\n",
              "      <td>...</td>\n",
              "      <td>...</td>\n",
              "      <td>...</td>\n",
              "      <td>...</td>\n",
              "    </tr>\n",
              "    <tr>\n",
              "      <th>40834</th>\n",
              "      <td>2019-07-18</td>\n",
              "      <td>American Samoa</td>\n",
              "      <td>Tahiti</td>\n",
              "      <td>8</td>\n",
              "      <td>1</td>\n",
              "      <td>Pacific Games</td>\n",
              "      <td>Apia</td>\n",
              "      <td>Samoa</td>\n",
              "      <td>True</td>\n",
              "      <td>July-2019</td>\n",
              "    </tr>\n",
              "    <tr>\n",
              "      <th>40835</th>\n",
              "      <td>2019-07-18</td>\n",
              "      <td>Fiji</td>\n",
              "      <td>Solomon Islands</td>\n",
              "      <td>4</td>\n",
              "      <td>4</td>\n",
              "      <td>Pacific Games</td>\n",
              "      <td>Apia</td>\n",
              "      <td>Samoa</td>\n",
              "      <td>True</td>\n",
              "      <td>July-2019</td>\n",
              "    </tr>\n",
              "    <tr>\n",
              "      <th>40836</th>\n",
              "      <td>2019-07-19</td>\n",
              "      <td>Senegal</td>\n",
              "      <td>Algeria</td>\n",
              "      <td>0</td>\n",
              "      <td>1</td>\n",
              "      <td>African Cup of Nations</td>\n",
              "      <td>Cairo</td>\n",
              "      <td>Egypt</td>\n",
              "      <td>True</td>\n",
              "      <td>July-2019</td>\n",
              "    </tr>\n",
              "    <tr>\n",
              "      <th>40837</th>\n",
              "      <td>2019-07-19</td>\n",
              "      <td>Tajikistan</td>\n",
              "      <td>North Korea</td>\n",
              "      <td>0</td>\n",
              "      <td>1</td>\n",
              "      <td>Intercontinental Cup</td>\n",
              "      <td>Ahmedabad</td>\n",
              "      <td>India</td>\n",
              "      <td>True</td>\n",
              "      <td>July-2019</td>\n",
              "    </tr>\n",
              "    <tr>\n",
              "      <th>40838</th>\n",
              "      <td>2019-07-20</td>\n",
              "      <td>Papua New Guinea</td>\n",
              "      <td>Fiji</td>\n",
              "      <td>1</td>\n",
              "      <td>1</td>\n",
              "      <td>Pacific Games</td>\n",
              "      <td>Apia</td>\n",
              "      <td>Samoa</td>\n",
              "      <td>True</td>\n",
              "      <td>July-2019</td>\n",
              "    </tr>\n",
              "  </tbody>\n",
              "</table>\n",
              "<p>40839 rows × 10 columns</p>\n",
              "</div>"
            ],
            "text/plain": [
              "            date         home_team  ... neutral           year\n",
              "0     1872-11-30          Scotland  ...   False  November-1872\n",
              "1     1873-03-08           England  ...   False     March-1873\n",
              "2     1874-03-07          Scotland  ...   False     March-1874\n",
              "3     1875-03-06           England  ...   False     March-1875\n",
              "4     1876-03-04          Scotland  ...   False     March-1876\n",
              "...          ...               ...  ...     ...            ...\n",
              "40834 2019-07-18    American Samoa  ...    True      July-2019\n",
              "40835 2019-07-18              Fiji  ...    True      July-2019\n",
              "40836 2019-07-19           Senegal  ...    True      July-2019\n",
              "40837 2019-07-19        Tajikistan  ...    True      July-2019\n",
              "40838 2019-07-20  Papua New Guinea  ...    True      July-2019\n",
              "\n",
              "[40839 rows x 10 columns]"
            ]
          },
          "metadata": {
            "tags": []
          },
          "execution_count": 17
        }
      ]
    },
    {
      "cell_type": "markdown",
      "metadata": {
        "id": "fDuxk_MLwAq_"
      },
      "source": [
        ">In a football match, neutral means a match was played on neither of the teams' grounds. i.e. no team was playing as home team. It is best to remain with only games played where neutral is not true. "
      ]
    },
    {
      "cell_type": "code",
      "metadata": {
        "id": "DKk7HJaVyRzd",
        "outputId": "1fe5acea-5f84-4e42-f525-5382436d83e1",
        "colab": {
          "base_uri": "https://localhost:8080/",
          "height": 35
        }
      },
      "source": [
        "# drop rows where neutral is equal true\n",
        "results = results.drop(results[(results['neutral'] == True)].index)\n",
        "\n",
        "results['neutral'].unique()"
      ],
      "execution_count": null,
      "outputs": [
        {
          "output_type": "execute_result",
          "data": {
            "text/plain": [
              "array([False])"
            ]
          },
          "metadata": {
            "tags": []
          },
          "execution_count": 18
        }
      ]
    },
    {
      "cell_type": "markdown",
      "metadata": {
        "id": "vhGxN77TBuO4"
      },
      "source": [
        ">Another new column needs to be created having the status of each game played as either Win, Loss or Draw. "
      ]
    },
    {
      "cell_type": "code",
      "metadata": {
        "id": "FYdnqwFB888E"
      },
      "source": [
        "# create a new empty column named status in the results dataframe\n",
        "results['status'] = results.apply(lambda _: '', axis=1)"
      ],
      "execution_count": null,
      "outputs": []
    },
    {
      "cell_type": "code",
      "metadata": {
        "id": "qo9aHvluAzYV",
        "outputId": "294aee5b-37e5-4d8c-c6ca-47eda353100c",
        "colab": {
          "base_uri": "https://localhost:8080/",
          "height": 305
        }
      },
      "source": [
        "# create a list of conditions to use to fill the empty column\n",
        "conditions_list = [results['home_score'] > results['away_score'], \n",
        "                   results['home_score'] < results['away_score'], \n",
        "                   results['home_score'] == results['away_score']]\n",
        "\n",
        "# assign each condition with respective value as a list\n",
        "\n",
        "value_list = ['Win', 'Loss', 'Draw']\n",
        "\n",
        "# fill the empty column with respective values\n",
        "results['status'] = np.select(conditions_list, value_list)\n",
        "results.head()"
      ],
      "execution_count": null,
      "outputs": [
        {
          "output_type": "execute_result",
          "data": {
            "text/html": [
              "<div>\n",
              "<style scoped>\n",
              "    .dataframe tbody tr th:only-of-type {\n",
              "        vertical-align: middle;\n",
              "    }\n",
              "\n",
              "    .dataframe tbody tr th {\n",
              "        vertical-align: top;\n",
              "    }\n",
              "\n",
              "    .dataframe thead th {\n",
              "        text-align: right;\n",
              "    }\n",
              "</style>\n",
              "<table border=\"1\" class=\"dataframe\">\n",
              "  <thead>\n",
              "    <tr style=\"text-align: right;\">\n",
              "      <th></th>\n",
              "      <th>date</th>\n",
              "      <th>home_team</th>\n",
              "      <th>away_team</th>\n",
              "      <th>home_score</th>\n",
              "      <th>away_score</th>\n",
              "      <th>tournament</th>\n",
              "      <th>city</th>\n",
              "      <th>country</th>\n",
              "      <th>neutral</th>\n",
              "      <th>year</th>\n",
              "      <th>status</th>\n",
              "    </tr>\n",
              "  </thead>\n",
              "  <tbody>\n",
              "    <tr>\n",
              "      <th>0</th>\n",
              "      <td>1872-11-30</td>\n",
              "      <td>Scotland</td>\n",
              "      <td>England</td>\n",
              "      <td>0</td>\n",
              "      <td>0</td>\n",
              "      <td>Friendly</td>\n",
              "      <td>Glasgow</td>\n",
              "      <td>Scotland</td>\n",
              "      <td>False</td>\n",
              "      <td>November-1872</td>\n",
              "      <td>Draw</td>\n",
              "    </tr>\n",
              "    <tr>\n",
              "      <th>1</th>\n",
              "      <td>1873-03-08</td>\n",
              "      <td>England</td>\n",
              "      <td>Scotland</td>\n",
              "      <td>4</td>\n",
              "      <td>2</td>\n",
              "      <td>Friendly</td>\n",
              "      <td>London</td>\n",
              "      <td>England</td>\n",
              "      <td>False</td>\n",
              "      <td>March-1873</td>\n",
              "      <td>Win</td>\n",
              "    </tr>\n",
              "    <tr>\n",
              "      <th>2</th>\n",
              "      <td>1874-03-07</td>\n",
              "      <td>Scotland</td>\n",
              "      <td>England</td>\n",
              "      <td>2</td>\n",
              "      <td>1</td>\n",
              "      <td>Friendly</td>\n",
              "      <td>Glasgow</td>\n",
              "      <td>Scotland</td>\n",
              "      <td>False</td>\n",
              "      <td>March-1874</td>\n",
              "      <td>Win</td>\n",
              "    </tr>\n",
              "    <tr>\n",
              "      <th>3</th>\n",
              "      <td>1875-03-06</td>\n",
              "      <td>England</td>\n",
              "      <td>Scotland</td>\n",
              "      <td>2</td>\n",
              "      <td>2</td>\n",
              "      <td>Friendly</td>\n",
              "      <td>London</td>\n",
              "      <td>England</td>\n",
              "      <td>False</td>\n",
              "      <td>March-1875</td>\n",
              "      <td>Draw</td>\n",
              "    </tr>\n",
              "    <tr>\n",
              "      <th>4</th>\n",
              "      <td>1876-03-04</td>\n",
              "      <td>Scotland</td>\n",
              "      <td>England</td>\n",
              "      <td>3</td>\n",
              "      <td>0</td>\n",
              "      <td>Friendly</td>\n",
              "      <td>Glasgow</td>\n",
              "      <td>Scotland</td>\n",
              "      <td>False</td>\n",
              "      <td>March-1876</td>\n",
              "      <td>Win</td>\n",
              "    </tr>\n",
              "  </tbody>\n",
              "</table>\n",
              "</div>"
            ],
            "text/plain": [
              "        date home_team away_team  ...  neutral           year status\n",
              "0 1872-11-30  Scotland   England  ...    False  November-1872   Draw\n",
              "1 1873-03-08   England  Scotland  ...    False     March-1873    Win\n",
              "2 1874-03-07  Scotland   England  ...    False     March-1874    Win\n",
              "3 1875-03-06   England  Scotland  ...    False     March-1875   Draw\n",
              "4 1876-03-04  Scotland   England  ...    False     March-1876    Win\n",
              "\n",
              "[5 rows x 11 columns]"
            ]
          },
          "metadata": {
            "tags": []
          },
          "execution_count": 20
        }
      ]
    },
    {
      "cell_type": "markdown",
      "metadata": {
        "id": "ObTJEEuAXBTk"
      },
      "source": [
        "**Obtaining the ranks for home and away teams**"
      ]
    },
    {
      "cell_type": "code",
      "metadata": {
        "id": "kCnIgIm7Uk7C",
        "outputId": "c6a1ee51-ad79-46c4-bffa-59e86a2a29e3",
        "colab": {
          "base_uri": "https://localhost:8080/",
          "height": 391
        }
      },
      "source": [
        "# merge the two dataframes on team name and date to obtain the ranks for home team\n",
        "home_rank = pd.merge(results, fifa_ranking, how='inner', right_on=[\"country_full\", \"year\"], left_on=['home_team', 'year'])\n",
        "\n",
        "\n",
        "# change rank column name to home team rank\n",
        "home_rank.rename(columns={'rank': 'home_rank'}, inplace=True)\n",
        "\n",
        "# drop unnecessary columns\n",
        "home_rank = home_rank.drop(['country_full', 'country_abrv', 'confederation', 'rank_date', 'date','city', 'country'], 1)\n",
        "home_rank.head()"
      ],
      "execution_count": null,
      "outputs": [
        {
          "output_type": "execute_result",
          "data": {
            "text/html": [
              "<div>\n",
              "<style scoped>\n",
              "    .dataframe tbody tr th:only-of-type {\n",
              "        vertical-align: middle;\n",
              "    }\n",
              "\n",
              "    .dataframe tbody tr th {\n",
              "        vertical-align: top;\n",
              "    }\n",
              "\n",
              "    .dataframe thead th {\n",
              "        text-align: right;\n",
              "    }\n",
              "</style>\n",
              "<table border=\"1\" class=\"dataframe\">\n",
              "  <thead>\n",
              "    <tr style=\"text-align: right;\">\n",
              "      <th></th>\n",
              "      <th>home_team</th>\n",
              "      <th>away_team</th>\n",
              "      <th>home_score</th>\n",
              "      <th>away_score</th>\n",
              "      <th>tournament</th>\n",
              "      <th>neutral</th>\n",
              "      <th>year</th>\n",
              "      <th>status</th>\n",
              "      <th>home_rank</th>\n",
              "      <th>total_points</th>\n",
              "      <th>previous_points</th>\n",
              "      <th>rank_change</th>\n",
              "      <th>cur_year_avg</th>\n",
              "      <th>cur_year_avg_weighted</th>\n",
              "      <th>last_year_avg</th>\n",
              "      <th>last_year_avg_weighted</th>\n",
              "      <th>two_year_ago_avg</th>\n",
              "      <th>two_year_ago_weighted</th>\n",
              "      <th>three_year_ago_avg</th>\n",
              "      <th>three_year_ago_weighted</th>\n",
              "    </tr>\n",
              "  </thead>\n",
              "  <tbody>\n",
              "    <tr>\n",
              "      <th>0</th>\n",
              "      <td>Colombia</td>\n",
              "      <td>Paraguay</td>\n",
              "      <td>0</td>\n",
              "      <td>0</td>\n",
              "      <td>FIFA World Cup qualification</td>\n",
              "      <td>False</td>\n",
              "      <td>August-1993</td>\n",
              "      <td>Draw</td>\n",
              "      <td>19</td>\n",
              "      <td>0.0</td>\n",
              "      <td>36</td>\n",
              "      <td>16</td>\n",
              "      <td>0.0</td>\n",
              "      <td>0.0</td>\n",
              "      <td>0.0</td>\n",
              "      <td>0.0</td>\n",
              "      <td>0.0</td>\n",
              "      <td>0.0</td>\n",
              "      <td>0.0</td>\n",
              "      <td>0.0</td>\n",
              "    </tr>\n",
              "    <tr>\n",
              "      <th>1</th>\n",
              "      <td>Colombia</td>\n",
              "      <td>Argentina</td>\n",
              "      <td>2</td>\n",
              "      <td>1</td>\n",
              "      <td>FIFA World Cup qualification</td>\n",
              "      <td>False</td>\n",
              "      <td>August-1993</td>\n",
              "      <td>Win</td>\n",
              "      <td>19</td>\n",
              "      <td>0.0</td>\n",
              "      <td>36</td>\n",
              "      <td>16</td>\n",
              "      <td>0.0</td>\n",
              "      <td>0.0</td>\n",
              "      <td>0.0</td>\n",
              "      <td>0.0</td>\n",
              "      <td>0.0</td>\n",
              "      <td>0.0</td>\n",
              "      <td>0.0</td>\n",
              "      <td>0.0</td>\n",
              "    </tr>\n",
              "    <tr>\n",
              "      <th>2</th>\n",
              "      <td>Colombia</td>\n",
              "      <td>Peru</td>\n",
              "      <td>4</td>\n",
              "      <td>0</td>\n",
              "      <td>FIFA World Cup qualification</td>\n",
              "      <td>False</td>\n",
              "      <td>August-1993</td>\n",
              "      <td>Win</td>\n",
              "      <td>19</td>\n",
              "      <td>0.0</td>\n",
              "      <td>36</td>\n",
              "      <td>16</td>\n",
              "      <td>0.0</td>\n",
              "      <td>0.0</td>\n",
              "      <td>0.0</td>\n",
              "      <td>0.0</td>\n",
              "      <td>0.0</td>\n",
              "      <td>0.0</td>\n",
              "      <td>0.0</td>\n",
              "      <td>0.0</td>\n",
              "    </tr>\n",
              "    <tr>\n",
              "      <th>3</th>\n",
              "      <td>Peru</td>\n",
              "      <td>Argentina</td>\n",
              "      <td>0</td>\n",
              "      <td>1</td>\n",
              "      <td>FIFA World Cup qualification</td>\n",
              "      <td>False</td>\n",
              "      <td>August-1993</td>\n",
              "      <td>Loss</td>\n",
              "      <td>70</td>\n",
              "      <td>0.0</td>\n",
              "      <td>16</td>\n",
              "      <td>8</td>\n",
              "      <td>0.0</td>\n",
              "      <td>0.0</td>\n",
              "      <td>0.0</td>\n",
              "      <td>0.0</td>\n",
              "      <td>0.0</td>\n",
              "      <td>0.0</td>\n",
              "      <td>0.0</td>\n",
              "      <td>0.0</td>\n",
              "    </tr>\n",
              "    <tr>\n",
              "      <th>4</th>\n",
              "      <td>Peru</td>\n",
              "      <td>Colombia</td>\n",
              "      <td>0</td>\n",
              "      <td>1</td>\n",
              "      <td>FIFA World Cup qualification</td>\n",
              "      <td>False</td>\n",
              "      <td>August-1993</td>\n",
              "      <td>Loss</td>\n",
              "      <td>70</td>\n",
              "      <td>0.0</td>\n",
              "      <td>16</td>\n",
              "      <td>8</td>\n",
              "      <td>0.0</td>\n",
              "      <td>0.0</td>\n",
              "      <td>0.0</td>\n",
              "      <td>0.0</td>\n",
              "      <td>0.0</td>\n",
              "      <td>0.0</td>\n",
              "      <td>0.0</td>\n",
              "      <td>0.0</td>\n",
              "    </tr>\n",
              "  </tbody>\n",
              "</table>\n",
              "</div>"
            ],
            "text/plain": [
              "  home_team  away_team  ...  three_year_ago_avg  three_year_ago_weighted\n",
              "0  Colombia   Paraguay  ...                 0.0                      0.0\n",
              "1  Colombia  Argentina  ...                 0.0                      0.0\n",
              "2  Colombia       Peru  ...                 0.0                      0.0\n",
              "3      Peru  Argentina  ...                 0.0                      0.0\n",
              "4      Peru   Colombia  ...                 0.0                      0.0\n",
              "\n",
              "[5 rows x 20 columns]"
            ]
          },
          "metadata": {
            "tags": []
          },
          "execution_count": 21
        }
      ]
    },
    {
      "cell_type": "code",
      "metadata": {
        "id": "fFgvOMatXVb_",
        "outputId": "16a129e5-a8d3-4889-d1b5-83caed94288c",
        "colab": {
          "base_uri": "https://localhost:8080/",
          "height": 391
        }
      },
      "source": [
        "away_rank = pd.merge(results, fifa_ranking, how='inner', right_on=[\"country_full\", \"year\"], left_on=['away_team', 'year'])\n",
        "\n",
        "\n",
        "# change rank column name to away team rank\n",
        "away_rank.rename(columns={'rank': 'away_rank'}, inplace=True)\n",
        "\n",
        "# drop unnecessary columns\n",
        "away_rank = away_rank.drop(['country_full', 'country_abrv', 'confederation', 'rank_date', 'date','city', 'country'], 1)\n",
        "away_rank.head()"
      ],
      "execution_count": null,
      "outputs": [
        {
          "output_type": "execute_result",
          "data": {
            "text/html": [
              "<div>\n",
              "<style scoped>\n",
              "    .dataframe tbody tr th:only-of-type {\n",
              "        vertical-align: middle;\n",
              "    }\n",
              "\n",
              "    .dataframe tbody tr th {\n",
              "        vertical-align: top;\n",
              "    }\n",
              "\n",
              "    .dataframe thead th {\n",
              "        text-align: right;\n",
              "    }\n",
              "</style>\n",
              "<table border=\"1\" class=\"dataframe\">\n",
              "  <thead>\n",
              "    <tr style=\"text-align: right;\">\n",
              "      <th></th>\n",
              "      <th>home_team</th>\n",
              "      <th>away_team</th>\n",
              "      <th>home_score</th>\n",
              "      <th>away_score</th>\n",
              "      <th>tournament</th>\n",
              "      <th>neutral</th>\n",
              "      <th>year</th>\n",
              "      <th>status</th>\n",
              "      <th>away_rank</th>\n",
              "      <th>total_points</th>\n",
              "      <th>previous_points</th>\n",
              "      <th>rank_change</th>\n",
              "      <th>cur_year_avg</th>\n",
              "      <th>cur_year_avg_weighted</th>\n",
              "      <th>last_year_avg</th>\n",
              "      <th>last_year_avg_weighted</th>\n",
              "      <th>two_year_ago_avg</th>\n",
              "      <th>two_year_ago_weighted</th>\n",
              "      <th>three_year_ago_avg</th>\n",
              "      <th>three_year_ago_weighted</th>\n",
              "    </tr>\n",
              "  </thead>\n",
              "  <tbody>\n",
              "    <tr>\n",
              "      <th>0</th>\n",
              "      <td>Colombia</td>\n",
              "      <td>Paraguay</td>\n",
              "      <td>0</td>\n",
              "      <td>0</td>\n",
              "      <td>FIFA World Cup qualification</td>\n",
              "      <td>False</td>\n",
              "      <td>August-1993</td>\n",
              "      <td>Draw</td>\n",
              "      <td>67</td>\n",
              "      <td>0.0</td>\n",
              "      <td>22</td>\n",
              "      <td>1</td>\n",
              "      <td>0.0</td>\n",
              "      <td>0.0</td>\n",
              "      <td>0.0</td>\n",
              "      <td>0.0</td>\n",
              "      <td>0.0</td>\n",
              "      <td>0.0</td>\n",
              "      <td>0.0</td>\n",
              "      <td>0.0</td>\n",
              "    </tr>\n",
              "    <tr>\n",
              "      <th>1</th>\n",
              "      <td>Argentina</td>\n",
              "      <td>Paraguay</td>\n",
              "      <td>0</td>\n",
              "      <td>0</td>\n",
              "      <td>FIFA World Cup qualification</td>\n",
              "      <td>False</td>\n",
              "      <td>August-1993</td>\n",
              "      <td>Draw</td>\n",
              "      <td>67</td>\n",
              "      <td>0.0</td>\n",
              "      <td>22</td>\n",
              "      <td>1</td>\n",
              "      <td>0.0</td>\n",
              "      <td>0.0</td>\n",
              "      <td>0.0</td>\n",
              "      <td>0.0</td>\n",
              "      <td>0.0</td>\n",
              "      <td>0.0</td>\n",
              "      <td>0.0</td>\n",
              "      <td>0.0</td>\n",
              "    </tr>\n",
              "    <tr>\n",
              "      <th>2</th>\n",
              "      <td>Peru</td>\n",
              "      <td>Argentina</td>\n",
              "      <td>0</td>\n",
              "      <td>1</td>\n",
              "      <td>FIFA World Cup qualification</td>\n",
              "      <td>False</td>\n",
              "      <td>August-1993</td>\n",
              "      <td>Loss</td>\n",
              "      <td>5</td>\n",
              "      <td>0.0</td>\n",
              "      <td>51</td>\n",
              "      <td>5</td>\n",
              "      <td>0.0</td>\n",
              "      <td>0.0</td>\n",
              "      <td>0.0</td>\n",
              "      <td>0.0</td>\n",
              "      <td>0.0</td>\n",
              "      <td>0.0</td>\n",
              "      <td>0.0</td>\n",
              "      <td>0.0</td>\n",
              "    </tr>\n",
              "    <tr>\n",
              "      <th>3</th>\n",
              "      <td>Paraguay</td>\n",
              "      <td>Argentina</td>\n",
              "      <td>1</td>\n",
              "      <td>3</td>\n",
              "      <td>FIFA World Cup qualification</td>\n",
              "      <td>False</td>\n",
              "      <td>August-1993</td>\n",
              "      <td>Loss</td>\n",
              "      <td>5</td>\n",
              "      <td>0.0</td>\n",
              "      <td>51</td>\n",
              "      <td>5</td>\n",
              "      <td>0.0</td>\n",
              "      <td>0.0</td>\n",
              "      <td>0.0</td>\n",
              "      <td>0.0</td>\n",
              "      <td>0.0</td>\n",
              "      <td>0.0</td>\n",
              "      <td>0.0</td>\n",
              "      <td>0.0</td>\n",
              "    </tr>\n",
              "    <tr>\n",
              "      <th>4</th>\n",
              "      <td>Colombia</td>\n",
              "      <td>Argentina</td>\n",
              "      <td>2</td>\n",
              "      <td>1</td>\n",
              "      <td>FIFA World Cup qualification</td>\n",
              "      <td>False</td>\n",
              "      <td>August-1993</td>\n",
              "      <td>Win</td>\n",
              "      <td>5</td>\n",
              "      <td>0.0</td>\n",
              "      <td>51</td>\n",
              "      <td>5</td>\n",
              "      <td>0.0</td>\n",
              "      <td>0.0</td>\n",
              "      <td>0.0</td>\n",
              "      <td>0.0</td>\n",
              "      <td>0.0</td>\n",
              "      <td>0.0</td>\n",
              "      <td>0.0</td>\n",
              "      <td>0.0</td>\n",
              "    </tr>\n",
              "  </tbody>\n",
              "</table>\n",
              "</div>"
            ],
            "text/plain": [
              "   home_team  away_team  ...  three_year_ago_avg  three_year_ago_weighted\n",
              "0   Colombia   Paraguay  ...                 0.0                      0.0\n",
              "1  Argentina   Paraguay  ...                 0.0                      0.0\n",
              "2       Peru  Argentina  ...                 0.0                      0.0\n",
              "3   Paraguay  Argentina  ...                 0.0                      0.0\n",
              "4   Colombia  Argentina  ...                 0.0                      0.0\n",
              "\n",
              "[5 rows x 20 columns]"
            ]
          },
          "metadata": {
            "tags": []
          },
          "execution_count": 22
        }
      ]
    },
    {
      "cell_type": "code",
      "metadata": {
        "id": "43UhaFqX0EXm",
        "outputId": "351dd12f-ae10-4eea-961b-37c73c68c9c5",
        "colab": {
          "base_uri": "https://localhost:8080/",
          "height": 391
        }
      },
      "source": [
        "# merge the two dataframes onto one\n",
        "data = pd.merge(home_rank, away_rank, left_on = ['home_team', 'away_team', 'year'],\n",
        "                 right_on = ['home_team', 'away_team', 'year'], how = 'inner')\n",
        "\n",
        "data.head()"
      ],
      "execution_count": null,
      "outputs": [
        {
          "output_type": "execute_result",
          "data": {
            "text/html": [
              "<div>\n",
              "<style scoped>\n",
              "    .dataframe tbody tr th:only-of-type {\n",
              "        vertical-align: middle;\n",
              "    }\n",
              "\n",
              "    .dataframe tbody tr th {\n",
              "        vertical-align: top;\n",
              "    }\n",
              "\n",
              "    .dataframe thead th {\n",
              "        text-align: right;\n",
              "    }\n",
              "</style>\n",
              "<table border=\"1\" class=\"dataframe\">\n",
              "  <thead>\n",
              "    <tr style=\"text-align: right;\">\n",
              "      <th></th>\n",
              "      <th>home_team</th>\n",
              "      <th>away_team</th>\n",
              "      <th>home_score_x</th>\n",
              "      <th>away_score_x</th>\n",
              "      <th>tournament_x</th>\n",
              "      <th>neutral_x</th>\n",
              "      <th>year</th>\n",
              "      <th>status_x</th>\n",
              "      <th>home_rank</th>\n",
              "      <th>total_points_x</th>\n",
              "      <th>previous_points_x</th>\n",
              "      <th>rank_change_x</th>\n",
              "      <th>cur_year_avg_x</th>\n",
              "      <th>cur_year_avg_weighted_x</th>\n",
              "      <th>last_year_avg_x</th>\n",
              "      <th>last_year_avg_weighted_x</th>\n",
              "      <th>two_year_ago_avg_x</th>\n",
              "      <th>two_year_ago_weighted_x</th>\n",
              "      <th>three_year_ago_avg_x</th>\n",
              "      <th>three_year_ago_weighted_x</th>\n",
              "      <th>home_score_y</th>\n",
              "      <th>away_score_y</th>\n",
              "      <th>tournament_y</th>\n",
              "      <th>neutral_y</th>\n",
              "      <th>status_y</th>\n",
              "      <th>away_rank</th>\n",
              "      <th>total_points_y</th>\n",
              "      <th>previous_points_y</th>\n",
              "      <th>rank_change_y</th>\n",
              "      <th>cur_year_avg_y</th>\n",
              "      <th>cur_year_avg_weighted_y</th>\n",
              "      <th>last_year_avg_y</th>\n",
              "      <th>last_year_avg_weighted_y</th>\n",
              "      <th>two_year_ago_avg_y</th>\n",
              "      <th>two_year_ago_weighted_y</th>\n",
              "      <th>three_year_ago_avg_y</th>\n",
              "      <th>three_year_ago_weighted_y</th>\n",
              "    </tr>\n",
              "  </thead>\n",
              "  <tbody>\n",
              "    <tr>\n",
              "      <th>0</th>\n",
              "      <td>Colombia</td>\n",
              "      <td>Paraguay</td>\n",
              "      <td>0</td>\n",
              "      <td>0</td>\n",
              "      <td>FIFA World Cup qualification</td>\n",
              "      <td>False</td>\n",
              "      <td>August-1993</td>\n",
              "      <td>Draw</td>\n",
              "      <td>19</td>\n",
              "      <td>0.0</td>\n",
              "      <td>36</td>\n",
              "      <td>16</td>\n",
              "      <td>0.0</td>\n",
              "      <td>0.0</td>\n",
              "      <td>0.0</td>\n",
              "      <td>0.0</td>\n",
              "      <td>0.0</td>\n",
              "      <td>0.0</td>\n",
              "      <td>0.0</td>\n",
              "      <td>0.0</td>\n",
              "      <td>0</td>\n",
              "      <td>0</td>\n",
              "      <td>FIFA World Cup qualification</td>\n",
              "      <td>False</td>\n",
              "      <td>Draw</td>\n",
              "      <td>67</td>\n",
              "      <td>0.0</td>\n",
              "      <td>22</td>\n",
              "      <td>1</td>\n",
              "      <td>0.0</td>\n",
              "      <td>0.0</td>\n",
              "      <td>0.0</td>\n",
              "      <td>0.0</td>\n",
              "      <td>0.0</td>\n",
              "      <td>0.0</td>\n",
              "      <td>0.0</td>\n",
              "      <td>0.0</td>\n",
              "    </tr>\n",
              "    <tr>\n",
              "      <th>1</th>\n",
              "      <td>Colombia</td>\n",
              "      <td>Argentina</td>\n",
              "      <td>2</td>\n",
              "      <td>1</td>\n",
              "      <td>FIFA World Cup qualification</td>\n",
              "      <td>False</td>\n",
              "      <td>August-1993</td>\n",
              "      <td>Win</td>\n",
              "      <td>19</td>\n",
              "      <td>0.0</td>\n",
              "      <td>36</td>\n",
              "      <td>16</td>\n",
              "      <td>0.0</td>\n",
              "      <td>0.0</td>\n",
              "      <td>0.0</td>\n",
              "      <td>0.0</td>\n",
              "      <td>0.0</td>\n",
              "      <td>0.0</td>\n",
              "      <td>0.0</td>\n",
              "      <td>0.0</td>\n",
              "      <td>2</td>\n",
              "      <td>1</td>\n",
              "      <td>FIFA World Cup qualification</td>\n",
              "      <td>False</td>\n",
              "      <td>Win</td>\n",
              "      <td>5</td>\n",
              "      <td>0.0</td>\n",
              "      <td>51</td>\n",
              "      <td>5</td>\n",
              "      <td>0.0</td>\n",
              "      <td>0.0</td>\n",
              "      <td>0.0</td>\n",
              "      <td>0.0</td>\n",
              "      <td>0.0</td>\n",
              "      <td>0.0</td>\n",
              "      <td>0.0</td>\n",
              "      <td>0.0</td>\n",
              "    </tr>\n",
              "    <tr>\n",
              "      <th>2</th>\n",
              "      <td>Colombia</td>\n",
              "      <td>Peru</td>\n",
              "      <td>4</td>\n",
              "      <td>0</td>\n",
              "      <td>FIFA World Cup qualification</td>\n",
              "      <td>False</td>\n",
              "      <td>August-1993</td>\n",
              "      <td>Win</td>\n",
              "      <td>19</td>\n",
              "      <td>0.0</td>\n",
              "      <td>36</td>\n",
              "      <td>16</td>\n",
              "      <td>0.0</td>\n",
              "      <td>0.0</td>\n",
              "      <td>0.0</td>\n",
              "      <td>0.0</td>\n",
              "      <td>0.0</td>\n",
              "      <td>0.0</td>\n",
              "      <td>0.0</td>\n",
              "      <td>0.0</td>\n",
              "      <td>4</td>\n",
              "      <td>0</td>\n",
              "      <td>FIFA World Cup qualification</td>\n",
              "      <td>False</td>\n",
              "      <td>Win</td>\n",
              "      <td>70</td>\n",
              "      <td>0.0</td>\n",
              "      <td>16</td>\n",
              "      <td>8</td>\n",
              "      <td>0.0</td>\n",
              "      <td>0.0</td>\n",
              "      <td>0.0</td>\n",
              "      <td>0.0</td>\n",
              "      <td>0.0</td>\n",
              "      <td>0.0</td>\n",
              "      <td>0.0</td>\n",
              "      <td>0.0</td>\n",
              "    </tr>\n",
              "    <tr>\n",
              "      <th>3</th>\n",
              "      <td>Peru</td>\n",
              "      <td>Argentina</td>\n",
              "      <td>0</td>\n",
              "      <td>1</td>\n",
              "      <td>FIFA World Cup qualification</td>\n",
              "      <td>False</td>\n",
              "      <td>August-1993</td>\n",
              "      <td>Loss</td>\n",
              "      <td>70</td>\n",
              "      <td>0.0</td>\n",
              "      <td>16</td>\n",
              "      <td>8</td>\n",
              "      <td>0.0</td>\n",
              "      <td>0.0</td>\n",
              "      <td>0.0</td>\n",
              "      <td>0.0</td>\n",
              "      <td>0.0</td>\n",
              "      <td>0.0</td>\n",
              "      <td>0.0</td>\n",
              "      <td>0.0</td>\n",
              "      <td>0</td>\n",
              "      <td>1</td>\n",
              "      <td>FIFA World Cup qualification</td>\n",
              "      <td>False</td>\n",
              "      <td>Loss</td>\n",
              "      <td>5</td>\n",
              "      <td>0.0</td>\n",
              "      <td>51</td>\n",
              "      <td>5</td>\n",
              "      <td>0.0</td>\n",
              "      <td>0.0</td>\n",
              "      <td>0.0</td>\n",
              "      <td>0.0</td>\n",
              "      <td>0.0</td>\n",
              "      <td>0.0</td>\n",
              "      <td>0.0</td>\n",
              "      <td>0.0</td>\n",
              "    </tr>\n",
              "    <tr>\n",
              "      <th>4</th>\n",
              "      <td>Peru</td>\n",
              "      <td>Colombia</td>\n",
              "      <td>0</td>\n",
              "      <td>1</td>\n",
              "      <td>FIFA World Cup qualification</td>\n",
              "      <td>False</td>\n",
              "      <td>August-1993</td>\n",
              "      <td>Loss</td>\n",
              "      <td>70</td>\n",
              "      <td>0.0</td>\n",
              "      <td>16</td>\n",
              "      <td>8</td>\n",
              "      <td>0.0</td>\n",
              "      <td>0.0</td>\n",
              "      <td>0.0</td>\n",
              "      <td>0.0</td>\n",
              "      <td>0.0</td>\n",
              "      <td>0.0</td>\n",
              "      <td>0.0</td>\n",
              "      <td>0.0</td>\n",
              "      <td>0</td>\n",
              "      <td>1</td>\n",
              "      <td>FIFA World Cup qualification</td>\n",
              "      <td>False</td>\n",
              "      <td>Loss</td>\n",
              "      <td>19</td>\n",
              "      <td>0.0</td>\n",
              "      <td>36</td>\n",
              "      <td>16</td>\n",
              "      <td>0.0</td>\n",
              "      <td>0.0</td>\n",
              "      <td>0.0</td>\n",
              "      <td>0.0</td>\n",
              "      <td>0.0</td>\n",
              "      <td>0.0</td>\n",
              "      <td>0.0</td>\n",
              "      <td>0.0</td>\n",
              "    </tr>\n",
              "  </tbody>\n",
              "</table>\n",
              "</div>"
            ],
            "text/plain": [
              "  home_team  away_team  ...  three_year_ago_avg_y  three_year_ago_weighted_y\n",
              "0  Colombia   Paraguay  ...                   0.0                        0.0\n",
              "1  Colombia  Argentina  ...                   0.0                        0.0\n",
              "2  Colombia       Peru  ...                   0.0                        0.0\n",
              "3      Peru  Argentina  ...                   0.0                        0.0\n",
              "4      Peru   Colombia  ...                   0.0                        0.0\n",
              "\n",
              "[5 rows x 37 columns]"
            ]
          },
          "metadata": {
            "tags": []
          },
          "execution_count": 23
        }
      ]
    },
    {
      "cell_type": "code",
      "metadata": {
        "id": "sKOeykF40s4U",
        "outputId": "039e9b85-ec92-46ba-d9d7-b318b4049221",
        "colab": {
          "base_uri": "https://localhost:8080/",
          "height": 391
        }
      },
      "source": [
        "# drop redundant columns that occur after merge\n",
        "data = data.drop(['home_score_x', 'away_score_x','tournament_x', 'neutral_x', 'status_x',\n",
        "                 'total_points_x', 'previous_points_x', 'rank_change_x', 'cur_year_avg_x', \n",
        "                 'cur_year_avg_weighted_x', 'last_year_avg_x', 'last_year_avg_weighted_x', \n",
        "                 'two_year_ago_avg_x', 'two_year_ago_weighted_x', 'three_year_ago_avg_x', \n",
        "                 'three_year_ago_weighted_x'], 1)\n",
        "data.head()"
      ],
      "execution_count": null,
      "outputs": [
        {
          "output_type": "execute_result",
          "data": {
            "text/html": [
              "<div>\n",
              "<style scoped>\n",
              "    .dataframe tbody tr th:only-of-type {\n",
              "        vertical-align: middle;\n",
              "    }\n",
              "\n",
              "    .dataframe tbody tr th {\n",
              "        vertical-align: top;\n",
              "    }\n",
              "\n",
              "    .dataframe thead th {\n",
              "        text-align: right;\n",
              "    }\n",
              "</style>\n",
              "<table border=\"1\" class=\"dataframe\">\n",
              "  <thead>\n",
              "    <tr style=\"text-align: right;\">\n",
              "      <th></th>\n",
              "      <th>home_team</th>\n",
              "      <th>away_team</th>\n",
              "      <th>year</th>\n",
              "      <th>home_rank</th>\n",
              "      <th>home_score_y</th>\n",
              "      <th>away_score_y</th>\n",
              "      <th>tournament_y</th>\n",
              "      <th>neutral_y</th>\n",
              "      <th>status_y</th>\n",
              "      <th>away_rank</th>\n",
              "      <th>total_points_y</th>\n",
              "      <th>previous_points_y</th>\n",
              "      <th>rank_change_y</th>\n",
              "      <th>cur_year_avg_y</th>\n",
              "      <th>cur_year_avg_weighted_y</th>\n",
              "      <th>last_year_avg_y</th>\n",
              "      <th>last_year_avg_weighted_y</th>\n",
              "      <th>two_year_ago_avg_y</th>\n",
              "      <th>two_year_ago_weighted_y</th>\n",
              "      <th>three_year_ago_avg_y</th>\n",
              "      <th>three_year_ago_weighted_y</th>\n",
              "    </tr>\n",
              "  </thead>\n",
              "  <tbody>\n",
              "    <tr>\n",
              "      <th>0</th>\n",
              "      <td>Colombia</td>\n",
              "      <td>Paraguay</td>\n",
              "      <td>August-1993</td>\n",
              "      <td>19</td>\n",
              "      <td>0</td>\n",
              "      <td>0</td>\n",
              "      <td>FIFA World Cup qualification</td>\n",
              "      <td>False</td>\n",
              "      <td>Draw</td>\n",
              "      <td>67</td>\n",
              "      <td>0.0</td>\n",
              "      <td>22</td>\n",
              "      <td>1</td>\n",
              "      <td>0.0</td>\n",
              "      <td>0.0</td>\n",
              "      <td>0.0</td>\n",
              "      <td>0.0</td>\n",
              "      <td>0.0</td>\n",
              "      <td>0.0</td>\n",
              "      <td>0.0</td>\n",
              "      <td>0.0</td>\n",
              "    </tr>\n",
              "    <tr>\n",
              "      <th>1</th>\n",
              "      <td>Colombia</td>\n",
              "      <td>Argentina</td>\n",
              "      <td>August-1993</td>\n",
              "      <td>19</td>\n",
              "      <td>2</td>\n",
              "      <td>1</td>\n",
              "      <td>FIFA World Cup qualification</td>\n",
              "      <td>False</td>\n",
              "      <td>Win</td>\n",
              "      <td>5</td>\n",
              "      <td>0.0</td>\n",
              "      <td>51</td>\n",
              "      <td>5</td>\n",
              "      <td>0.0</td>\n",
              "      <td>0.0</td>\n",
              "      <td>0.0</td>\n",
              "      <td>0.0</td>\n",
              "      <td>0.0</td>\n",
              "      <td>0.0</td>\n",
              "      <td>0.0</td>\n",
              "      <td>0.0</td>\n",
              "    </tr>\n",
              "    <tr>\n",
              "      <th>2</th>\n",
              "      <td>Colombia</td>\n",
              "      <td>Peru</td>\n",
              "      <td>August-1993</td>\n",
              "      <td>19</td>\n",
              "      <td>4</td>\n",
              "      <td>0</td>\n",
              "      <td>FIFA World Cup qualification</td>\n",
              "      <td>False</td>\n",
              "      <td>Win</td>\n",
              "      <td>70</td>\n",
              "      <td>0.0</td>\n",
              "      <td>16</td>\n",
              "      <td>8</td>\n",
              "      <td>0.0</td>\n",
              "      <td>0.0</td>\n",
              "      <td>0.0</td>\n",
              "      <td>0.0</td>\n",
              "      <td>0.0</td>\n",
              "      <td>0.0</td>\n",
              "      <td>0.0</td>\n",
              "      <td>0.0</td>\n",
              "    </tr>\n",
              "    <tr>\n",
              "      <th>3</th>\n",
              "      <td>Peru</td>\n",
              "      <td>Argentina</td>\n",
              "      <td>August-1993</td>\n",
              "      <td>70</td>\n",
              "      <td>0</td>\n",
              "      <td>1</td>\n",
              "      <td>FIFA World Cup qualification</td>\n",
              "      <td>False</td>\n",
              "      <td>Loss</td>\n",
              "      <td>5</td>\n",
              "      <td>0.0</td>\n",
              "      <td>51</td>\n",
              "      <td>5</td>\n",
              "      <td>0.0</td>\n",
              "      <td>0.0</td>\n",
              "      <td>0.0</td>\n",
              "      <td>0.0</td>\n",
              "      <td>0.0</td>\n",
              "      <td>0.0</td>\n",
              "      <td>0.0</td>\n",
              "      <td>0.0</td>\n",
              "    </tr>\n",
              "    <tr>\n",
              "      <th>4</th>\n",
              "      <td>Peru</td>\n",
              "      <td>Colombia</td>\n",
              "      <td>August-1993</td>\n",
              "      <td>70</td>\n",
              "      <td>0</td>\n",
              "      <td>1</td>\n",
              "      <td>FIFA World Cup qualification</td>\n",
              "      <td>False</td>\n",
              "      <td>Loss</td>\n",
              "      <td>19</td>\n",
              "      <td>0.0</td>\n",
              "      <td>36</td>\n",
              "      <td>16</td>\n",
              "      <td>0.0</td>\n",
              "      <td>0.0</td>\n",
              "      <td>0.0</td>\n",
              "      <td>0.0</td>\n",
              "      <td>0.0</td>\n",
              "      <td>0.0</td>\n",
              "      <td>0.0</td>\n",
              "      <td>0.0</td>\n",
              "    </tr>\n",
              "  </tbody>\n",
              "</table>\n",
              "</div>"
            ],
            "text/plain": [
              "  home_team  away_team  ... three_year_ago_avg_y  three_year_ago_weighted_y\n",
              "0  Colombia   Paraguay  ...                  0.0                        0.0\n",
              "1  Colombia  Argentina  ...                  0.0                        0.0\n",
              "2  Colombia       Peru  ...                  0.0                        0.0\n",
              "3      Peru  Argentina  ...                  0.0                        0.0\n",
              "4      Peru   Colombia  ...                  0.0                        0.0\n",
              "\n",
              "[5 rows x 21 columns]"
            ]
          },
          "metadata": {
            "tags": []
          },
          "execution_count": 24
        }
      ]
    },
    {
      "cell_type": "code",
      "metadata": {
        "id": "8QWjqaAppfJF",
        "outputId": "548fd364-732a-4fe3-e5f1-8748a0d55e19",
        "colab": {
          "base_uri": "https://localhost:8080/",
          "height": 72
        }
      },
      "source": [
        "'''\n",
        "def tourn(values):\n",
        "  index = 0\n",
        "  for x in values:\n",
        "    if x == 'FIFA World Cup':\n",
        "      values[index] = 'World Cup'\n",
        "    elif x != 'Friendly':\n",
        "      values[index] = 'Other'\n",
        "\n",
        "    index = index + 1\n",
        "\n",
        "  return values\n",
        "\n",
        "df2 = tourn(df['tournament'].unique())\n",
        "# away_rank['tournament'].unique()\n",
        "'''"
      ],
      "execution_count": null,
      "outputs": [
        {
          "output_type": "execute_result",
          "data": {
            "application/vnd.google.colaboratory.intrinsic+json": {
              "type": "string"
            },
            "text/plain": [
              "\"\\ndef tourn(values):\\n  index = 0\\n  for x in values:\\n    if x == 'FIFA World Cup':\\n      values[index] = 'World Cup'\\n    elif x != 'Friendly':\\n      values[index] = 'Other'\\n\\n    index = index + 1\\n\\n  return values\\n\\ndf2 = tourn(df['tournament'].unique())\\n# away_rank['tournament'].unique()\\n\""
            ]
          },
          "metadata": {
            "tags": []
          },
          "execution_count": 25
        }
      ]
    },
    {
      "cell_type": "code",
      "metadata": {
        "id": "kA6gRtjX3uF0",
        "outputId": "aa8a13cd-022a-4b85-fc56-0dace832effb",
        "colab": {
          "base_uri": "https://localhost:8080/",
          "height": 417
        }
      },
      "source": [
        "# check for any null values\n",
        "data.isnull().sum()"
      ],
      "execution_count": null,
      "outputs": [
        {
          "output_type": "execute_result",
          "data": {
            "text/plain": [
              "home_team                    0\n",
              "away_team                    0\n",
              "year                         0\n",
              "home_rank                    0\n",
              "home_score_y                 0\n",
              "away_score_y                 0\n",
              "tournament_y                 0\n",
              "neutral_y                    0\n",
              "status_y                     0\n",
              "away_rank                    0\n",
              "total_points_y               0\n",
              "previous_points_y            0\n",
              "rank_change_y                0\n",
              "cur_year_avg_y               0\n",
              "cur_year_avg_weighted_y      0\n",
              "last_year_avg_y              0\n",
              "last_year_avg_weighted_y     0\n",
              "two_year_ago_avg_y           0\n",
              "two_year_ago_weighted_y      0\n",
              "three_year_ago_avg_y         0\n",
              "three_year_ago_weighted_y    0\n",
              "dtype: int64"
            ]
          },
          "metadata": {
            "tags": []
          },
          "execution_count": 26
        }
      ]
    },
    {
      "cell_type": "code",
      "metadata": {
        "id": "LIBfZyLdzrx2",
        "outputId": "72b2d1ee-bb99-4c88-d3a0-41dca6576aa6",
        "colab": {
          "base_uri": "https://localhost:8080/",
          "height": 108
        }
      },
      "source": [
        "# check for any duplicated entries in the away rank dataframe\n",
        "print(f\"Number of records with duplicates: {data.shape}\")\n",
        "print(f\"Duplicated entries: {data.duplicated().sum()}\")\n",
        "\n",
        "print(\"..................\")\n",
        "# drop duplicates while keeping the first entry\n",
        "data = data.drop_duplicates(keep='first')\n",
        "print(f\"Number of records without duplicates: {data.shape}\")\n",
        "print(f\"Duplicate entries: {data.duplicated().sum()}\")"
      ],
      "execution_count": null,
      "outputs": [
        {
          "output_type": "stream",
          "text": [
            "Number of records with duplicates: (13516, 21)\n",
            "Duplicated entries: 625\n",
            "..................\n",
            "Number of records without duplicates: (12891, 21)\n",
            "Duplicate entries: 0\n"
          ],
          "name": "stdout"
        }
      ]
    },
    {
      "cell_type": "markdown",
      "metadata": {
        "id": "UZwz1DZerrLB"
      },
      "source": [
        "**Outliers**"
      ]
    },
    {
      "cell_type": "code",
      "metadata": {
        "id": "TqE3jsX50DB7",
        "outputId": "ccb21966-6432-486f-ca9d-d52e1919d723",
        "colab": {
          "base_uri": "https://localhost:8080/",
          "height": 961
        }
      },
      "source": [
        "# Checking for Outliers\n",
        " \n",
        "# save the column names onto a dictionary\n",
        "columns_dict = {'home_rank':1, 'away_rank': 2, 'home_score_y': 3, 'away_score_y': 4, \n",
        "                'total_points_y':5, 'previous_points_y':6, 'rank_change_y':7,'cur_year_avg_y':8, \n",
        "                'cur_year_avg_weighted_y':9, 'last_year_avg_y':10,'last_year_avg_weighted_y':11,\n",
        "                'two_year_ago_avg_y':12, 'two_year_ago_weighted_y':13,'three_year_ago_avg_y':14, \n",
        "                'three_year_ago_weighted_y':15}\n",
        "\n",
        "plt.figure(figsize=(20,30))\n",
        "\n",
        "# make a boxplot for each numerical column\n",
        "for variable,i in columns_dict.items():\n",
        "  plt.subplot(5,4,i)\n",
        "  plt.boxplot(data[variable])\n",
        "  plt.title(variable)\n",
        "\n",
        "plt.show()"
      ],
      "execution_count": null,
      "outputs": [
        {
          "output_type": "display_data",
          "data": {
            "image/png": "[encoded data removed]",
            "text/plain": [
              "<Figure size 1440x2160 with 15 Axes>"
            ]
          },
          "metadata": {
            "tags": [],
            "needs_background": "light"
          }
        }
      ]
    },
    {
      "cell_type": "code",
      "metadata": {
        "id": "ijwkym_e0Tp_",
        "outputId": "53be1919-1cf3-41f4-93e8-eae88a2c7c9a",
        "colab": {
          "base_uri": "https://localhost:8080/",
          "height": 72
        }
      },
      "source": [
        "# dealing with outliers\n",
        "\n",
        "print(f\"Size of dataset with outliers: {data.shape}\")\n",
        "# dealing with outliers\n",
        "Q1 = data.quantile(0.25)\n",
        "Q3 = data.quantile(0.75)\n",
        "IQR = Q3 - Q1\n",
        "data = data[~((data < (Q1 - 1.5 * IQR)) | (data > (Q3 + 1.5 * IQR))).any(axis=1)]\n",
        "\n",
        "print(\"...................\")\n",
        "\n",
        "print(f\"Size of dataset after removal of outliers: {data.shape}\")"
      ],
      "execution_count": null,
      "outputs": [
        {
          "output_type": "stream",
          "text": [
            "Size of dataset with outliers: (12891, 21)\n",
            "...................\n",
            "Size of dataset after removal of outliers: (7541, 21)\n"
          ],
          "name": "stdout"
        }
      ]
    },
    {
      "cell_type": "markdown",
      "metadata": {
        "id": "5ibMnNcCtiBZ"
      },
      "source": [
        "**Anomalies**"
      ]
    },
    {
      "cell_type": "code",
      "metadata": {
        "id": "4UooBaUQ0hjX",
        "outputId": "2230c447-3f80-447a-ed29-82e55bb0363f",
        "colab": {
          "base_uri": "https://localhost:8080/",
          "height": 35
        }
      },
      "source": [
        "# checking for anomalies\n",
        "# calculate the interquartile range using pandas\n",
        "Q1 = data['home_score_y'].quantile(0.25)\n",
        "Q3 = data['home_score_y'].quantile(0.75)\n",
        "IQR = Q3 - Q1\n",
        "\n",
        "# calculate the interquartile range using numpy\n",
        "iqr1 = np.quantile(data['home_score_y'], .25)\n",
        "iqr3 = np.quantile(data['home_score_y'], .75)\n",
        "IQR2 = iqr3 - iqr1\n",
        "\n",
        "# compare the two values\n",
        "print(IQR, IQR2)"
      ],
      "execution_count": null,
      "outputs": [
        {
          "output_type": "stream",
          "text": [
            "2.0 2.0\n"
          ],
          "name": "stdout"
        }
      ]
    },
    {
      "cell_type": "markdown",
      "metadata": {
        "id": "3OdBsc1F0xSI"
      },
      "source": [
        "# Exploratory Data Analysis(EDA)"
      ]
    },
    {
      "cell_type": "markdown",
      "metadata": {
        "id": "AdLb-RfQ61K4"
      },
      "source": [
        "## **Univariate Analysis**"
      ]
    },
    {
      "cell_type": "code",
      "metadata": {
        "id": "L_mc0IqStePD",
        "outputId": "59a3ed9f-eef2-4316-c720-e5706db698e1",
        "colab": {
          "base_uri": "https://localhost:8080/",
          "height": 961
        }
      },
      "source": [
        "# plot histograms for all numeric columns\n",
        "plt.figure(figsize = (20,30))\n",
        "for variable,i in columns_dict.items():\n",
        "  \n",
        "  plt.subplot(5,4,i)\n",
        "  sns.distplot(data[variable])\n",
        "  plt.title(variable)\n",
        "\n",
        "plt.show()"
      ],
      "execution_count": null,
      "outputs": [
        {
          "output_type": "display_data",
          "data": {
            "image/png": "[encoded data removed]",
            "text/plain": [
              "<Figure size 1440x2160 with 15 Axes>"
            ]
          },
          "metadata": {
            "tags": [],
            "needs_background": "light"
          }
        }
      ]
    },
    {
      "cell_type": "code",
      "metadata": {
        "id": "Enc-S9xa2024",
        "outputId": "c01c22ab-5493-4d5b-e016-1b06a8482a24",
        "colab": {
          "base_uri": "https://localhost:8080/",
          "height": 308
        }
      },
      "source": [
        "# statistical description of the data\n",
        "data.describe()"
      ],
      "execution_count": null,
      "outputs": [
        {
          "output_type": "execute_result",
          "data": {
            "text/html": [
              "<div>\n",
              "<style scoped>\n",
              "    .dataframe tbody tr th:only-of-type {\n",
              "        vertical-align: middle;\n",
              "    }\n",
              "\n",
              "    .dataframe tbody tr th {\n",
              "        vertical-align: top;\n",
              "    }\n",
              "\n",
              "    .dataframe thead th {\n",
              "        text-align: right;\n",
              "    }\n",
              "</style>\n",
              "<table border=\"1\" class=\"dataframe\">\n",
              "  <thead>\n",
              "    <tr style=\"text-align: right;\">\n",
              "      <th></th>\n",
              "      <th>home_rank</th>\n",
              "      <th>home_score_y</th>\n",
              "      <th>away_score_y</th>\n",
              "      <th>away_rank</th>\n",
              "      <th>total_points_y</th>\n",
              "      <th>previous_points_y</th>\n",
              "      <th>rank_change_y</th>\n",
              "      <th>cur_year_avg_y</th>\n",
              "      <th>cur_year_avg_weighted_y</th>\n",
              "      <th>last_year_avg_y</th>\n",
              "      <th>last_year_avg_weighted_y</th>\n",
              "      <th>two_year_ago_avg_y</th>\n",
              "      <th>two_year_ago_weighted_y</th>\n",
              "      <th>three_year_ago_avg_y</th>\n",
              "      <th>three_year_ago_weighted_y</th>\n",
              "    </tr>\n",
              "  </thead>\n",
              "  <tbody>\n",
              "    <tr>\n",
              "      <th>count</th>\n",
              "      <td>7541.000000</td>\n",
              "      <td>7541.000000</td>\n",
              "      <td>7541.000000</td>\n",
              "      <td>7541.000000</td>\n",
              "      <td>7541.000000</td>\n",
              "      <td>7541.000000</td>\n",
              "      <td>7541.000000</td>\n",
              "      <td>7541.000000</td>\n",
              "      <td>7541.000000</td>\n",
              "      <td>7541.000000</td>\n",
              "      <td>7541.000000</td>\n",
              "      <td>7541.000000</td>\n",
              "      <td>7541.000000</td>\n",
              "      <td>7541.000000</td>\n",
              "      <td>7541.000000</td>\n",
              "    </tr>\n",
              "    <tr>\n",
              "      <th>mean</th>\n",
              "      <td>76.946294</td>\n",
              "      <td>1.269593</td>\n",
              "      <td>0.981170</td>\n",
              "      <td>75.725103</td>\n",
              "      <td>12.897979</td>\n",
              "      <td>390.415595</td>\n",
              "      <td>0.012863</td>\n",
              "      <td>6.916494</td>\n",
              "      <td>6.916494</td>\n",
              "      <td>6.447758</td>\n",
              "      <td>3.223904</td>\n",
              "      <td>5.291217</td>\n",
              "      <td>1.587378</td>\n",
              "      <td>5.851209</td>\n",
              "      <td>1.170263</td>\n",
              "    </tr>\n",
              "    <tr>\n",
              "      <th>std</th>\n",
              "      <td>48.972072</td>\n",
              "      <td>1.001254</td>\n",
              "      <td>1.077705</td>\n",
              "      <td>51.161648</td>\n",
              "      <td>49.645123</td>\n",
              "      <td>278.260403</td>\n",
              "      <td>3.157236</td>\n",
              "      <td>28.363868</td>\n",
              "      <td>28.363868</td>\n",
              "      <td>27.235844</td>\n",
              "      <td>13.617958</td>\n",
              "      <td>22.907445</td>\n",
              "      <td>6.872291</td>\n",
              "      <td>24.716003</td>\n",
              "      <td>4.943284</td>\n",
              "    </tr>\n",
              "    <tr>\n",
              "      <th>min</th>\n",
              "      <td>1.000000</td>\n",
              "      <td>0.000000</td>\n",
              "      <td>0.000000</td>\n",
              "      <td>1.000000</td>\n",
              "      <td>0.000000</td>\n",
              "      <td>0.000000</td>\n",
              "      <td>-8.000000</td>\n",
              "      <td>0.000000</td>\n",
              "      <td>0.000000</td>\n",
              "      <td>0.000000</td>\n",
              "      <td>0.000000</td>\n",
              "      <td>0.000000</td>\n",
              "      <td>0.000000</td>\n",
              "      <td>0.000000</td>\n",
              "      <td>0.000000</td>\n",
              "    </tr>\n",
              "    <tr>\n",
              "      <th>25%</th>\n",
              "      <td>35.000000</td>\n",
              "      <td>0.000000</td>\n",
              "      <td>0.000000</td>\n",
              "      <td>32.000000</td>\n",
              "      <td>0.000000</td>\n",
              "      <td>108.000000</td>\n",
              "      <td>-2.000000</td>\n",
              "      <td>0.000000</td>\n",
              "      <td>0.000000</td>\n",
              "      <td>0.000000</td>\n",
              "      <td>0.000000</td>\n",
              "      <td>0.000000</td>\n",
              "      <td>0.000000</td>\n",
              "      <td>0.000000</td>\n",
              "      <td>0.000000</td>\n",
              "    </tr>\n",
              "    <tr>\n",
              "      <th>50%</th>\n",
              "      <td>73.000000</td>\n",
              "      <td>1.000000</td>\n",
              "      <td>1.000000</td>\n",
              "      <td>68.000000</td>\n",
              "      <td>0.000000</td>\n",
              "      <td>409.000000</td>\n",
              "      <td>0.000000</td>\n",
              "      <td>0.000000</td>\n",
              "      <td>0.000000</td>\n",
              "      <td>0.000000</td>\n",
              "      <td>0.000000</td>\n",
              "      <td>0.000000</td>\n",
              "      <td>0.000000</td>\n",
              "      <td>0.000000</td>\n",
              "      <td>0.000000</td>\n",
              "    </tr>\n",
              "    <tr>\n",
              "      <th>75%</th>\n",
              "      <td>112.000000</td>\n",
              "      <td>2.000000</td>\n",
              "      <td>2.000000</td>\n",
              "      <td>113.000000</td>\n",
              "      <td>0.000000</td>\n",
              "      <td>591.000000</td>\n",
              "      <td>2.000000</td>\n",
              "      <td>0.000000</td>\n",
              "      <td>0.000000</td>\n",
              "      <td>0.000000</td>\n",
              "      <td>0.000000</td>\n",
              "      <td>0.000000</td>\n",
              "      <td>0.000000</td>\n",
              "      <td>0.000000</td>\n",
              "      <td>0.000000</td>\n",
              "    </tr>\n",
              "    <tr>\n",
              "      <th>max</th>\n",
              "      <td>209.000000</td>\n",
              "      <td>3.000000</td>\n",
              "      <td>5.000000</td>\n",
              "      <td>209.000000</td>\n",
              "      <td>366.400000</td>\n",
              "      <td>1272.000000</td>\n",
              "      <td>8.000000</td>\n",
              "      <td>212.930000</td>\n",
              "      <td>212.930000</td>\n",
              "      <td>202.580000</td>\n",
              "      <td>101.290000</td>\n",
              "      <td>166.690000</td>\n",
              "      <td>50.010000</td>\n",
              "      <td>183.740000</td>\n",
              "      <td>36.750000</td>\n",
              "    </tr>\n",
              "  </tbody>\n",
              "</table>\n",
              "</div>"
            ],
            "text/plain": [
              "         home_rank  ...  three_year_ago_weighted_y\n",
              "count  7541.000000  ...                7541.000000\n",
              "mean     76.946294  ...                   1.170263\n",
              "std      48.972072  ...                   4.943284\n",
              "min       1.000000  ...                   0.000000\n",
              "25%      35.000000  ...                   0.000000\n",
              "50%      73.000000  ...                   0.000000\n",
              "75%     112.000000  ...                   0.000000\n",
              "max     209.000000  ...                  36.750000\n",
              "\n",
              "[8 rows x 15 columns]"
            ]
          },
          "metadata": {
            "tags": []
          },
          "execution_count": 32
        }
      ]
    },
    {
      "cell_type": "markdown",
      "metadata": {
        "id": "FEWCUyqt65_n"
      },
      "source": [
        "## **Bivariate Analysis**"
      ]
    },
    {
      "cell_type": "code",
      "metadata": {
        "id": "czFXKEZE5pFs",
        "outputId": "80b10e18-c402-43e8-8993-66cb6258866d",
        "colab": {
          "base_uri": "https://localhost:8080/",
          "height": 498
        }
      },
      "source": [
        "# which teams have the highest mean scores while playing home\n",
        "home_scores = data.groupby('home_team')['home_score_y'].mean().reset_index().sort_values('home_score_y', ascending = False)\n",
        "home_scores\n",
        "\n",
        "plt.figure(figsize=(10,8))\n",
        "ax= sns.barplot(\"home_score_y\",\"home_team\",data=home_scores[:10])"
      ],
      "execution_count": null,
      "outputs": [
        {
          "output_type": "display_data",
          "data": {
            "image/png": "[encoded data removed]",
            "text/plain": [
              "<Figure size 720x576 with 1 Axes>"
            ]
          },
          "metadata": {
            "tags": [],
            "needs_background": "light"
          }
        }
      ]
    },
    {
      "cell_type": "code",
      "metadata": {
        "id": "HzYB_As-7K-K",
        "outputId": "13e53307-8463-42f4-b55d-fb99f6d384a3",
        "colab": {
          "base_uri": "https://localhost:8080/",
          "height": 497
        }
      },
      "source": [
        "# which teams have the highest mean scores while playing away\n",
        "away_scores = data.groupby('away_team')['away_score_y'].mean().reset_index().sort_values('away_score_y', ascending = False)\n",
        "away_scores\n",
        "\n",
        "plt.figure(figsize=(10,8))\n",
        "ax= sns.barplot(\"away_score_y\",\"away_team\",data=away_scores[:10])"
      ],
      "execution_count": null,
      "outputs": [
        {
          "output_type": "display_data",
          "data": {
            "image/png": "[encoded data removed]",
            "text/plain": [
              "<Figure size 720x576 with 1 Axes>"
            ]
          },
          "metadata": {
            "tags": [],
            "needs_background": "light"
          }
        }
      ]
    },
    {
      "cell_type": "markdown",
      "metadata": {
        "id": "GbPT9zCTvkjO"
      },
      "source": [
        ">Afghanistan does so well when playing on home grounds while Serbia does well when playing as an away team."
      ]
    },
    {
      "cell_type": "code",
      "metadata": {
        "id": "7LAKF3VzECwB",
        "outputId": "afc1d175-8cd6-4d7e-bed5-e03e31457127",
        "colab": {
          "base_uri": "https://localhost:8080/",
          "height": 532
        }
      },
      "source": [
        "# check the correlations of the columns\n",
        "\n",
        "# drop unnecessary column in the plot\n",
        "needed = data.drop('neutral_y', 1)\n",
        "\n",
        "plt.figure(figsize=(20,10))\n",
        "sns.heatmap(needed.corr(), annot=True)"
      ],
      "execution_count": null,
      "outputs": [
        {
          "output_type": "execute_result",
          "data": {
            "text/plain": [
              "<matplotlib.axes._subplots.AxesSubplot at 0x7fb4ffd95e48>"
            ]
          },
          "metadata": {
            "tags": []
          },
          "execution_count": 35
        },
        {
          "output_type": "display_data",
          "data": {
            "image/png": "[encoded data removed]",
            "text/plain": [
              "<Figure size 1440x720 with 2 Axes>"
            ]
          },
          "metadata": {
            "tags": [],
            "needs_background": "light"
          }
        }
      ]
    },
    {
      "cell_type": "markdown",
      "metadata": {
        "id": "8L0_i6_zFr3K"
      },
      "source": [
        ">There is a huge correlation between the total_points and the last 8 columns. This is not desirable during modelling and will need to be dropped.\n",
        "\n",
        ">There is also a high correlation between home_rank and away_rank\n",
        "\n",
        ">There is a negative correlation between away rank and previous points"
      ]
    },
    {
      "cell_type": "markdown",
      "metadata": {
        "id": "o22AeGQUv3rH"
      },
      "source": [
        "# Implementing the solution"
      ]
    },
    {
      "cell_type": "markdown",
      "metadata": {
        "id": "rVt4ChAl6cXQ"
      },
      "source": [
        "## **Approach 1: Polynomial Regression**"
      ]
    },
    {
      "cell_type": "markdown",
      "metadata": {
        "id": "re5Z0XUOI4di"
      },
      "source": [
        "**Feature engineering**"
      ]
    },
    {
      "cell_type": "code",
      "metadata": {
        "id": "QVXoAZg265oV",
        "outputId": "50359767-2d58-479f-dd5c-5514fa06ad57",
        "colab": {
          "base_uri": "https://localhost:8080/",
          "height": 305
        }
      },
      "source": [
        "# use labelencoder to transform the tournament column values to numeric\n",
        "from sklearn.preprocessing import LabelEncoder\n",
        "le = LabelEncoder()\n",
        "\n",
        "data['tournament_y'] = le.fit_transform(data['tournament_y'])\n",
        "data.head()\n"
      ],
      "execution_count": null,
      "outputs": [
        {
          "output_type": "execute_result",
          "data": {
            "text/html": [
              "<div>\n",
              "<style scoped>\n",
              "    .dataframe tbody tr th:only-of-type {\n",
              "        vertical-align: middle;\n",
              "    }\n",
              "\n",
              "    .dataframe tbody tr th {\n",
              "        vertical-align: top;\n",
              "    }\n",
              "\n",
              "    .dataframe thead th {\n",
              "        text-align: right;\n",
              "    }\n",
              "</style>\n",
              "<table border=\"1\" class=\"dataframe\">\n",
              "  <thead>\n",
              "    <tr style=\"text-align: right;\">\n",
              "      <th></th>\n",
              "      <th>home_team</th>\n",
              "      <th>away_team</th>\n",
              "      <th>year</th>\n",
              "      <th>home_rank</th>\n",
              "      <th>home_score_y</th>\n",
              "      <th>away_score_y</th>\n",
              "      <th>tournament_y</th>\n",
              "      <th>neutral_y</th>\n",
              "      <th>status_y</th>\n",
              "      <th>away_rank</th>\n",
              "      <th>total_points_y</th>\n",
              "      <th>previous_points_y</th>\n",
              "      <th>rank_change_y</th>\n",
              "      <th>cur_year_avg_y</th>\n",
              "      <th>cur_year_avg_weighted_y</th>\n",
              "      <th>last_year_avg_y</th>\n",
              "      <th>last_year_avg_weighted_y</th>\n",
              "      <th>two_year_ago_avg_y</th>\n",
              "      <th>two_year_ago_weighted_y</th>\n",
              "      <th>three_year_ago_avg_y</th>\n",
              "      <th>three_year_ago_weighted_y</th>\n",
              "    </tr>\n",
              "  </thead>\n",
              "  <tbody>\n",
              "    <tr>\n",
              "      <th>0</th>\n",
              "      <td>Colombia</td>\n",
              "      <td>Paraguay</td>\n",
              "      <td>August-1993</td>\n",
              "      <td>19</td>\n",
              "      <td>0</td>\n",
              "      <td>0</td>\n",
              "      <td>24</td>\n",
              "      <td>False</td>\n",
              "      <td>Draw</td>\n",
              "      <td>67</td>\n",
              "      <td>0.0</td>\n",
              "      <td>22</td>\n",
              "      <td>1</td>\n",
              "      <td>0.0</td>\n",
              "      <td>0.0</td>\n",
              "      <td>0.0</td>\n",
              "      <td>0.0</td>\n",
              "      <td>0.0</td>\n",
              "      <td>0.0</td>\n",
              "      <td>0.0</td>\n",
              "      <td>0.0</td>\n",
              "    </tr>\n",
              "    <tr>\n",
              "      <th>1</th>\n",
              "      <td>Colombia</td>\n",
              "      <td>Argentina</td>\n",
              "      <td>August-1993</td>\n",
              "      <td>19</td>\n",
              "      <td>2</td>\n",
              "      <td>1</td>\n",
              "      <td>24</td>\n",
              "      <td>False</td>\n",
              "      <td>Win</td>\n",
              "      <td>5</td>\n",
              "      <td>0.0</td>\n",
              "      <td>51</td>\n",
              "      <td>5</td>\n",
              "      <td>0.0</td>\n",
              "      <td>0.0</td>\n",
              "      <td>0.0</td>\n",
              "      <td>0.0</td>\n",
              "      <td>0.0</td>\n",
              "      <td>0.0</td>\n",
              "      <td>0.0</td>\n",
              "      <td>0.0</td>\n",
              "    </tr>\n",
              "    <tr>\n",
              "      <th>3</th>\n",
              "      <td>Peru</td>\n",
              "      <td>Argentina</td>\n",
              "      <td>August-1993</td>\n",
              "      <td>70</td>\n",
              "      <td>0</td>\n",
              "      <td>1</td>\n",
              "      <td>24</td>\n",
              "      <td>False</td>\n",
              "      <td>Loss</td>\n",
              "      <td>5</td>\n",
              "      <td>0.0</td>\n",
              "      <td>51</td>\n",
              "      <td>5</td>\n",
              "      <td>0.0</td>\n",
              "      <td>0.0</td>\n",
              "      <td>0.0</td>\n",
              "      <td>0.0</td>\n",
              "      <td>0.0</td>\n",
              "      <td>0.0</td>\n",
              "      <td>0.0</td>\n",
              "      <td>0.0</td>\n",
              "    </tr>\n",
              "    <tr>\n",
              "      <th>6</th>\n",
              "      <td>Uruguay</td>\n",
              "      <td>Brazil</td>\n",
              "      <td>August-1993</td>\n",
              "      <td>22</td>\n",
              "      <td>1</td>\n",
              "      <td>1</td>\n",
              "      <td>24</td>\n",
              "      <td>False</td>\n",
              "      <td>Draw</td>\n",
              "      <td>8</td>\n",
              "      <td>0.0</td>\n",
              "      <td>55</td>\n",
              "      <td>-5</td>\n",
              "      <td>0.0</td>\n",
              "      <td>0.0</td>\n",
              "      <td>0.0</td>\n",
              "      <td>0.0</td>\n",
              "      <td>0.0</td>\n",
              "      <td>0.0</td>\n",
              "      <td>0.0</td>\n",
              "      <td>0.0</td>\n",
              "    </tr>\n",
              "    <tr>\n",
              "      <th>8</th>\n",
              "      <td>Venezuela</td>\n",
              "      <td>Brazil</td>\n",
              "      <td>August-1993</td>\n",
              "      <td>94</td>\n",
              "      <td>1</td>\n",
              "      <td>5</td>\n",
              "      <td>24</td>\n",
              "      <td>False</td>\n",
              "      <td>Loss</td>\n",
              "      <td>8</td>\n",
              "      <td>0.0</td>\n",
              "      <td>55</td>\n",
              "      <td>-5</td>\n",
              "      <td>0.0</td>\n",
              "      <td>0.0</td>\n",
              "      <td>0.0</td>\n",
              "      <td>0.0</td>\n",
              "      <td>0.0</td>\n",
              "      <td>0.0</td>\n",
              "      <td>0.0</td>\n",
              "      <td>0.0</td>\n",
              "    </tr>\n",
              "  </tbody>\n",
              "</table>\n",
              "</div>"
            ],
            "text/plain": [
              "   home_team  away_team  ... three_year_ago_avg_y  three_year_ago_weighted_y\n",
              "0   Colombia   Paraguay  ...                  0.0                        0.0\n",
              "1   Colombia  Argentina  ...                  0.0                        0.0\n",
              "3       Peru  Argentina  ...                  0.0                        0.0\n",
              "6    Uruguay     Brazil  ...                  0.0                        0.0\n",
              "8  Venezuela     Brazil  ...                  0.0                        0.0\n",
              "\n",
              "[5 rows x 21 columns]"
            ]
          },
          "metadata": {
            "tags": []
          },
          "execution_count": 36
        }
      ]
    },
    {
      "cell_type": "code",
      "metadata": {
        "id": "2fENehq5IJrH",
        "outputId": "d1cd248f-5a7b-423a-cf4b-3bc8609c4d57",
        "colab": {
          "base_uri": "https://localhost:8080/",
          "height": 305
        }
      },
      "source": [
        "# use labelencoder to transform the status column values to numeric\n",
        "from sklearn.preprocessing import LabelEncoder\n",
        "le = LabelEncoder()\n",
        "\n",
        "data['status_y'] = le.fit_transform(data['status_y'])\n",
        "data.head()\n"
      ],
      "execution_count": null,
      "outputs": [
        {
          "output_type": "execute_result",
          "data": {
            "text/html": [
              "<div>\n",
              "<style scoped>\n",
              "    .dataframe tbody tr th:only-of-type {\n",
              "        vertical-align: middle;\n",
              "    }\n",
              "\n",
              "    .dataframe tbody tr th {\n",
              "        vertical-align: top;\n",
              "    }\n",
              "\n",
              "    .dataframe thead th {\n",
              "        text-align: right;\n",
              "    }\n",
              "</style>\n",
              "<table border=\"1\" class=\"dataframe\">\n",
              "  <thead>\n",
              "    <tr style=\"text-align: right;\">\n",
              "      <th></th>\n",
              "      <th>home_team</th>\n",
              "      <th>away_team</th>\n",
              "      <th>year</th>\n",
              "      <th>home_rank</th>\n",
              "      <th>home_score_y</th>\n",
              "      <th>away_score_y</th>\n",
              "      <th>tournament_y</th>\n",
              "      <th>neutral_y</th>\n",
              "      <th>status_y</th>\n",
              "      <th>away_rank</th>\n",
              "      <th>total_points_y</th>\n",
              "      <th>previous_points_y</th>\n",
              "      <th>rank_change_y</th>\n",
              "      <th>cur_year_avg_y</th>\n",
              "      <th>cur_year_avg_weighted_y</th>\n",
              "      <th>last_year_avg_y</th>\n",
              "      <th>last_year_avg_weighted_y</th>\n",
              "      <th>two_year_ago_avg_y</th>\n",
              "      <th>two_year_ago_weighted_y</th>\n",
              "      <th>three_year_ago_avg_y</th>\n",
              "      <th>three_year_ago_weighted_y</th>\n",
              "    </tr>\n",
              "  </thead>\n",
              "  <tbody>\n",
              "    <tr>\n",
              "      <th>0</th>\n",
              "      <td>Colombia</td>\n",
              "      <td>Paraguay</td>\n",
              "      <td>August-1993</td>\n",
              "      <td>19</td>\n",
              "      <td>0</td>\n",
              "      <td>0</td>\n",
              "      <td>24</td>\n",
              "      <td>False</td>\n",
              "      <td>0</td>\n",
              "      <td>67</td>\n",
              "      <td>0.0</td>\n",
              "      <td>22</td>\n",
              "      <td>1</td>\n",
              "      <td>0.0</td>\n",
              "      <td>0.0</td>\n",
              "      <td>0.0</td>\n",
              "      <td>0.0</td>\n",
              "      <td>0.0</td>\n",
              "      <td>0.0</td>\n",
              "      <td>0.0</td>\n",
              "      <td>0.0</td>\n",
              "    </tr>\n",
              "    <tr>\n",
              "      <th>1</th>\n",
              "      <td>Colombia</td>\n",
              "      <td>Argentina</td>\n",
              "      <td>August-1993</td>\n",
              "      <td>19</td>\n",
              "      <td>2</td>\n",
              "      <td>1</td>\n",
              "      <td>24</td>\n",
              "      <td>False</td>\n",
              "      <td>2</td>\n",
              "      <td>5</td>\n",
              "      <td>0.0</td>\n",
              "      <td>51</td>\n",
              "      <td>5</td>\n",
              "      <td>0.0</td>\n",
              "      <td>0.0</td>\n",
              "      <td>0.0</td>\n",
              "      <td>0.0</td>\n",
              "      <td>0.0</td>\n",
              "      <td>0.0</td>\n",
              "      <td>0.0</td>\n",
              "      <td>0.0</td>\n",
              "    </tr>\n",
              "    <tr>\n",
              "      <th>3</th>\n",
              "      <td>Peru</td>\n",
              "      <td>Argentina</td>\n",
              "      <td>August-1993</td>\n",
              "      <td>70</td>\n",
              "      <td>0</td>\n",
              "      <td>1</td>\n",
              "      <td>24</td>\n",
              "      <td>False</td>\n",
              "      <td>1</td>\n",
              "      <td>5</td>\n",
              "      <td>0.0</td>\n",
              "      <td>51</td>\n",
              "      <td>5</td>\n",
              "      <td>0.0</td>\n",
              "      <td>0.0</td>\n",
              "      <td>0.0</td>\n",
              "      <td>0.0</td>\n",
              "      <td>0.0</td>\n",
              "      <td>0.0</td>\n",
              "      <td>0.0</td>\n",
              "      <td>0.0</td>\n",
              "    </tr>\n",
              "    <tr>\n",
              "      <th>6</th>\n",
              "      <td>Uruguay</td>\n",
              "      <td>Brazil</td>\n",
              "      <td>August-1993</td>\n",
              "      <td>22</td>\n",
              "      <td>1</td>\n",
              "      <td>1</td>\n",
              "      <td>24</td>\n",
              "      <td>False</td>\n",
              "      <td>0</td>\n",
              "      <td>8</td>\n",
              "      <td>0.0</td>\n",
              "      <td>55</td>\n",
              "      <td>-5</td>\n",
              "      <td>0.0</td>\n",
              "      <td>0.0</td>\n",
              "      <td>0.0</td>\n",
              "      <td>0.0</td>\n",
              "      <td>0.0</td>\n",
              "      <td>0.0</td>\n",
              "      <td>0.0</td>\n",
              "      <td>0.0</td>\n",
              "    </tr>\n",
              "    <tr>\n",
              "      <th>8</th>\n",
              "      <td>Venezuela</td>\n",
              "      <td>Brazil</td>\n",
              "      <td>August-1993</td>\n",
              "      <td>94</td>\n",
              "      <td>1</td>\n",
              "      <td>5</td>\n",
              "      <td>24</td>\n",
              "      <td>False</td>\n",
              "      <td>1</td>\n",
              "      <td>8</td>\n",
              "      <td>0.0</td>\n",
              "      <td>55</td>\n",
              "      <td>-5</td>\n",
              "      <td>0.0</td>\n",
              "      <td>0.0</td>\n",
              "      <td>0.0</td>\n",
              "      <td>0.0</td>\n",
              "      <td>0.0</td>\n",
              "      <td>0.0</td>\n",
              "      <td>0.0</td>\n",
              "      <td>0.0</td>\n",
              "    </tr>\n",
              "  </tbody>\n",
              "</table>\n",
              "</div>"
            ],
            "text/plain": [
              "   home_team  away_team  ... three_year_ago_avg_y  three_year_ago_weighted_y\n",
              "0   Colombia   Paraguay  ...                  0.0                        0.0\n",
              "1   Colombia  Argentina  ...                  0.0                        0.0\n",
              "3       Peru  Argentina  ...                  0.0                        0.0\n",
              "6    Uruguay     Brazil  ...                  0.0                        0.0\n",
              "8  Venezuela     Brazil  ...                  0.0                        0.0\n",
              "\n",
              "[5 rows x 21 columns]"
            ]
          },
          "metadata": {
            "tags": []
          },
          "execution_count": 37
        }
      ]
    },
    {
      "cell_type": "code",
      "metadata": {
        "id": "RCPsy0OdG6Nz",
        "outputId": "6431ffa9-95b5-40f8-f674-3580cd1635e7",
        "colab": {
          "base_uri": "https://localhost:8080/",
          "height": 198
        }
      },
      "source": [
        "# drop unnecessary columns that will not be used in modelling. \n",
        "# These are mainly dependent variables that were highly correlated as seen in the correlation heatmap\n",
        "poly = data.drop(['neutral_y', 'year', 'home_team', 'away_team', 'cur_year_avg_y', \n",
        "                  'cur_year_avg_weighted_y', 'last_year_avg_y', 'last_year_avg_weighted_y', \n",
        "                  'two_year_ago_avg_y', 'two_year_ago_weighted_y', 'three_year_ago_avg_y', \n",
        "                  'three_year_ago_weighted_y', 'total_points_y', 'previous_points_y', 'rank_change_y'], 1)\n",
        "poly.head()"
      ],
      "execution_count": null,
      "outputs": [
        {
          "output_type": "execute_result",
          "data": {
            "text/html": [
              "<div>\n",
              "<style scoped>\n",
              "    .dataframe tbody tr th:only-of-type {\n",
              "        vertical-align: middle;\n",
              "    }\n",
              "\n",
              "    .dataframe tbody tr th {\n",
              "        vertical-align: top;\n",
              "    }\n",
              "\n",
              "    .dataframe thead th {\n",
              "        text-align: right;\n",
              "    }\n",
              "</style>\n",
              "<table border=\"1\" class=\"dataframe\">\n",
              "  <thead>\n",
              "    <tr style=\"text-align: right;\">\n",
              "      <th></th>\n",
              "      <th>home_rank</th>\n",
              "      <th>home_score_y</th>\n",
              "      <th>away_score_y</th>\n",
              "      <th>tournament_y</th>\n",
              "      <th>status_y</th>\n",
              "      <th>away_rank</th>\n",
              "    </tr>\n",
              "  </thead>\n",
              "  <tbody>\n",
              "    <tr>\n",
              "      <th>0</th>\n",
              "      <td>19</td>\n",
              "      <td>0</td>\n",
              "      <td>0</td>\n",
              "      <td>24</td>\n",
              "      <td>0</td>\n",
              "      <td>67</td>\n",
              "    </tr>\n",
              "    <tr>\n",
              "      <th>1</th>\n",
              "      <td>19</td>\n",
              "      <td>2</td>\n",
              "      <td>1</td>\n",
              "      <td>24</td>\n",
              "      <td>2</td>\n",
              "      <td>5</td>\n",
              "    </tr>\n",
              "    <tr>\n",
              "      <th>3</th>\n",
              "      <td>70</td>\n",
              "      <td>0</td>\n",
              "      <td>1</td>\n",
              "      <td>24</td>\n",
              "      <td>1</td>\n",
              "      <td>5</td>\n",
              "    </tr>\n",
              "    <tr>\n",
              "      <th>6</th>\n",
              "      <td>22</td>\n",
              "      <td>1</td>\n",
              "      <td>1</td>\n",
              "      <td>24</td>\n",
              "      <td>0</td>\n",
              "      <td>8</td>\n",
              "    </tr>\n",
              "    <tr>\n",
              "      <th>8</th>\n",
              "      <td>94</td>\n",
              "      <td>1</td>\n",
              "      <td>5</td>\n",
              "      <td>24</td>\n",
              "      <td>1</td>\n",
              "      <td>8</td>\n",
              "    </tr>\n",
              "  </tbody>\n",
              "</table>\n",
              "</div>"
            ],
            "text/plain": [
              "   home_rank  home_score_y  away_score_y  tournament_y  status_y  away_rank\n",
              "0         19             0             0            24         0         67\n",
              "1         19             2             1            24         2          5\n",
              "3         70             0             1            24         1          5\n",
              "6         22             1             1            24         0          8\n",
              "8         94             1             5            24         1          8"
            ]
          },
          "metadata": {
            "tags": []
          },
          "execution_count": 40
        }
      ]
    },
    {
      "cell_type": "markdown",
      "metadata": {
        "id": "7ZcBpRU9PKJG"
      },
      "source": [
        "### **Model 1: Predict how many goals the home team scores.**"
      ]
    },
    {
      "cell_type": "code",
      "metadata": {
        "id": "UpWmMMMVGqt8",
        "outputId": "3495b8c8-b5f0-4735-b9a9-13d9bed88ede",
        "colab": {
          "base_uri": "https://localhost:8080/",
          "height": 138
        }
      },
      "source": [
        "# display the correlations between the variables\n",
        "correlations = poly.drop(['home_score_y', 'away_score_y', 'status_y'], 1).corr()\n",
        "\n",
        "correlations"
      ],
      "execution_count": null,
      "outputs": [
        {
          "output_type": "execute_result",
          "data": {
            "text/html": [
              "<div>\n",
              "<style scoped>\n",
              "    .dataframe tbody tr th:only-of-type {\n",
              "        vertical-align: middle;\n",
              "    }\n",
              "\n",
              "    .dataframe tbody tr th {\n",
              "        vertical-align: top;\n",
              "    }\n",
              "\n",
              "    .dataframe thead th {\n",
              "        text-align: right;\n",
              "    }\n",
              "</style>\n",
              "<table border=\"1\" class=\"dataframe\">\n",
              "  <thead>\n",
              "    <tr style=\"text-align: right;\">\n",
              "      <th></th>\n",
              "      <th>home_rank</th>\n",
              "      <th>tournament_y</th>\n",
              "      <th>away_rank</th>\n",
              "    </tr>\n",
              "  </thead>\n",
              "  <tbody>\n",
              "    <tr>\n",
              "      <th>home_rank</th>\n",
              "      <td>1.000000</td>\n",
              "      <td>-0.182159</td>\n",
              "      <td>0.462359</td>\n",
              "    </tr>\n",
              "    <tr>\n",
              "      <th>tournament_y</th>\n",
              "      <td>-0.182159</td>\n",
              "      <td>1.000000</td>\n",
              "      <td>-0.197423</td>\n",
              "    </tr>\n",
              "    <tr>\n",
              "      <th>away_rank</th>\n",
              "      <td>0.462359</td>\n",
              "      <td>-0.197423</td>\n",
              "      <td>1.000000</td>\n",
              "    </tr>\n",
              "  </tbody>\n",
              "</table>\n",
              "</div>"
            ],
            "text/plain": [
              "              home_rank  tournament_y  away_rank\n",
              "home_rank      1.000000     -0.182159   0.462359\n",
              "tournament_y  -0.182159      1.000000  -0.197423\n",
              "away_rank      0.462359     -0.197423   1.000000"
            ]
          },
          "metadata": {
            "tags": []
          },
          "execution_count": 41
        }
      ]
    },
    {
      "cell_type": "code",
      "metadata": {
        "id": "Vm6uswsoKTof",
        "outputId": "894e1d3b-986d-4de5-cb37-3182df1761d6",
        "colab": {
          "base_uri": "https://localhost:8080/",
          "height": 138
        }
      },
      "source": [
        "# use the correlations to compute the VIF score for each variable\n",
        "pd.DataFrame(np.linalg.inv(correlations.values), index = correlations.index, columns=correlations.columns)\n"
      ],
      "execution_count": null,
      "outputs": [
        {
          "output_type": "execute_result",
          "data": {
            "text/html": [
              "<div>\n",
              "<style scoped>\n",
              "    .dataframe tbody tr th:only-of-type {\n",
              "        vertical-align: middle;\n",
              "    }\n",
              "\n",
              "    .dataframe tbody tr th {\n",
              "        vertical-align: top;\n",
              "    }\n",
              "\n",
              "    .dataframe thead th {\n",
              "        text-align: right;\n",
              "    }\n",
              "</style>\n",
              "<table border=\"1\" class=\"dataframe\">\n",
              "  <thead>\n",
              "    <tr style=\"text-align: right;\">\n",
              "      <th></th>\n",
              "      <th>home_rank</th>\n",
              "      <th>tournament_y</th>\n",
              "      <th>away_rank</th>\n",
              "    </tr>\n",
              "  </thead>\n",
              "  <tbody>\n",
              "    <tr>\n",
              "      <th>home_rank</th>\n",
              "      <td>1.285959</td>\n",
              "      <td>0.121606</td>\n",
              "      <td>-0.570567</td>\n",
              "    </tr>\n",
              "    <tr>\n",
              "      <th>tournament_y</th>\n",
              "      <td>0.121606</td>\n",
              "      <td>1.052056</td>\n",
              "      <td>0.151474</td>\n",
              "    </tr>\n",
              "    <tr>\n",
              "      <th>away_rank</th>\n",
              "      <td>-0.570567</td>\n",
              "      <td>0.151474</td>\n",
              "      <td>1.293712</td>\n",
              "    </tr>\n",
              "  </tbody>\n",
              "</table>\n",
              "</div>"
            ],
            "text/plain": [
              "              home_rank  tournament_y  away_rank\n",
              "home_rank      1.285959      0.121606  -0.570567\n",
              "tournament_y   0.121606      1.052056   0.151474\n",
              "away_rank     -0.570567      0.151474   1.293712"
            ]
          },
          "metadata": {
            "tags": []
          },
          "execution_count": 42
        }
      ]
    },
    {
      "cell_type": "markdown",
      "metadata": {
        "id": "NMviLpHaMpcE"
      },
      "source": [
        ">The VIF Scores for each variable read alongside the downwards sloping diagonal are all significantly low suggesting that the variables are not colinear."
      ]
    },
    {
      "cell_type": "code",
      "metadata": {
        "id": "So4LiESkN07C"
      },
      "source": [
        "# feature selection \n",
        "X = poly[['home_rank', 'away_rank', 'tournament_y']].values #features\n",
        "y = poly['home_score_y'].values #labels\n"
      ],
      "execution_count": null,
      "outputs": []
    },
    {
      "cell_type": "code",
      "metadata": {
        "id": "1JrzX1ZePZYN",
        "outputId": "98415d69-7546-4a64-affe-96e9b2e31594",
        "colab": {
          "base_uri": "https://localhost:8080/",
          "height": 348
        }
      },
      "source": [
        "# normalize the data by standardizing/scaling\n",
        "from sklearn.preprocessing import StandardScaler\n",
        "X = StandardScaler().fit_transform(X) # normalizing the features\n",
        "\n",
        "from sklearn.model_selection import train_test_split\n",
        "# splitting the data into train and test sets\n",
        "X_train, X_test, y_train, y_test = train_test_split(X, y, test_size = 0.25, random_state = 0)\n",
        "\n",
        "from sklearn.preprocessing import PolynomialFeatures\n",
        "# Fit polynomial Regression to the dataset\n",
        "poly_reg = PolynomialFeatures(degree = 2) \n",
        "X_train, X_test = poly_reg.fit_transform(X_train), poly_reg.fit_transform(X_test)\n",
        "\n",
        "from sklearn.linear_model import LinearRegression\n",
        "# train model/fit train set onto the model\n",
        "pol_regressor = LinearRegression()\n",
        "pol_regressor.fit(X_train, y_train)\n",
        "\n",
        "# predict using trained model\n",
        "y_pred = pol_regressor.predict(X_test)\n",
        "\n",
        "# cross-check on predictions made against the actual values\n",
        "predictions = pd.DataFrame({'Actual': y_test, 'Predicted': y_pred})\n",
        "predictions.head(10)"
      ],
      "execution_count": null,
      "outputs": [
        {
          "output_type": "execute_result",
          "data": {
            "text/html": [
              "<div>\n",
              "<style scoped>\n",
              "    .dataframe tbody tr th:only-of-type {\n",
              "        vertical-align: middle;\n",
              "    }\n",
              "\n",
              "    .dataframe tbody tr th {\n",
              "        vertical-align: top;\n",
              "    }\n",
              "\n",
              "    .dataframe thead th {\n",
              "        text-align: right;\n",
              "    }\n",
              "</style>\n",
              "<table border=\"1\" class=\"dataframe\">\n",
              "  <thead>\n",
              "    <tr style=\"text-align: right;\">\n",
              "      <th></th>\n",
              "      <th>Actual</th>\n",
              "      <th>Predicted</th>\n",
              "    </tr>\n",
              "  </thead>\n",
              "  <tbody>\n",
              "    <tr>\n",
              "      <th>0</th>\n",
              "      <td>1</td>\n",
              "      <td>1.268939</td>\n",
              "    </tr>\n",
              "    <tr>\n",
              "      <th>1</th>\n",
              "      <td>3</td>\n",
              "      <td>1.108038</td>\n",
              "    </tr>\n",
              "    <tr>\n",
              "      <th>2</th>\n",
              "      <td>1</td>\n",
              "      <td>1.112816</td>\n",
              "    </tr>\n",
              "    <tr>\n",
              "      <th>3</th>\n",
              "      <td>3</td>\n",
              "      <td>1.516196</td>\n",
              "    </tr>\n",
              "    <tr>\n",
              "      <th>4</th>\n",
              "      <td>1</td>\n",
              "      <td>1.208211</td>\n",
              "    </tr>\n",
              "    <tr>\n",
              "      <th>5</th>\n",
              "      <td>1</td>\n",
              "      <td>1.253644</td>\n",
              "    </tr>\n",
              "    <tr>\n",
              "      <th>6</th>\n",
              "      <td>1</td>\n",
              "      <td>2.008678</td>\n",
              "    </tr>\n",
              "    <tr>\n",
              "      <th>7</th>\n",
              "      <td>2</td>\n",
              "      <td>1.290229</td>\n",
              "    </tr>\n",
              "    <tr>\n",
              "      <th>8</th>\n",
              "      <td>0</td>\n",
              "      <td>1.745705</td>\n",
              "    </tr>\n",
              "    <tr>\n",
              "      <th>9</th>\n",
              "      <td>0</td>\n",
              "      <td>1.268672</td>\n",
              "    </tr>\n",
              "  </tbody>\n",
              "</table>\n",
              "</div>"
            ],
            "text/plain": [
              "   Actual  Predicted\n",
              "0       1   1.268939\n",
              "1       3   1.108038\n",
              "2       1   1.112816\n",
              "3       3   1.516196\n",
              "4       1   1.208211\n",
              "5       1   1.253644\n",
              "6       1   2.008678\n",
              "7       2   1.290229\n",
              "8       0   1.745705\n",
              "9       0   1.268672"
            ]
          },
          "metadata": {
            "tags": []
          },
          "execution_count": 44
        }
      ]
    },
    {
      "cell_type": "markdown",
      "metadata": {
        "id": "WcqDJOfnWkwd"
      },
      "source": [
        "***Evaluating the model***"
      ]
    },
    {
      "cell_type": "code",
      "metadata": {
        "id": "8Soj30LQXPRi",
        "outputId": "8c3d5990-5c24-4a22-c8b8-b13183a28f98",
        "colab": {
          "base_uri": "https://localhost:8080/",
          "height": 288
        }
      },
      "source": [
        "poly.describe()"
      ],
      "execution_count": null,
      "outputs": [
        {
          "output_type": "execute_result",
          "data": {
            "text/html": [
              "<div>\n",
              "<style scoped>\n",
              "    .dataframe tbody tr th:only-of-type {\n",
              "        vertical-align: middle;\n",
              "    }\n",
              "\n",
              "    .dataframe tbody tr th {\n",
              "        vertical-align: top;\n",
              "    }\n",
              "\n",
              "    .dataframe thead th {\n",
              "        text-align: right;\n",
              "    }\n",
              "</style>\n",
              "<table border=\"1\" class=\"dataframe\">\n",
              "  <thead>\n",
              "    <tr style=\"text-align: right;\">\n",
              "      <th></th>\n",
              "      <th>home_rank</th>\n",
              "      <th>home_score_y</th>\n",
              "      <th>away_score_y</th>\n",
              "      <th>tournament_y</th>\n",
              "      <th>status_y</th>\n",
              "      <th>away_rank</th>\n",
              "    </tr>\n",
              "  </thead>\n",
              "  <tbody>\n",
              "    <tr>\n",
              "      <th>count</th>\n",
              "      <td>7541.000000</td>\n",
              "      <td>7541.000000</td>\n",
              "      <td>7541.000000</td>\n",
              "      <td>7541.000000</td>\n",
              "      <td>7541.000000</td>\n",
              "      <td>7541.000000</td>\n",
              "    </tr>\n",
              "    <tr>\n",
              "      <th>mean</th>\n",
              "      <td>76.946294</td>\n",
              "      <td>1.269593</td>\n",
              "      <td>0.981170</td>\n",
              "      <td>25.288291</td>\n",
              "      <td>1.188702</td>\n",
              "      <td>75.725103</td>\n",
              "    </tr>\n",
              "    <tr>\n",
              "      <th>std</th>\n",
              "      <td>48.972072</td>\n",
              "      <td>1.001254</td>\n",
              "      <td>1.077705</td>\n",
              "      <td>11.265056</td>\n",
              "      <td>0.836064</td>\n",
              "      <td>51.161648</td>\n",
              "    </tr>\n",
              "    <tr>\n",
              "      <th>min</th>\n",
              "      <td>1.000000</td>\n",
              "      <td>0.000000</td>\n",
              "      <td>0.000000</td>\n",
              "      <td>0.000000</td>\n",
              "      <td>0.000000</td>\n",
              "      <td>1.000000</td>\n",
              "    </tr>\n",
              "    <tr>\n",
              "      <th>25%</th>\n",
              "      <td>35.000000</td>\n",
              "      <td>0.000000</td>\n",
              "      <td>0.000000</td>\n",
              "      <td>24.000000</td>\n",
              "      <td>0.000000</td>\n",
              "      <td>32.000000</td>\n",
              "    </tr>\n",
              "    <tr>\n",
              "      <th>50%</th>\n",
              "      <td>73.000000</td>\n",
              "      <td>1.000000</td>\n",
              "      <td>1.000000</td>\n",
              "      <td>25.000000</td>\n",
              "      <td>1.000000</td>\n",
              "      <td>68.000000</td>\n",
              "    </tr>\n",
              "    <tr>\n",
              "      <th>75%</th>\n",
              "      <td>112.000000</td>\n",
              "      <td>2.000000</td>\n",
              "      <td>2.000000</td>\n",
              "      <td>25.000000</td>\n",
              "      <td>2.000000</td>\n",
              "      <td>113.000000</td>\n",
              "    </tr>\n",
              "    <tr>\n",
              "      <th>max</th>\n",
              "      <td>209.000000</td>\n",
              "      <td>3.000000</td>\n",
              "      <td>5.000000</td>\n",
              "      <td>56.000000</td>\n",
              "      <td>2.000000</td>\n",
              "      <td>209.000000</td>\n",
              "    </tr>\n",
              "  </tbody>\n",
              "</table>\n",
              "</div>"
            ],
            "text/plain": [
              "         home_rank  home_score_y  ...     status_y    away_rank\n",
              "count  7541.000000   7541.000000  ...  7541.000000  7541.000000\n",
              "mean     76.946294      1.269593  ...     1.188702    75.725103\n",
              "std      48.972072      1.001254  ...     0.836064    51.161648\n",
              "min       1.000000      0.000000  ...     0.000000     1.000000\n",
              "25%      35.000000      0.000000  ...     0.000000    32.000000\n",
              "50%      73.000000      1.000000  ...     1.000000    68.000000\n",
              "75%     112.000000      2.000000  ...     2.000000   113.000000\n",
              "max     209.000000      3.000000  ...     2.000000   209.000000\n",
              "\n",
              "[8 rows x 6 columns]"
            ]
          },
          "metadata": {
            "tags": []
          },
          "execution_count": 45
        }
      ]
    },
    {
      "cell_type": "code",
      "metadata": {
        "id": "B6XtUe4XWkPd",
        "outputId": "7b39e260-8b4c-44e5-e3a1-47508abb74a2",
        "colab": {
          "base_uri": "https://localhost:8080/",
          "height": 72
        }
      },
      "source": [
        "# import metrics library\n",
        "from sklearn import metrics\n",
        "print('Mean Absolute Error:', metrics.mean_absolute_error(y_test, y_pred))\n",
        "print('Mean Squared Error:', metrics.mean_squared_error(y_test, y_pred))\n",
        "print('Root Mean Squared Error:', np.sqrt(metrics.mean_squared_error(y_test, y_pred)))"
      ],
      "execution_count": null,
      "outputs": [
        {
          "output_type": "stream",
          "text": [
            "Mean Absolute Error: 0.7790677830795896\n",
            "Mean Squared Error: 0.8721623339346418\n",
            "Root Mean Squared Error: 0.9338963186214205\n"
          ],
          "name": "stdout"
        }
      ]
    },
    {
      "cell_type": "markdown",
      "metadata": {
        "id": "MaDJTV46XZkT"
      },
      "source": [
        ">The root mean squared error is quite high, comparing it with 10% of the mean value of home score. The algorithm is not very accurate but can still make fair predictions. This may have been attributed by poor feature selection. The features used do not have a high enough correlation to the values being predicted as seen on the correlation heatmap."
      ]
    },
    {
      "cell_type": "markdown",
      "metadata": {
        "id": "gfwp_KOccw2r"
      },
      "source": [
        "<font color='green'>*Cross-Validation*"
      ]
    },
    {
      "cell_type": "code",
      "metadata": {
        "id": "6eEAH2vXcwYV",
        "outputId": "761aba57-b73b-4a0c-f258-b3108e51738f",
        "colab": {
          "base_uri": "https://localhost:8080/",
          "height": 72
        }
      },
      "source": [
        "# import LeaveOneOut library\n",
        "from sklearn.model_selection import LeaveOneOut\n",
        "\n",
        "# define the kfolds for validation by calling LeaveOneOut function\n",
        "folds = LeaveOneOut()\n",
        "\n",
        "# number of folds set up\n",
        "print('we are using ' +str(folds.get_n_splits(X)) + ' folds')\n",
        "\n",
        "# create and assess the models based on the folds created.\n",
        "RMSES = [] # this array keeps track of the RSME of each model\n",
        "count = 0 \n",
        "for train_index, test_index in folds.split(X):\n",
        "  \n",
        "  # set up the train and test based on the split determined by KFold\n",
        "  X_train, X_test = X[train_index], X[test_index]\n",
        "  y_train, y_test = y[train_index], y[test_index]\n",
        "  \n",
        "  poly_reg = PolynomialFeatures(degree = 2) \n",
        "  X_train, X_test = poly_reg.fit_transform(X_train), poly_reg.fit_transform(X_test)\n",
        "\n",
        "  # fit a model accordingly\n",
        "  regressor = LinearRegression()  \n",
        "  regressor.fit(X_train, y_train)\n",
        "  \n",
        "  # assess the accuraccy of the model\n",
        "  y_pred = regressor.predict(X_test)\n",
        "  \n",
        "  rmse_value =  np.sqrt(metrics.mean_squared_error(y_test, y_pred))\n",
        "  RMSES.append(rmse_value)\n",
        "  \n",
        "  count = count + 1\n",
        "print('trained ' + str(count) + ' models' )\n",
        "print(f\"The mean RMSES of the trained models is: {np.mean(RMSES)}\")\n"
      ],
      "execution_count": null,
      "outputs": [
        {
          "output_type": "stream",
          "text": [
            "we are using 7541 folds\n",
            "trained 7541 models\n",
            "The mean RMSES of the trained models is: 0.7766847480405453\n"
          ],
          "name": "stdout"
        }
      ]
    },
    {
      "cell_type": "markdown",
      "metadata": {
        "id": "M811f3Ayfpj9"
      },
      "source": [
        ">The mean RMSES of the trained models is lower than the initally trained model. It would be challenging to create a model that beats the ~0.78 mean RMSE using this dataset. This is extremely time consuming especially in this case as the data is relatively large."
      ]
    },
    {
      "cell_type": "markdown",
      "metadata": {
        "id": "adLeE94fYmEs"
      },
      "source": [
        "<font color='green'>*Residuals*"
      ]
    },
    {
      "cell_type": "code",
      "metadata": {
        "id": "JZi2LvNgNra2",
        "outputId": "cc99f525-a01d-41bd-ff5e-1dcc3d14259a",
        "colab": {
          "base_uri": "https://localhost:8080/",
          "height": 231
        }
      },
      "source": [
        "# create the residual by substracting the test value from the predicted value for each row in our dataset\n",
        "\n",
        "residuals = np.subtract(y_pred, y_test)\n",
        "\n",
        "# describe our residual:\n",
        "pd.DataFrame(residuals).describe()\n",
        "\n",
        "# residuals.mean()"
      ],
      "execution_count": null,
      "outputs": [
        {
          "output_type": "error",
          "ename": "NameError",
          "evalue": "ignored",
          "traceback": [
            "\u001b[0;31m---------------------------------------------------------------------------\u001b[0m",
            "\u001b[0;31mNameError\u001b[0m                                 Traceback (most recent call last)",
            "\u001b[0;32m<ipython-input-1-9e29251917af>\u001b[0m in \u001b[0;36m<module>\u001b[0;34m()\u001b[0m\n\u001b[1;32m      1\u001b[0m \u001b[0;31m# create the residual by substracting the test value from the predicted value for each row in our dataset\u001b[0m\u001b[0;34m\u001b[0m\u001b[0;34m\u001b[0m\u001b[0;34m\u001b[0m\u001b[0m\n\u001b[1;32m      2\u001b[0m \u001b[0;34m\u001b[0m\u001b[0m\n\u001b[0;32m----> 3\u001b[0;31m \u001b[0mresiduals\u001b[0m \u001b[0;34m=\u001b[0m \u001b[0mnp\u001b[0m\u001b[0;34m.\u001b[0m\u001b[0msubtract\u001b[0m\u001b[0;34m(\u001b[0m\u001b[0my_pred\u001b[0m\u001b[0;34m,\u001b[0m \u001b[0my_test\u001b[0m\u001b[0;34m)\u001b[0m\u001b[0;34m\u001b[0m\u001b[0;34m\u001b[0m\u001b[0m\n\u001b[0m\u001b[1;32m      4\u001b[0m \u001b[0;34m\u001b[0m\u001b[0m\n\u001b[1;32m      5\u001b[0m \u001b[0;31m# describe our residual:\u001b[0m\u001b[0;34m\u001b[0m\u001b[0;34m\u001b[0m\u001b[0;34m\u001b[0m\u001b[0m\n",
            "\u001b[0;31mNameError\u001b[0m: name 'np' is not defined"
          ]
        }
      ]
    },
    {
      "cell_type": "markdown",
      "metadata": {
        "id": "1mFr3RdcZfAq"
      },
      "source": [
        ">The mean is close to 0, indicating that we tend to be fairly correct, although slightly over estimating chances. This can be thoroughly investigated using the heteroskedasticity test"
      ]
    },
    {
      "cell_type": "markdown",
      "metadata": {
        "id": "Ubi54aaocUWy"
      },
      "source": [
        "<font color='green'>*Heteroskedasticity test*"
      ]
    },
    {
      "cell_type": "code",
      "metadata": {
        "id": "70tq126bZZd3",
        "outputId": "4b01a562-950f-4b6a-a1b2-767adea32101",
        "colab": {
          "base_uri": "https://localhost:8080/",
          "height": 274
        }
      },
      "source": [
        "import scipy as sp\n",
        "\n",
        "test_result, p_value = sp.stats.bartlett(y_pred, residuals)\n",
        "print(test_result, p_value)\n",
        "\n",
        "# To interpret the results we must also compute a critical value of the chi squared distribution\n",
        "degree_of_freedom = len(y_pred)-1\n",
        "probability = 1 - p_value\n",
        "\n",
        "critical_value = sp.stats.chi2.ppf(probability, degree_of_freedom)\n",
        "print(critical_value)\n",
        "\n",
        "# If the test_result is greater than the critical value, then we reject our null\n",
        "# hypothesis. This would mean that there are patterns to the variance of the data\n",
        "\n",
        "# Otherwise, we can identify no patterns, and we accept the null hypothesis that \n",
        "# the variance is homogeneous across our data\n",
        "\n",
        "if (test_result > critical_value):\n",
        "  print('the variances are unequal, and the model should be reassessed')\n",
        "else:\n",
        "  print('the variances are homogeneous!...There are no patterns to the variance of the data')\n",
        "\n"
      ],
      "execution_count": null,
      "outputs": [
        {
          "output_type": "stream",
          "text": [
            "nan nan\n",
            "nan\n",
            "the variances are homogeneous!...There are no patterns to the variance of the data\n"
          ],
          "name": "stdout"
        },
        {
          "output_type": "stream",
          "text": [
            "/usr/local/lib/python3.6/dist-packages/numpy/core/fromnumeric.py:3584: RuntimeWarning: Degrees of freedom <= 0 for slice\n",
            "  **kwargs)\n",
            "/usr/local/lib/python3.6/dist-packages/numpy/core/_methods.py:209: RuntimeWarning: invalid value encountered in double_scalars\n",
            "  ret = ret.dtype.type(ret / rcount)\n",
            "/usr/local/lib/python3.6/dist-packages/scipy/stats/morestats.py:2242: RuntimeWarning: divide by zero encountered in true_divide\n",
            "  denom = 1.0 + 1.0/(3*(k - 1)) * ((np.sum(1.0/(Ni - 1.0), axis=0)) -\n",
            "/usr/local/lib/python3.6/dist-packages/scipy/stats/morestats.py:2243: RuntimeWarning: divide by zero encountered in double_scalars\n",
            "  1.0/(Ntot - k))\n",
            "/usr/local/lib/python3.6/dist-packages/scipy/stats/morestats.py:2243: RuntimeWarning: invalid value encountered in double_scalars\n",
            "  1.0/(Ntot - k))\n"
          ],
          "name": "stderr"
        }
      ]
    },
    {
      "cell_type": "markdown",
      "metadata": {
        "id": "6mZKGvUwg1a1"
      },
      "source": [
        "### **Model 2: Predict how many goals the away team scores.**"
      ]
    },
    {
      "cell_type": "code",
      "metadata": {
        "id": "eb4d0R0cbNHw",
        "outputId": "6c62af18-91b2-48ea-fe6d-3efa0cef439d",
        "colab": {
          "base_uri": "https://localhost:8080/",
          "height": 348
        }
      },
      "source": [
        "# feature selection \n",
        "X = poly[['home_rank', 'away_rank', 'tournament_y']].values #features\n",
        "y = poly['away_score_y'].values #labels\n",
        "\n",
        "# normalize the data by standardizing/scaling\n",
        "X = StandardScaler().fit_transform(X)\n",
        "\n",
        "from sklearn.model_selection import train_test_split\n",
        "# splitting the data into train and test sets\n",
        "X_train, X_test, y_train, y_test = train_test_split(X, y, test_size = 0.25, random_state = 0)\n",
        "\n",
        "from sklearn.preprocessing import PolynomialFeatures\n",
        "# Fit polynomial Regression to the dataset\n",
        "poly_reg = PolynomialFeatures(degree = 2, include_bias=False) \n",
        "X_train, X_test = poly_reg.fit_transform(X_train), poly_reg.fit_transform(X_test)\n",
        "\n",
        "from sklearn.linear_model import LinearRegression\n",
        "# train model/fit train set onto the model\n",
        "pol_regressor = LinearRegression()\n",
        "pol_regressor.fit(X_train, y_train)\n",
        "\n",
        "# predict using trained model\n",
        "y_pred = pol_regressor.predict(X_test)\n",
        "\n",
        "# cross-check on predictions made against the actual values\n",
        "predictions = pd.DataFrame({'Actual': y_test, 'Predicted': y_pred})\n",
        "predictions.head(10)\n"
      ],
      "execution_count": null,
      "outputs": [
        {
          "output_type": "execute_result",
          "data": {
            "text/html": [
              "<div>\n",
              "<style scoped>\n",
              "    .dataframe tbody tr th:only-of-type {\n",
              "        vertical-align: middle;\n",
              "    }\n",
              "\n",
              "    .dataframe tbody tr th {\n",
              "        vertical-align: top;\n",
              "    }\n",
              "\n",
              "    .dataframe thead th {\n",
              "        text-align: right;\n",
              "    }\n",
              "</style>\n",
              "<table border=\"1\" class=\"dataframe\">\n",
              "  <thead>\n",
              "    <tr style=\"text-align: right;\">\n",
              "      <th></th>\n",
              "      <th>Actual</th>\n",
              "      <th>Predicted</th>\n",
              "    </tr>\n",
              "  </thead>\n",
              "  <tbody>\n",
              "    <tr>\n",
              "      <th>0</th>\n",
              "      <td>1</td>\n",
              "      <td>0.935286</td>\n",
              "    </tr>\n",
              "    <tr>\n",
              "      <th>1</th>\n",
              "      <td>2</td>\n",
              "      <td>1.301006</td>\n",
              "    </tr>\n",
              "    <tr>\n",
              "      <th>2</th>\n",
              "      <td>0</td>\n",
              "      <td>1.129373</td>\n",
              "    </tr>\n",
              "    <tr>\n",
              "      <th>3</th>\n",
              "      <td>1</td>\n",
              "      <td>0.805597</td>\n",
              "    </tr>\n",
              "    <tr>\n",
              "      <th>4</th>\n",
              "      <td>2</td>\n",
              "      <td>1.079833</td>\n",
              "    </tr>\n",
              "    <tr>\n",
              "      <th>5</th>\n",
              "      <td>2</td>\n",
              "      <td>1.014931</td>\n",
              "    </tr>\n",
              "    <tr>\n",
              "      <th>6</th>\n",
              "      <td>0</td>\n",
              "      <td>0.287746</td>\n",
              "    </tr>\n",
              "    <tr>\n",
              "      <th>7</th>\n",
              "      <td>1</td>\n",
              "      <td>0.820855</td>\n",
              "    </tr>\n",
              "    <tr>\n",
              "      <th>8</th>\n",
              "      <td>0</td>\n",
              "      <td>0.502463</td>\n",
              "    </tr>\n",
              "    <tr>\n",
              "      <th>9</th>\n",
              "      <td>0</td>\n",
              "      <td>0.819938</td>\n",
              "    </tr>\n",
              "  </tbody>\n",
              "</table>\n",
              "</div>"
            ],
            "text/plain": [
              "   Actual  Predicted\n",
              "0       1   0.935286\n",
              "1       2   1.301006\n",
              "2       0   1.129373\n",
              "3       1   0.805597\n",
              "4       2   1.079833\n",
              "5       2   1.014931\n",
              "6       0   0.287746\n",
              "7       1   0.820855\n",
              "8       0   0.502463\n",
              "9       0   0.819938"
            ]
          },
          "metadata": {
            "tags": []
          },
          "execution_count": 51
        }
      ]
    },
    {
      "cell_type": "markdown",
      "metadata": {
        "id": "Vb6EXT0VhvQJ"
      },
      "source": [
        "**Evaluating the model**"
      ]
    },
    {
      "cell_type": "code",
      "metadata": {
        "id": "pJegVwmihoP9",
        "outputId": "a370b60e-8847-481d-d59f-ea58673341a2",
        "colab": {
          "base_uri": "https://localhost:8080/",
          "height": 288
        }
      },
      "source": [
        "poly.describe()"
      ],
      "execution_count": null,
      "outputs": [
        {
          "output_type": "execute_result",
          "data": {
            "text/html": [
              "<div>\n",
              "<style scoped>\n",
              "    .dataframe tbody tr th:only-of-type {\n",
              "        vertical-align: middle;\n",
              "    }\n",
              "\n",
              "    .dataframe tbody tr th {\n",
              "        vertical-align: top;\n",
              "    }\n",
              "\n",
              "    .dataframe thead th {\n",
              "        text-align: right;\n",
              "    }\n",
              "</style>\n",
              "<table border=\"1\" class=\"dataframe\">\n",
              "  <thead>\n",
              "    <tr style=\"text-align: right;\">\n",
              "      <th></th>\n",
              "      <th>home_rank</th>\n",
              "      <th>home_score_y</th>\n",
              "      <th>away_score_y</th>\n",
              "      <th>tournament_y</th>\n",
              "      <th>status_y</th>\n",
              "      <th>away_rank</th>\n",
              "    </tr>\n",
              "  </thead>\n",
              "  <tbody>\n",
              "    <tr>\n",
              "      <th>count</th>\n",
              "      <td>7541.000000</td>\n",
              "      <td>7541.000000</td>\n",
              "      <td>7541.000000</td>\n",
              "      <td>7541.000000</td>\n",
              "      <td>7541.000000</td>\n",
              "      <td>7541.000000</td>\n",
              "    </tr>\n",
              "    <tr>\n",
              "      <th>mean</th>\n",
              "      <td>76.946294</td>\n",
              "      <td>1.269593</td>\n",
              "      <td>0.981170</td>\n",
              "      <td>25.288291</td>\n",
              "      <td>1.188702</td>\n",
              "      <td>75.725103</td>\n",
              "    </tr>\n",
              "    <tr>\n",
              "      <th>std</th>\n",
              "      <td>48.972072</td>\n",
              "      <td>1.001254</td>\n",
              "      <td>1.077705</td>\n",
              "      <td>11.265056</td>\n",
              "      <td>0.836064</td>\n",
              "      <td>51.161648</td>\n",
              "    </tr>\n",
              "    <tr>\n",
              "      <th>min</th>\n",
              "      <td>1.000000</td>\n",
              "      <td>0.000000</td>\n",
              "      <td>0.000000</td>\n",
              "      <td>0.000000</td>\n",
              "      <td>0.000000</td>\n",
              "      <td>1.000000</td>\n",
              "    </tr>\n",
              "    <tr>\n",
              "      <th>25%</th>\n",
              "      <td>35.000000</td>\n",
              "      <td>0.000000</td>\n",
              "      <td>0.000000</td>\n",
              "      <td>24.000000</td>\n",
              "      <td>0.000000</td>\n",
              "      <td>32.000000</td>\n",
              "    </tr>\n",
              "    <tr>\n",
              "      <th>50%</th>\n",
              "      <td>73.000000</td>\n",
              "      <td>1.000000</td>\n",
              "      <td>1.000000</td>\n",
              "      <td>25.000000</td>\n",
              "      <td>1.000000</td>\n",
              "      <td>68.000000</td>\n",
              "    </tr>\n",
              "    <tr>\n",
              "      <th>75%</th>\n",
              "      <td>112.000000</td>\n",
              "      <td>2.000000</td>\n",
              "      <td>2.000000</td>\n",
              "      <td>25.000000</td>\n",
              "      <td>2.000000</td>\n",
              "      <td>113.000000</td>\n",
              "    </tr>\n",
              "    <tr>\n",
              "      <th>max</th>\n",
              "      <td>209.000000</td>\n",
              "      <td>3.000000</td>\n",
              "      <td>5.000000</td>\n",
              "      <td>56.000000</td>\n",
              "      <td>2.000000</td>\n",
              "      <td>209.000000</td>\n",
              "    </tr>\n",
              "  </tbody>\n",
              "</table>\n",
              "</div>"
            ],
            "text/plain": [
              "         home_rank  home_score_y  ...     status_y    away_rank\n",
              "count  7541.000000   7541.000000  ...  7541.000000  7541.000000\n",
              "mean     76.946294      1.269593  ...     1.188702    75.725103\n",
              "std      48.972072      1.001254  ...     0.836064    51.161648\n",
              "min       1.000000      0.000000  ...     0.000000     1.000000\n",
              "25%      35.000000      0.000000  ...     0.000000    32.000000\n",
              "50%      73.000000      1.000000  ...     1.000000    68.000000\n",
              "75%     112.000000      2.000000  ...     2.000000   113.000000\n",
              "max     209.000000      3.000000  ...     2.000000   209.000000\n",
              "\n",
              "[8 rows x 6 columns]"
            ]
          },
          "metadata": {
            "tags": []
          },
          "execution_count": 53
        }
      ]
    },
    {
      "cell_type": "code",
      "metadata": {
        "id": "kv19TG_8hyBz",
        "outputId": "8734e11a-347f-43e8-d1f6-32c8b0e4c1ab",
        "colab": {
          "base_uri": "https://localhost:8080/",
          "height": 72
        }
      },
      "source": [
        "# print metrics summaries of the model\n",
        "print('Mean Absolute Error:', metrics.mean_absolute_error(y_test, y_pred))\n",
        "print('Mean Squared Error:', metrics.mean_squared_error(y_test, y_pred))\n",
        "print('Root Mean Squared Error:', np.sqrt(metrics.mean_squared_error(y_test, y_pred)))"
      ],
      "execution_count": null,
      "outputs": [
        {
          "output_type": "stream",
          "text": [
            "Mean Absolute Error: 0.7773801350416831\n",
            "Mean Squared Error: 0.9933284987525564\n",
            "Root Mean Squared Error: 0.9966586671235826\n"
          ],
          "name": "stdout"
        }
      ]
    },
    {
      "cell_type": "markdown",
      "metadata": {
        "id": "U6i4jfLriMqL"
      },
      "source": [
        ">The root mean squared error is quite high, comparing it with 10% of the mean value of away score which is 0.981. The algorithm is not very accurate but can still make fair predictions. This needs to be cross-validated using the kfold method."
      ]
    },
    {
      "cell_type": "markdown",
      "metadata": {
        "id": "Q5VXWj0Liglo"
      },
      "source": [
        "<font color = 'green'>Cross-Validation"
      ]
    },
    {
      "cell_type": "code",
      "metadata": {
        "id": "xXw-XqC3h8fD",
        "outputId": "8fcfba36-96f2-4a03-da9d-f3b9cffb9066",
        "colab": {
          "base_uri": "https://localhost:8080/",
          "height": 72
        }
      },
      "source": [
        "# define the kfolds for validation by calling LeaveOneOut function\n",
        "folds = LeaveOneOut()\n",
        "\n",
        "# number of folds set up\n",
        "print('we are using ' +str(folds.get_n_splits(X)) + ' folds')\n",
        "\n",
        "# create and assess the models based on the folds created.\n",
        "RMSES = [] # this array keeps track of the RSME of each model\n",
        "count = 0 \n",
        "for train_index, test_index in folds.split(X):\n",
        "  \n",
        "  # set up the train and test based on the split determined by KFold\n",
        "  X_train, X_test = X[train_index], X[test_index]\n",
        "  y_train, y_test = y[train_index], y[test_index]\n",
        "  \n",
        "  poly_reg = PolynomialFeatures(degree = 2) \n",
        "  X_train, X_test = poly_reg.fit_transform(X_train), poly_reg.fit_transform(X_test)\n",
        "\n",
        "  # fit a model accordingly\n",
        "  regressor = LinearRegression()  \n",
        "  regressor.fit(X_train, y_train)\n",
        "  \n",
        "  # assess the accuraccy of the model\n",
        "  y_pred = regressor.predict(X_test)\n",
        "  \n",
        "  rmse_value =  np.sqrt(metrics.mean_squared_error(y_test, y_pred))\n",
        "  RMSES.append(rmse_value)\n",
        "  \n",
        "  count = count + 1\n",
        "print('trained ' + str(count) + ' models' )\n",
        "print(f\"The mean RMSES of the trained models is: {np.mean(RMSES)}\")\n"
      ],
      "execution_count": null,
      "outputs": [
        {
          "output_type": "stream",
          "text": [
            "we are using 7541 folds\n",
            "trained 7541 models\n",
            "The mean RMSES of the trained models is: 0.783979394433433\n"
          ],
          "name": "stdout"
        }
      ]
    },
    {
      "cell_type": "markdown",
      "metadata": {
        "id": "lZqsLkYyi2Kb"
      },
      "source": [
        ">The mean RMSES drops by a significant value.\n",
        "\n"
      ]
    },
    {
      "cell_type": "code",
      "metadata": {
        "id": "BPViwiRZiuWB",
        "outputId": "d779dcf4-063c-413e-f02c-fc2fc4d7c45a",
        "colab": {
          "base_uri": "https://localhost:8080/",
          "height": 288
        }
      },
      "source": [
        "# create the residual by substracting the test value from the predicted value for each row in our dataset\n",
        "\n",
        "residuals = np.subtract(y_pred, y_test)\n",
        "\n",
        "# describe our residual:\n",
        "pd.DataFrame(residuals).describe()\n",
        "\n",
        "# residuals.mean()"
      ],
      "execution_count": null,
      "outputs": [
        {
          "output_type": "execute_result",
          "data": {
            "text/html": [
              "<div>\n",
              "<style scoped>\n",
              "    .dataframe tbody tr th:only-of-type {\n",
              "        vertical-align: middle;\n",
              "    }\n",
              "\n",
              "    .dataframe tbody tr th {\n",
              "        vertical-align: top;\n",
              "    }\n",
              "\n",
              "    .dataframe thead th {\n",
              "        text-align: right;\n",
              "    }\n",
              "</style>\n",
              "<table border=\"1\" class=\"dataframe\">\n",
              "  <thead>\n",
              "    <tr style=\"text-align: right;\">\n",
              "      <th></th>\n",
              "      <th>0</th>\n",
              "    </tr>\n",
              "  </thead>\n",
              "  <tbody>\n",
              "    <tr>\n",
              "      <th>count</th>\n",
              "      <td>1.000000</td>\n",
              "    </tr>\n",
              "    <tr>\n",
              "      <th>mean</th>\n",
              "      <td>0.633687</td>\n",
              "    </tr>\n",
              "    <tr>\n",
              "      <th>std</th>\n",
              "      <td>NaN</td>\n",
              "    </tr>\n",
              "    <tr>\n",
              "      <th>min</th>\n",
              "      <td>0.633687</td>\n",
              "    </tr>\n",
              "    <tr>\n",
              "      <th>25%</th>\n",
              "      <td>0.633687</td>\n",
              "    </tr>\n",
              "    <tr>\n",
              "      <th>50%</th>\n",
              "      <td>0.633687</td>\n",
              "    </tr>\n",
              "    <tr>\n",
              "      <th>75%</th>\n",
              "      <td>0.633687</td>\n",
              "    </tr>\n",
              "    <tr>\n",
              "      <th>max</th>\n",
              "      <td>0.633687</td>\n",
              "    </tr>\n",
              "  </tbody>\n",
              "</table>\n",
              "</div>"
            ],
            "text/plain": [
              "              0\n",
              "count  1.000000\n",
              "mean   0.633687\n",
              "std         NaN\n",
              "min    0.633687\n",
              "25%    0.633687\n",
              "50%    0.633687\n",
              "75%    0.633687\n",
              "max    0.633687"
            ]
          },
          "metadata": {
            "tags": []
          },
          "execution_count": 55
        }
      ]
    },
    {
      "cell_type": "markdown",
      "metadata": {
        "id": "KxcsNIozjqTz"
      },
      "source": [
        ">The residuals mean is close to 0(centered around the mean), indicating that we tend to be fairly correct, although slightly over estimating chances. This can be thoroughly investigated using the heteroskedasticity test"
      ]
    },
    {
      "cell_type": "markdown",
      "metadata": {
        "id": "QlR1Ftzuj2VP"
      },
      "source": [
        "<font color='green'>Heteroskedasticity test"
      ]
    },
    {
      "cell_type": "code",
      "metadata": {
        "id": "gsLwYn-pjfP3",
        "outputId": "ce4ea7c4-a38f-4bba-8454-1431b0a12916",
        "colab": {
          "base_uri": "https://localhost:8080/",
          "height": 274
        }
      },
      "source": [
        "test_result, p_value = sp.stats.bartlett(y_pred, residuals)\n",
        "print(test_result, p_value)\n",
        "\n",
        "# To interpret the results we must also compute a critical value of the chi squared distribution\n",
        "degree_of_freedom = len(y_pred)-1\n",
        "probability = 1 - p_value\n",
        "\n",
        "critical_value = sp.stats.chi2.ppf(probability, degree_of_freedom)\n",
        "print(critical_value)\n",
        "\n",
        "# If the test_result is greater than the critical value, then we reject our null\n",
        "# hypothesis. This would mean that there are patterns to the variance of the data\n",
        "\n",
        "# Otherwise, we can identify no patterns, and we accept the null hypothesis that \n",
        "# the variance is homogeneous across our data\n",
        "\n",
        "if (test_result > critical_value):\n",
        "  print('the variances are unequal, and the model should be reassessed')\n",
        "else:\n",
        "  print('the variances are homogeneous!...There are no patterns to the variance of the data')\n",
        "\n"
      ],
      "execution_count": null,
      "outputs": [
        {
          "output_type": "stream",
          "text": [
            "nan nan\n",
            "nan\n",
            "the variances are homogeneous!...There are no patterns to the variance of the data\n"
          ],
          "name": "stdout"
        },
        {
          "output_type": "stream",
          "text": [
            "/usr/local/lib/python3.6/dist-packages/numpy/core/fromnumeric.py:3584: RuntimeWarning: Degrees of freedom <= 0 for slice\n",
            "  **kwargs)\n",
            "/usr/local/lib/python3.6/dist-packages/numpy/core/_methods.py:209: RuntimeWarning: invalid value encountered in double_scalars\n",
            "  ret = ret.dtype.type(ret / rcount)\n",
            "/usr/local/lib/python3.6/dist-packages/scipy/stats/morestats.py:2242: RuntimeWarning: divide by zero encountered in true_divide\n",
            "  denom = 1.0 + 1.0/(3*(k - 1)) * ((np.sum(1.0/(Ni - 1.0), axis=0)) -\n",
            "/usr/local/lib/python3.6/dist-packages/scipy/stats/morestats.py:2243: RuntimeWarning: divide by zero encountered in double_scalars\n",
            "  1.0/(Ntot - k))\n",
            "/usr/local/lib/python3.6/dist-packages/scipy/stats/morestats.py:2243: RuntimeWarning: invalid value encountered in double_scalars\n",
            "  1.0/(Ntot - k))\n"
          ],
          "name": "stderr"
        }
      ]
    },
    {
      "cell_type": "markdown",
      "metadata": {
        "id": "RR0PubJEkTs9"
      },
      "source": [
        "## **Approach 2: Logistic approach**"
      ]
    },
    {
      "cell_type": "markdown",
      "metadata": {
        "id": "-Xp8oIcPlDcN"
      },
      "source": [
        "<font color='green'>Figure out from the home team’s perspective if the game is a Win, Lose or Draw (W, L, D)"
      ]
    },
    {
      "cell_type": "markdown",
      "metadata": {
        "id": "MNd57ndgllY2"
      },
      "source": [
        ">Initially, we encoded the status column to numeric which resulted in Draw = 0, Loss = 1, Win = 2"
      ]
    },
    {
      "cell_type": "code",
      "metadata": {
        "id": "jdTNAF7WkI_I",
        "outputId": "2d98c3b8-893b-4d95-f180-63781dfef556",
        "colab": {
          "base_uri": "https://localhost:8080/",
          "height": 298
        }
      },
      "source": [
        "# Checking that our target variable is binary\n",
        "# Since we are building a model to predict status of a game played target will be \"status\" variable. \n",
        "\n",
        "# make a countplot to see the distribution \n",
        "sns.countplot(x='status_y',data=data, palette='hls')\n"
      ],
      "execution_count": null,
      "outputs": [
        {
          "output_type": "execute_result",
          "data": {
            "text/plain": [
              "<matplotlib.axes._subplots.AxesSubplot at 0x7fb502f7b860>"
            ]
          },
          "metadata": {
            "tags": []
          },
          "execution_count": 59
        },
        {
          "output_type": "display_data",
          "data": {
            "image/png": "[encoded data removed]",
            "text/plain": [
              "<Figure size 432x288 with 1 Axes>"
            ]
          },
          "metadata": {
            "tags": [],
            "needs_background": "light"
          }
        }
      ]
    },
    {
      "cell_type": "code",
      "metadata": {
        "id": "wozyjGaMrhAe",
        "outputId": "7c7be535-e1cc-47cf-a4a4-c3fe86996919",
        "colab": {
          "base_uri": "https://localhost:8080/",
          "height": 218
        }
      },
      "source": [
        "# select promising columns\n",
        "log_data = data[['home_score_y', 'away_score_y', 'home_rank', 'away_rank', 'tournament_y', 'previous_points_y','total_points_y', 'status_y']]\n",
        "log_data.head()"
      ],
      "execution_count": null,
      "outputs": [
        {
          "output_type": "execute_result",
          "data": {
            "text/html": [
              "<div>\n",
              "<style scoped>\n",
              "    .dataframe tbody tr th:only-of-type {\n",
              "        vertical-align: middle;\n",
              "    }\n",
              "\n",
              "    .dataframe tbody tr th {\n",
              "        vertical-align: top;\n",
              "    }\n",
              "\n",
              "    .dataframe thead th {\n",
              "        text-align: right;\n",
              "    }\n",
              "</style>\n",
              "<table border=\"1\" class=\"dataframe\">\n",
              "  <thead>\n",
              "    <tr style=\"text-align: right;\">\n",
              "      <th></th>\n",
              "      <th>home_score_y</th>\n",
              "      <th>away_score_y</th>\n",
              "      <th>home_rank</th>\n",
              "      <th>away_rank</th>\n",
              "      <th>tournament_y</th>\n",
              "      <th>previous_points_y</th>\n",
              "      <th>total_points_y</th>\n",
              "      <th>status_y</th>\n",
              "    </tr>\n",
              "  </thead>\n",
              "  <tbody>\n",
              "    <tr>\n",
              "      <th>0</th>\n",
              "      <td>0</td>\n",
              "      <td>0</td>\n",
              "      <td>19</td>\n",
              "      <td>67</td>\n",
              "      <td>24</td>\n",
              "      <td>22</td>\n",
              "      <td>0.0</td>\n",
              "      <td>0</td>\n",
              "    </tr>\n",
              "    <tr>\n",
              "      <th>1</th>\n",
              "      <td>2</td>\n",
              "      <td>1</td>\n",
              "      <td>19</td>\n",
              "      <td>5</td>\n",
              "      <td>24</td>\n",
              "      <td>51</td>\n",
              "      <td>0.0</td>\n",
              "      <td>2</td>\n",
              "    </tr>\n",
              "    <tr>\n",
              "      <th>3</th>\n",
              "      <td>0</td>\n",
              "      <td>1</td>\n",
              "      <td>70</td>\n",
              "      <td>5</td>\n",
              "      <td>24</td>\n",
              "      <td>51</td>\n",
              "      <td>0.0</td>\n",
              "      <td>1</td>\n",
              "    </tr>\n",
              "    <tr>\n",
              "      <th>6</th>\n",
              "      <td>1</td>\n",
              "      <td>1</td>\n",
              "      <td>22</td>\n",
              "      <td>8</td>\n",
              "      <td>24</td>\n",
              "      <td>55</td>\n",
              "      <td>0.0</td>\n",
              "      <td>0</td>\n",
              "    </tr>\n",
              "    <tr>\n",
              "      <th>8</th>\n",
              "      <td>1</td>\n",
              "      <td>5</td>\n",
              "      <td>94</td>\n",
              "      <td>8</td>\n",
              "      <td>24</td>\n",
              "      <td>55</td>\n",
              "      <td>0.0</td>\n",
              "      <td>1</td>\n",
              "    </tr>\n",
              "  </tbody>\n",
              "</table>\n",
              "</div>"
            ],
            "text/plain": [
              "   home_score_y  away_score_y  ...  total_points_y  status_y\n",
              "0             0             0  ...             0.0         0\n",
              "1             2             1  ...             0.0         2\n",
              "3             0             1  ...             0.0         1\n",
              "6             1             1  ...             0.0         0\n",
              "8             1             5  ...             0.0         1\n",
              "\n",
              "[5 rows x 8 columns]"
            ]
          },
          "metadata": {
            "tags": []
          },
          "execution_count": 60
        }
      ]
    },
    {
      "cell_type": "code",
      "metadata": {
        "id": "JDMDuEc0mn5q",
        "outputId": "04f3159d-1cd1-487f-ed4d-8d6ae172b5a5",
        "colab": {
          "base_uri": "https://localhost:8080/",
          "height": 382
        }
      },
      "source": [
        "# Checking for independence between features\n",
        "plt.figure(figsize=(20,8))\n",
        "sns.heatmap(log_data.corr(), annot=True)  "
      ],
      "execution_count": null,
      "outputs": [
        {
          "output_type": "execute_result",
          "data": {
            "text/plain": [
              "<matplotlib.axes._subplots.AxesSubplot at 0x7fb502fbf748>"
            ]
          },
          "metadata": {
            "tags": []
          },
          "execution_count": 61
        },
        {
          "output_type": "display_data",
          "data": {
            "image/png": "[encoded data removed]",
            "text/plain": [
              "<Figure size 1440x576 with 2 Axes>"
            ]
          },
          "metadata": {
            "tags": [],
            "needs_background": "light"
          }
        }
      ]
    },
    {
      "cell_type": "markdown",
      "metadata": {
        "id": "zNRku43Mu4_4"
      },
      "source": [
        ">There is a high correlation between the status and home score. This is because I derived the Status column based on the home team's perspective. Howover, it is the label and will not be included in the feature set which is okay. \n",
        "\n",
        ">There is also a high correlation between previous points and away rank, therefore, I will remove the previous points column from the features\n",
        "\n",
        ">There is also a notable slight correlation between the home team rank and away team rank."
      ]
    },
    {
      "cell_type": "code",
      "metadata": {
        "id": "h7E5lfIgulkt",
        "outputId": "709da406-5cab-4127-f6db-0bf80bae8cd8",
        "colab": {
          "base_uri": "https://localhost:8080/",
          "height": 198
        }
      },
      "source": [
        "log_data = log_data.drop('previous_points_y', 1)\n",
        "log_data.head()"
      ],
      "execution_count": null,
      "outputs": [
        {
          "output_type": "execute_result",
          "data": {
            "text/html": [
              "<div>\n",
              "<style scoped>\n",
              "    .dataframe tbody tr th:only-of-type {\n",
              "        vertical-align: middle;\n",
              "    }\n",
              "\n",
              "    .dataframe tbody tr th {\n",
              "        vertical-align: top;\n",
              "    }\n",
              "\n",
              "    .dataframe thead th {\n",
              "        text-align: right;\n",
              "    }\n",
              "</style>\n",
              "<table border=\"1\" class=\"dataframe\">\n",
              "  <thead>\n",
              "    <tr style=\"text-align: right;\">\n",
              "      <th></th>\n",
              "      <th>home_score_y</th>\n",
              "      <th>away_score_y</th>\n",
              "      <th>home_rank</th>\n",
              "      <th>away_rank</th>\n",
              "      <th>tournament_y</th>\n",
              "      <th>total_points_y</th>\n",
              "      <th>status_y</th>\n",
              "    </tr>\n",
              "  </thead>\n",
              "  <tbody>\n",
              "    <tr>\n",
              "      <th>0</th>\n",
              "      <td>0</td>\n",
              "      <td>0</td>\n",
              "      <td>19</td>\n",
              "      <td>67</td>\n",
              "      <td>24</td>\n",
              "      <td>0.0</td>\n",
              "      <td>0</td>\n",
              "    </tr>\n",
              "    <tr>\n",
              "      <th>1</th>\n",
              "      <td>2</td>\n",
              "      <td>1</td>\n",
              "      <td>19</td>\n",
              "      <td>5</td>\n",
              "      <td>24</td>\n",
              "      <td>0.0</td>\n",
              "      <td>2</td>\n",
              "    </tr>\n",
              "    <tr>\n",
              "      <th>3</th>\n",
              "      <td>0</td>\n",
              "      <td>1</td>\n",
              "      <td>70</td>\n",
              "      <td>5</td>\n",
              "      <td>24</td>\n",
              "      <td>0.0</td>\n",
              "      <td>1</td>\n",
              "    </tr>\n",
              "    <tr>\n",
              "      <th>6</th>\n",
              "      <td>1</td>\n",
              "      <td>1</td>\n",
              "      <td>22</td>\n",
              "      <td>8</td>\n",
              "      <td>24</td>\n",
              "      <td>0.0</td>\n",
              "      <td>0</td>\n",
              "    </tr>\n",
              "    <tr>\n",
              "      <th>8</th>\n",
              "      <td>1</td>\n",
              "      <td>5</td>\n",
              "      <td>94</td>\n",
              "      <td>8</td>\n",
              "      <td>24</td>\n",
              "      <td>0.0</td>\n",
              "      <td>1</td>\n",
              "    </tr>\n",
              "  </tbody>\n",
              "</table>\n",
              "</div>"
            ],
            "text/plain": [
              "   home_score_y  away_score_y  ...  total_points_y  status_y\n",
              "0             0             0  ...             0.0         0\n",
              "1             2             1  ...             0.0         2\n",
              "3             0             1  ...             0.0         1\n",
              "6             1             1  ...             0.0         0\n",
              "8             1             5  ...             0.0         1\n",
              "\n",
              "[5 rows x 7 columns]"
            ]
          },
          "metadata": {
            "tags": []
          },
          "execution_count": 62
        }
      ]
    },
    {
      "cell_type": "code",
      "metadata": {
        "id": "eLhHs9oLwgts",
        "outputId": "d3cefdc0-fc36-4314-c968-5f1802b6e5e1",
        "colab": {
          "base_uri": "https://localhost:8080/",
          "height": 348
        }
      },
      "source": [
        "# defining features and label sets\n",
        "X = log_data.drop('status_y', 1).values\n",
        "y = log_data['status_y'].values\n",
        "\n",
        "# feature scaling\n",
        "X = StandardScaler().fit_transform(X)\n",
        "\n",
        "# split data into train and test sets\n",
        "X_train, X_test,y_train, y_test = train_test_split(X, y, test_size = 0.2, random_state=0)\n",
        "\n",
        "# import library\n",
        "from sklearn.linear_model import LogisticRegression\n",
        "\n",
        "# Fitting our model\n",
        "LogReg = LogisticRegression()\n",
        "LogReg.fit(X_train, y_train)\n",
        "\n",
        "# predicting\n",
        "y_pred = LogReg.predict(X_test)\n",
        "\n",
        "# cross-check on predictions made against the actual values\n",
        "predictions = pd.DataFrame({'Actual': y_test, 'Predicted': y_pred})\n",
        "predictions.head(10)"
      ],
      "execution_count": null,
      "outputs": [
        {
          "output_type": "execute_result",
          "data": {
            "text/html": [
              "<div>\n",
              "<style scoped>\n",
              "    .dataframe tbody tr th:only-of-type {\n",
              "        vertical-align: middle;\n",
              "    }\n",
              "\n",
              "    .dataframe tbody tr th {\n",
              "        vertical-align: top;\n",
              "    }\n",
              "\n",
              "    .dataframe thead th {\n",
              "        text-align: right;\n",
              "    }\n",
              "</style>\n",
              "<table border=\"1\" class=\"dataframe\">\n",
              "  <thead>\n",
              "    <tr style=\"text-align: right;\">\n",
              "      <th></th>\n",
              "      <th>Actual</th>\n",
              "      <th>Predicted</th>\n",
              "    </tr>\n",
              "  </thead>\n",
              "  <tbody>\n",
              "    <tr>\n",
              "      <th>0</th>\n",
              "      <td>0</td>\n",
              "      <td>0</td>\n",
              "    </tr>\n",
              "    <tr>\n",
              "      <th>1</th>\n",
              "      <td>2</td>\n",
              "      <td>2</td>\n",
              "    </tr>\n",
              "    <tr>\n",
              "      <th>2</th>\n",
              "      <td>2</td>\n",
              "      <td>2</td>\n",
              "    </tr>\n",
              "    <tr>\n",
              "      <th>3</th>\n",
              "      <td>2</td>\n",
              "      <td>2</td>\n",
              "    </tr>\n",
              "    <tr>\n",
              "      <th>4</th>\n",
              "      <td>1</td>\n",
              "      <td>1</td>\n",
              "    </tr>\n",
              "    <tr>\n",
              "      <th>5</th>\n",
              "      <td>1</td>\n",
              "      <td>1</td>\n",
              "    </tr>\n",
              "    <tr>\n",
              "      <th>6</th>\n",
              "      <td>2</td>\n",
              "      <td>2</td>\n",
              "    </tr>\n",
              "    <tr>\n",
              "      <th>7</th>\n",
              "      <td>2</td>\n",
              "      <td>2</td>\n",
              "    </tr>\n",
              "    <tr>\n",
              "      <th>8</th>\n",
              "      <td>0</td>\n",
              "      <td>0</td>\n",
              "    </tr>\n",
              "    <tr>\n",
              "      <th>9</th>\n",
              "      <td>0</td>\n",
              "      <td>0</td>\n",
              "    </tr>\n",
              "  </tbody>\n",
              "</table>\n",
              "</div>"
            ],
            "text/plain": [
              "   Actual  Predicted\n",
              "0       0          0\n",
              "1       2          2\n",
              "2       2          2\n",
              "3       2          2\n",
              "4       1          1\n",
              "5       1          1\n",
              "6       2          2\n",
              "7       2          2\n",
              "8       0          0\n",
              "9       0          0"
            ]
          },
          "metadata": {
            "tags": []
          },
          "execution_count": 63
        }
      ]
    },
    {
      "cell_type": "markdown",
      "metadata": {
        "id": "aTelPf9_ytpF"
      },
      "source": [
        "**Evaluating the model**"
      ]
    },
    {
      "cell_type": "code",
      "metadata": {
        "id": "KNyQrPlIxHpz",
        "outputId": "45b17b76-03a6-4cf2-aa26-db74a58ed28a",
        "colab": {
          "base_uri": "https://localhost:8080/",
          "height": 90
        }
      },
      "source": [
        "# Evaluating the model\n",
        "\n",
        "# get the confusion matrix showing the number of predicted model\n",
        "from sklearn.metrics import confusion_matrix\n",
        "confusion_matrix = confusion_matrix(y_test, y_pred)\n",
        "print(confusion_matrix)\n",
        "\n",
        "# get accuracy of the model \n",
        "from sklearn.metrics import accuracy_score\n",
        "accuracy = accuracy_score(y_test, y_pred)\n",
        "print('Accuracy of the model: ', accuracy)"
      ],
      "execution_count": null,
      "outputs": [
        {
          "output_type": "stream",
          "text": [
            "[[416   0   0]\n",
            " [  0 393   0]\n",
            " [  0   0 700]]\n",
            "Accuracy of the model:  1.0\n"
          ],
          "name": "stdout"
        }
      ]
    },
    {
      "cell_type": "markdown",
      "metadata": {
        "id": "vLU8BDWsy3qO"
      },
      "source": [
        ">The results from the confusion matrix tell us that the total number of correct prediction is 1509, with 0 incorrect predictions. This is a case of overfitting which requires further investigation"
      ]
    },
    {
      "cell_type": "markdown",
      "metadata": {
        "id": "C44xbhq3z4TW"
      },
      "source": [
        "<font color = 'green'>Hyperparameter Tuning using RandomSearchCV"
      ]
    },
    {
      "cell_type": "code",
      "metadata": {
        "id": "Ad3_GmiYz5Ia",
        "outputId": "14d78528-3c9a-4ef0-f49d-adeebfc28939",
        "colab": {
          "base_uri": "https://localhost:8080/",
          "height": 35
        }
      },
      "source": [
        "# defining features and label sets\n",
        "X = log_data.drop('status_y', 1).values\n",
        "y = log_data['status_y'].values\n",
        "\n",
        "# Scaling features\n",
        "X = StandardScaler().fit_transform(X)\n",
        "\n",
        "# split data into test and train sets\n",
        "X_train, X_test, y_train, y_test = train_test_split(X, y, test_size = 0.2, random_state = 0)\n",
        "\n",
        "# Training and Cross Validation\n",
        "# \n",
        "from sklearn.ensemble import RandomForestClassifier\n",
        "classifier = RandomForestClassifier(n_estimators=300, random_state=0)\n",
        "\n",
        "# The cross_val_score returns the accuracy for all the folds.\n",
        "from sklearn.model_selection import cross_val_score\n",
        "all_accuracies = cross_val_score(estimator=classifier, X=X_train, y=y_train, cv=10)\n",
        "\n",
        "# Printing the accuracies returned for 10 folds \n",
        "print(all_accuracies.mean())"
      ],
      "execution_count": null,
      "outputs": [
        {
          "output_type": "stream",
          "text": [
            "0.9998341625207298\n"
          ],
          "name": "stdout"
        }
      ]
    },
    {
      "cell_type": "markdown",
      "metadata": {
        "id": "nyyBumZ6Hskc"
      },
      "source": [
        ">The mean accuracies for the 10 kfolds is 0.99983 which is very close to the initial accuracy of 1.0"
      ]
    },
    {
      "cell_type": "code",
      "metadata": {
        "id": "2jwefQ742F2H",
        "outputId": "6843fc5c-a569-4496-8725-5720d36e5fd8",
        "colab": {
          "base_uri": "https://localhost:8080/",
          "height": 1000
        }
      },
      "source": [
        "# specify parameters and distributions to sample from\n",
        "from scipy.stats import randint as sp_randint\n",
        "param_dist = {\"max_depth\": [3, None],\n",
        "              \"max_features\": sp_randint(1, 11),\n",
        "              \"min_samples_split\": sp_randint(2, 11),\n",
        "              \"bootstrap\": [True, False],\n",
        "              \"criterion\": [\"gini\", \"entropy\"]}\n",
        "\n",
        "# Instantiating RandomizedSearchCV object  \n",
        "\n",
        "from sklearn.model_selection import RandomizedSearchCV \n",
        "random_sr = RandomizedSearchCV(classifier, param_dist, cv = 10)\n",
        "\n",
        "# Calling the fit method\n",
        "random_sr.fit(X_train, y_train)\n"
      ],
      "execution_count": null,
      "outputs": [
        {
          "output_type": "stream",
          "text": [
            "/usr/local/lib/python3.6/dist-packages/sklearn/model_selection/_validation.py:536: FitFailedWarning: Estimator fit failed. The score on this train-test partition for these parameters will be set to nan. Details: \n",
            "ValueError: max_features must be in (0, n_features]\n",
            "\n",
            "  FitFailedWarning)\n",
            "/usr/local/lib/python3.6/dist-packages/sklearn/model_selection/_validation.py:536: FitFailedWarning: Estimator fit failed. The score on this train-test partition for these parameters will be set to nan. Details: \n",
            "ValueError: max_features must be in (0, n_features]\n",
            "\n",
            "  FitFailedWarning)\n",
            "/usr/local/lib/python3.6/dist-packages/sklearn/model_selection/_validation.py:536: FitFailedWarning: Estimator fit failed. The score on this train-test partition for these parameters will be set to nan. Details: \n",
            "ValueError: max_features must be in (0, n_features]\n",
            "\n",
            "  FitFailedWarning)\n",
            "/usr/local/lib/python3.6/dist-packages/sklearn/model_selection/_validation.py:536: FitFailedWarning: Estimator fit failed. The score on this train-test partition for these parameters will be set to nan. Details: \n",
            "ValueError: max_features must be in (0, n_features]\n",
            "\n",
            "  FitFailedWarning)\n",
            "/usr/local/lib/python3.6/dist-packages/sklearn/model_selection/_validation.py:536: FitFailedWarning: Estimator fit failed. The score on this train-test partition for these parameters will be set to nan. Details: \n",
            "ValueError: max_features must be in (0, n_features]\n",
            "\n",
            "  FitFailedWarning)\n",
            "/usr/local/lib/python3.6/dist-packages/sklearn/model_selection/_validation.py:536: FitFailedWarning: Estimator fit failed. The score on this train-test partition for these parameters will be set to nan. Details: \n",
            "ValueError: max_features must be in (0, n_features]\n",
            "\n",
            "  FitFailedWarning)\n",
            "/usr/local/lib/python3.6/dist-packages/sklearn/model_selection/_validation.py:536: FitFailedWarning: Estimator fit failed. The score on this train-test partition for these parameters will be set to nan. Details: \n",
            "ValueError: max_features must be in (0, n_features]\n",
            "\n",
            "  FitFailedWarning)\n",
            "/usr/local/lib/python3.6/dist-packages/sklearn/model_selection/_validation.py:536: FitFailedWarning: Estimator fit failed. The score on this train-test partition for these parameters will be set to nan. Details: \n",
            "ValueError: max_features must be in (0, n_features]\n",
            "\n",
            "  FitFailedWarning)\n",
            "/usr/local/lib/python3.6/dist-packages/sklearn/model_selection/_validation.py:536: FitFailedWarning: Estimator fit failed. The score on this train-test partition for these parameters will be set to nan. Details: \n",
            "ValueError: max_features must be in (0, n_features]\n",
            "\n",
            "  FitFailedWarning)\n",
            "/usr/local/lib/python3.6/dist-packages/sklearn/model_selection/_validation.py:536: FitFailedWarning: Estimator fit failed. The score on this train-test partition for these parameters will be set to nan. Details: \n",
            "ValueError: max_features must be in (0, n_features]\n",
            "\n",
            "  FitFailedWarning)\n",
            "/usr/local/lib/python3.6/dist-packages/sklearn/model_selection/_validation.py:536: FitFailedWarning: Estimator fit failed. The score on this train-test partition for these parameters will be set to nan. Details: \n",
            "ValueError: max_features must be in (0, n_features]\n",
            "\n",
            "  FitFailedWarning)\n",
            "/usr/local/lib/python3.6/dist-packages/sklearn/model_selection/_validation.py:536: FitFailedWarning: Estimator fit failed. The score on this train-test partition for these parameters will be set to nan. Details: \n",
            "ValueError: max_features must be in (0, n_features]\n",
            "\n",
            "  FitFailedWarning)\n",
            "/usr/local/lib/python3.6/dist-packages/sklearn/model_selection/_validation.py:536: FitFailedWarning: Estimator fit failed. The score on this train-test partition for these parameters will be set to nan. Details: \n",
            "ValueError: max_features must be in (0, n_features]\n",
            "\n",
            "  FitFailedWarning)\n",
            "/usr/local/lib/python3.6/dist-packages/sklearn/model_selection/_validation.py:536: FitFailedWarning: Estimator fit failed. The score on this train-test partition for these parameters will be set to nan. Details: \n",
            "ValueError: max_features must be in (0, n_features]\n",
            "\n",
            "  FitFailedWarning)\n",
            "/usr/local/lib/python3.6/dist-packages/sklearn/model_selection/_validation.py:536: FitFailedWarning: Estimator fit failed. The score on this train-test partition for these parameters will be set to nan. Details: \n",
            "ValueError: max_features must be in (0, n_features]\n",
            "\n",
            "  FitFailedWarning)\n",
            "/usr/local/lib/python3.6/dist-packages/sklearn/model_selection/_validation.py:536: FitFailedWarning: Estimator fit failed. The score on this train-test partition for these parameters will be set to nan. Details: \n",
            "ValueError: max_features must be in (0, n_features]\n",
            "\n",
            "  FitFailedWarning)\n",
            "/usr/local/lib/python3.6/dist-packages/sklearn/model_selection/_validation.py:536: FitFailedWarning: Estimator fit failed. The score on this train-test partition for these parameters will be set to nan. Details: \n",
            "ValueError: max_features must be in (0, n_features]\n",
            "\n",
            "  FitFailedWarning)\n",
            "/usr/local/lib/python3.6/dist-packages/sklearn/model_selection/_validation.py:536: FitFailedWarning: Estimator fit failed. The score on this train-test partition for these parameters will be set to nan. Details: \n",
            "ValueError: max_features must be in (0, n_features]\n",
            "\n",
            "  FitFailedWarning)\n",
            "/usr/local/lib/python3.6/dist-packages/sklearn/model_selection/_validation.py:536: FitFailedWarning: Estimator fit failed. The score on this train-test partition for these parameters will be set to nan. Details: \n",
            "ValueError: max_features must be in (0, n_features]\n",
            "\n",
            "  FitFailedWarning)\n",
            "/usr/local/lib/python3.6/dist-packages/sklearn/model_selection/_validation.py:536: FitFailedWarning: Estimator fit failed. The score on this train-test partition for these parameters will be set to nan. Details: \n",
            "ValueError: max_features must be in (0, n_features]\n",
            "\n",
            "  FitFailedWarning)\n",
            "/usr/local/lib/python3.6/dist-packages/sklearn/model_selection/_validation.py:536: FitFailedWarning: Estimator fit failed. The score on this train-test partition for these parameters will be set to nan. Details: \n",
            "ValueError: max_features must be in (0, n_features]\n",
            "\n",
            "  FitFailedWarning)\n",
            "/usr/local/lib/python3.6/dist-packages/sklearn/model_selection/_validation.py:536: FitFailedWarning: Estimator fit failed. The score on this train-test partition for these parameters will be set to nan. Details: \n",
            "ValueError: max_features must be in (0, n_features]\n",
            "\n",
            "  FitFailedWarning)\n",
            "/usr/local/lib/python3.6/dist-packages/sklearn/model_selection/_validation.py:536: FitFailedWarning: Estimator fit failed. The score on this train-test partition for these parameters will be set to nan. Details: \n",
            "ValueError: max_features must be in (0, n_features]\n",
            "\n",
            "  FitFailedWarning)\n",
            "/usr/local/lib/python3.6/dist-packages/sklearn/model_selection/_validation.py:536: FitFailedWarning: Estimator fit failed. The score on this train-test partition for these parameters will be set to nan. Details: \n",
            "ValueError: max_features must be in (0, n_features]\n",
            "\n",
            "  FitFailedWarning)\n",
            "/usr/local/lib/python3.6/dist-packages/sklearn/model_selection/_validation.py:536: FitFailedWarning: Estimator fit failed. The score on this train-test partition for these parameters will be set to nan. Details: \n",
            "ValueError: max_features must be in (0, n_features]\n",
            "\n",
            "  FitFailedWarning)\n",
            "/usr/local/lib/python3.6/dist-packages/sklearn/model_selection/_validation.py:536: FitFailedWarning: Estimator fit failed. The score on this train-test partition for these parameters will be set to nan. Details: \n",
            "ValueError: max_features must be in (0, n_features]\n",
            "\n",
            "  FitFailedWarning)\n",
            "/usr/local/lib/python3.6/dist-packages/sklearn/model_selection/_validation.py:536: FitFailedWarning: Estimator fit failed. The score on this train-test partition for these parameters will be set to nan. Details: \n",
            "ValueError: max_features must be in (0, n_features]\n",
            "\n",
            "  FitFailedWarning)\n",
            "/usr/local/lib/python3.6/dist-packages/sklearn/model_selection/_validation.py:536: FitFailedWarning: Estimator fit failed. The score on this train-test partition for these parameters will be set to nan. Details: \n",
            "ValueError: max_features must be in (0, n_features]\n",
            "\n",
            "  FitFailedWarning)\n",
            "/usr/local/lib/python3.6/dist-packages/sklearn/model_selection/_validation.py:536: FitFailedWarning: Estimator fit failed. The score on this train-test partition for these parameters will be set to nan. Details: \n",
            "ValueError: max_features must be in (0, n_features]\n",
            "\n",
            "  FitFailedWarning)\n",
            "/usr/local/lib/python3.6/dist-packages/sklearn/model_selection/_validation.py:536: FitFailedWarning: Estimator fit failed. The score on this train-test partition for these parameters will be set to nan. Details: \n",
            "ValueError: max_features must be in (0, n_features]\n",
            "\n",
            "  FitFailedWarning)\n",
            "/usr/local/lib/python3.6/dist-packages/sklearn/model_selection/_validation.py:536: FitFailedWarning: Estimator fit failed. The score on this train-test partition for these parameters will be set to nan. Details: \n",
            "ValueError: max_features must be in (0, n_features]\n",
            "\n",
            "  FitFailedWarning)\n",
            "/usr/local/lib/python3.6/dist-packages/sklearn/model_selection/_validation.py:536: FitFailedWarning: Estimator fit failed. The score on this train-test partition for these parameters will be set to nan. Details: \n",
            "ValueError: max_features must be in (0, n_features]\n",
            "\n",
            "  FitFailedWarning)\n",
            "/usr/local/lib/python3.6/dist-packages/sklearn/model_selection/_validation.py:536: FitFailedWarning: Estimator fit failed. The score on this train-test partition for these parameters will be set to nan. Details: \n",
            "ValueError: max_features must be in (0, n_features]\n",
            "\n",
            "  FitFailedWarning)\n",
            "/usr/local/lib/python3.6/dist-packages/sklearn/model_selection/_validation.py:536: FitFailedWarning: Estimator fit failed. The score on this train-test partition for these parameters will be set to nan. Details: \n",
            "ValueError: max_features must be in (0, n_features]\n",
            "\n",
            "  FitFailedWarning)\n",
            "/usr/local/lib/python3.6/dist-packages/sklearn/model_selection/_validation.py:536: FitFailedWarning: Estimator fit failed. The score on this train-test partition for these parameters will be set to nan. Details: \n",
            "ValueError: max_features must be in (0, n_features]\n",
            "\n",
            "  FitFailedWarning)\n",
            "/usr/local/lib/python3.6/dist-packages/sklearn/model_selection/_validation.py:536: FitFailedWarning: Estimator fit failed. The score on this train-test partition for these parameters will be set to nan. Details: \n",
            "ValueError: max_features must be in (0, n_features]\n",
            "\n",
            "  FitFailedWarning)\n",
            "/usr/local/lib/python3.6/dist-packages/sklearn/model_selection/_validation.py:536: FitFailedWarning: Estimator fit failed. The score on this train-test partition for these parameters will be set to nan. Details: \n",
            "ValueError: max_features must be in (0, n_features]\n",
            "\n",
            "  FitFailedWarning)\n",
            "/usr/local/lib/python3.6/dist-packages/sklearn/model_selection/_validation.py:536: FitFailedWarning: Estimator fit failed. The score on this train-test partition for these parameters will be set to nan. Details: \n",
            "ValueError: max_features must be in (0, n_features]\n",
            "\n",
            "  FitFailedWarning)\n",
            "/usr/local/lib/python3.6/dist-packages/sklearn/model_selection/_validation.py:536: FitFailedWarning: Estimator fit failed. The score on this train-test partition for these parameters will be set to nan. Details: \n",
            "ValueError: max_features must be in (0, n_features]\n",
            "\n",
            "  FitFailedWarning)\n",
            "/usr/local/lib/python3.6/dist-packages/sklearn/model_selection/_validation.py:536: FitFailedWarning: Estimator fit failed. The score on this train-test partition for these parameters will be set to nan. Details: \n",
            "ValueError: max_features must be in (0, n_features]\n",
            "\n",
            "  FitFailedWarning)\n"
          ],
          "name": "stderr"
        },
        {
          "output_type": "execute_result",
          "data": {
            "text/plain": [
              "RandomizedSearchCV(cv=10, error_score=nan,\n",
              "                   estimator=RandomForestClassifier(bootstrap=True,\n",
              "                                                    ccp_alpha=0.0,\n",
              "                                                    class_weight=None,\n",
              "                                                    criterion='gini',\n",
              "                                                    max_depth=None,\n",
              "                                                    max_features='auto',\n",
              "                                                    max_leaf_nodes=None,\n",
              "                                                    max_samples=None,\n",
              "                                                    min_impurity_decrease=0.0,\n",
              "                                                    min_impurity_split=None,\n",
              "                                                    min_samples_leaf=1,\n",
              "                                                    min_samples_split=2,\n",
              "                                                    min_weight_fraction_leaf=0.0,\n",
              "                                                    n_estimators=300,\n",
              "                                                    n_job...\n",
              "                   param_distributions={'bootstrap': [True, False],\n",
              "                                        'criterion': ['gini', 'entropy'],\n",
              "                                        'max_depth': [3, None],\n",
              "                                        'max_features': <scipy.stats._distn_infrastructure.rv_frozen object at 0x7fb5004a6320>,\n",
              "                                        'min_samples_split': <scipy.stats._distn_infrastructure.rv_frozen object at 0x7fb5039afa58>},\n",
              "                   pre_dispatch='2*n_jobs', random_state=None, refit=True,\n",
              "                   return_train_score=False, scoring=None, verbose=0)"
            ]
          },
          "metadata": {
            "tags": []
          },
          "execution_count": 66
        }
      ]
    },
    {
      "cell_type": "code",
      "metadata": {
        "id": "U4M44MQ42tpx",
        "outputId": "5d588d40-e5c1-4882-cd7f-0580d788a6b5",
        "colab": {
          "base_uri": "https://localhost:8080/",
          "height": 35
        }
      },
      "source": [
        "# Checking the parameters that return the highest accuracy\n",
        "best_parameters = random_sr.best_params_\n",
        "print(best_parameters)"
      ],
      "execution_count": null,
      "outputs": [
        {
          "output_type": "stream",
          "text": [
            "{'bootstrap': True, 'criterion': 'entropy', 'max_depth': None, 'max_features': 3, 'min_samples_split': 5}\n"
          ],
          "name": "stdout"
        }
      ]
    },
    {
      "cell_type": "code",
      "metadata": {
        "id": "R1imNFyN2ztF",
        "outputId": "a36e96e6-642e-4189-dd03-f264298672f2",
        "colab": {
          "base_uri": "https://localhost:8080/",
          "height": 35
        }
      },
      "source": [
        "# Finding the obtained accuracy\n",
        "best_result = random_sr.best_score_\n",
        "print(best_result)\n"
      ],
      "execution_count": null,
      "outputs": [
        {
          "output_type": "stream",
          "text": [
            "1.0\n"
          ],
          "name": "stdout"
        }
      ]
    },
    {
      "cell_type": "markdown",
      "metadata": {
        "id": "foDvz343438G"
      },
      "source": [
        ">The accuracy obtained is also 1.0 similar to what was obtained inititally."
      ]
    },
    {
      "cell_type": "markdown",
      "metadata": {
        "id": "N0_odrg15IE-"
      },
      "source": [
        "# Challenging the solution"
      ]
    },
    {
      "cell_type": "markdown",
      "metadata": {
        "id": "Jfhys-y55MNS"
      },
      "source": [
        ">The Logistic approach looks promising compared to the polynomial approach since it had a high accuracy score and predicted all values correct. However, this is a case of overfitting and should be investigated more through cross-validation. \n",
        "\n",
        "\n",
        "\n",
        "\n"
      ]
    },
    {
      "cell_type": "markdown",
      "metadata": {
        "id": "HsYdSrzR6PGe"
      },
      "source": [
        "# Follow up questions"
      ]
    },
    {
      "cell_type": "markdown",
      "metadata": {
        "id": "InpZx6sX6Set"
      },
      "source": [
        "## a). Did we have the right data?"
      ]
    },
    {
      "cell_type": "markdown",
      "metadata": {
        "id": "03ofImq-6xcZ"
      },
      "source": [
        ">Yes, the data available was appropriate for the research question that was stated. "
      ]
    },
    {
      "cell_type": "markdown",
      "metadata": {
        "id": "QA45S2-t69z6"
      },
      "source": [
        "## b). Do we need other data to answer our question?"
      ]
    },
    {
      "cell_type": "markdown",
      "metadata": {
        "id": "FBW4Q35-7K4o"
      },
      "source": [
        ">It would be desirable if more variables were added. This would improve the predictive level of our model especially if some factors such as quality of quaterbacks, quality of other players, weather conditions during the match, injuries and suspensions of team players"
      ]
    },
    {
      "cell_type": "markdown",
      "metadata": {
        "id": "jUObm_oH8Qs5"
      },
      "source": [
        "## c). Did we have the right question?"
      ]
    },
    {
      "cell_type": "markdown",
      "metadata": {
        "id": "zLHgYS6L8Szi"
      },
      "source": [
        ">The research question was specific and appropriate for our needs and data available"
      ]
    },
    {
      "cell_type": "code",
      "metadata": {
        "id": "lOBkDPKt6FdN"
      },
      "source": [
        ""
      ],
      "execution_count": null,
      "outputs": []
    }
  ]
}